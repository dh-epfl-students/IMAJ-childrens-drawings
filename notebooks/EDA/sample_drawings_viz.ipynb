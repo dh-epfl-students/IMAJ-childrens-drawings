{
 "cells": [
  {
   "cell_type": "markdown",
   "id": "11b84ed1-8fe7-4e59-b2c5-d796b2f6adee",
   "metadata": {},
   "source": [
    "# Visualizing sample drawings from different age categories and Countries"
   ]
  },
  {
   "cell_type": "code",
   "execution_count": null,
   "id": "fc509c9b-aa65-4c87-b42a-5f2e3dd0a9dc",
   "metadata": {},
   "outputs": [],
   "source": [
    "import os\n",
    "import numpy as np\n",
    "import pandas as pd\n",
    "import matplotlib.pyplot as plt\n",
    "import matplotlib.image as img\n",
    "import seaborn as sns\n",
    "from tqdm import tqdm\n",
    "import plotly.express as px"
   ]
  },
  {
   "cell_type": "code",
   "execution_count": null,
   "id": "21935516-c1f4-4dc0-b5c6-ed326df72cbf",
   "metadata": {},
   "outputs": [],
   "source": [
    "# utility function to plot the images on a grid\n",
    "\n",
    "def plot_sample_image_grid(n_row, n_col, data_folder, metadata_df, plt_title):\n",
    "    with plt.xkcd():\n",
    "        sample_df = metadata_df.sample(n_row * n_col)\n",
    "        img_paths = sample_df.path.values\n",
    "        imgs = [img.imread(data_folder + imgpath) for imgpath in img_paths]\n",
    "        _, axs = plt.subplots(n_row, n_col, dpi=200)\n",
    "        axs = axs.flatten()\n",
    "        for image, ax in zip(imgs, axs):\n",
    "            ax.imshow(image)\n",
    "            ax.axis(False)\n",
    "        plt.tight_layout()\n",
    "        plt.show()    "
   ]
  },
  {
   "cell_type": "markdown",
   "id": "f39397a6-53ea-4618-bc05-172f75fb9edb",
   "metadata": {},
   "source": [
    "The drawings are visualized in a grid form. The `rows` and `cols` variables set the number of rows and columns of the grid. The default values are set to 5 each."
   ]
  },
  {
   "cell_type": "code",
   "execution_count": null,
   "id": "2ce0caf1-00da-4684-91a3-0ba969921047",
   "metadata": {},
   "outputs": [],
   "source": [
    "rows, cols = 5,5"
   ]
  },
  {
   "cell_type": "code",
   "execution_count": null,
   "id": "b78de546-94e2-4b12-9419-0a4bf9d6fcf0",
   "metadata": {},
   "outputs": [],
   "source": [
    "# Read the metadata file of the drawings\n",
    "drawings_metadata = pd.read_csv(\"./../../data/text_data/metadata/drawings_full_metadata.csv\")\n",
    "\n",
    "# The style augmented drawings are removed as they are not the original creations.\n",
    "values_to_remove = [\"_gray\", \"_oil\", \"_pencil_gray\", \"_texture\", \"_water\"]\n",
    "pattern = \"|\".join(values_to_remove)\n",
    "drawings_metadata = drawings_metadata.loc[\n",
    "    ~(drawings_metadata[\"uid\"].str.contains(pattern, case=False))\n",
    "]"
   ]
  },
  {
   "cell_type": "markdown",
   "id": "51693408-461b-4904-a7bb-9820c95f9f89",
   "metadata": {
    "tags": []
   },
   "source": [
    "### Age Group wise Plotting"
   ]
  },
  {
   "cell_type": "code",
   "execution_count": null,
   "id": "99ef7701-da7c-41e1-9816-31fb2b8c440d",
   "metadata": {},
   "outputs": [],
   "source": [
    "# drawings are separated based on the age group\n",
    "drawings_metadata_3_5 = drawings_metadata[drawings_metadata[\"age_group\"]==\"3-5\"]\n",
    "drawings_metadata_6_9 = drawings_metadata[drawings_metadata[\"age_group\"]==\"6-9\"]\n",
    "drawings_metadata_10_13 = drawings_metadata[drawings_metadata[\"age_group\"]==\"10-13\"]\n",
    "drawings_metadata_14_17 = drawings_metadata[drawings_metadata[\"age_group\"]==\"14-17\"]\n",
    "drawings_metadata_18_25 = drawings_metadata[drawings_metadata[\"age_group\"]==\"18-25\"]\n",
    "drawings_metadata_MS = drawings_metadata[drawings_metadata[\"age_group\"]==\"MS\"]"
   ]
  },
  {
   "cell_type": "code",
   "execution_count": null,
   "id": "76ecd8f7-85ac-4c0a-a8ff-1657c91e0b63",
   "metadata": {},
   "outputs": [],
   "source": [
    "plot_sample_image_grid(rows, cols, \"./../../data/\", drawings_metadata_3_5, \"Sample drawings by children in 3-5 age category\")"
   ]
  },
  {
   "cell_type": "code",
   "execution_count": null,
   "id": "c86ea72a-d1ec-4efd-89f5-a6c03dbb1c46",
   "metadata": {},
   "outputs": [],
   "source": [
    "plot_sample_image_grid(rows, cols, \"./../../data/\", drawings_metadata_6_9, \"Sample drawings by children in 6-9 age category\")"
   ]
  },
  {
   "cell_type": "code",
   "execution_count": null,
   "id": "1acd231c-57f6-4ea3-ac7f-228b82fe0edd",
   "metadata": {},
   "outputs": [],
   "source": [
    "plot_sample_image_grid(rows, cols, \"./../../data/\", drawings_metadata_10_13, \"Sample drawings by children in 10-13 age category\")"
   ]
  },
  {
   "cell_type": "code",
   "execution_count": null,
   "id": "6440a377-c14c-4eac-81db-1a0a92a28d10",
   "metadata": {},
   "outputs": [],
   "source": [
    "plot_sample_image_grid(rows, cols, \"./../../data/\", drawings_metadata_14_17, \"Sample drawings by children in 14-17 age category\")"
   ]
  },
  {
   "cell_type": "code",
   "execution_count": null,
   "id": "a570e40f-0519-4b52-b284-8db980560c19",
   "metadata": {},
   "outputs": [],
   "source": [
    "plot_sample_image_grid(rows, cols, \"./../../data/\", drawings_metadata_18_25, \"Sample drawings by children in 18-25 age category\")"
   ]
  },
  {
   "cell_type": "code",
   "execution_count": null,
   "id": "e5d6e0d7-c825-4ab0-8e2c-dec641a3fc38",
   "metadata": {},
   "outputs": [],
   "source": [
    "plot_sample_image_grid(rows, cols, \"./../../data/\", drawings_metadata_MS, \"Sample drawings by children in MS age category\")"
   ]
  },
  {
   "cell_type": "markdown",
   "id": "526a0b9b-ca95-4ac0-b3e9-6980620c881b",
   "metadata": {
    "tags": []
   },
   "source": [
    "### Country wise Plotting"
   ]
  },
  {
   "cell_type": "code",
   "execution_count": null,
   "id": "a374aae1-a481-40e5-b11b-aa269d3aefee",
   "metadata": {},
   "outputs": [],
   "source": [
    "drawings_metadata_SRI = drawings_metadata[drawings_metadata[\"country\"]==\"LKA\"]"
   ]
  },
  {
   "cell_type": "code",
   "execution_count": null,
   "id": "7932a083-2cbd-4e93-b56b-e66d78036223",
   "metadata": {},
   "outputs": [],
   "source": [
    "plot_sample_image_grid(5, 5, \"./../../data/\", drawings_metadata, \"Sample drawings by children from Sri Lanka\")"
   ]
  },
  {
   "cell_type": "code",
   "execution_count": null,
   "id": "36e4912c-b68d-4f62-9643-41f3baeae7c2",
   "metadata": {},
   "outputs": [],
   "source": [
    "drawings_metadata_FRA = drawings_metadata[drawings_metadata[\"country\"]==\"FRA\"]"
   ]
  },
  {
   "cell_type": "code",
   "execution_count": null,
   "id": "801ed679-e107-4ac8-87ed-7869b3219560",
   "metadata": {},
   "outputs": [],
   "source": [
    "plot_sample_image_grid(5, 5, \"./../../data/\", drawings_metadata, \"Sample drawings by children from France\")"
   ]
  },
  {
   "cell_type": "code",
   "execution_count": null,
   "id": "d6b8cc52-ac77-4e58-837b-1d320a6e7ad0",
   "metadata": {},
   "outputs": [],
   "source": []
  }
 ],
 "metadata": {
  "kernelspec": {
   "display_name": "unesco_drawings",
   "language": "python",
   "name": "unesco_drawings"
  },
  "language_info": {
   "codemirror_mode": {
    "name": "ipython",
    "version": 3
   },
   "file_extension": ".py",
   "mimetype": "text/x-python",
   "name": "python",
   "nbconvert_exporter": "python",
   "pygments_lexer": "ipython3",
   "version": "3.9.7"
  }
 },
 "nbformat": 4,
 "nbformat_minor": 5
}
