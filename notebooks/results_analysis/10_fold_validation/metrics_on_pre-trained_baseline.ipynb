{
 "cells": [
  {
   "cell_type": "markdown",
   "id": "a395ab69-eef4-4500-8b7b-821627220b29",
   "metadata": {},
   "source": [
    "# Metrics of pre trained ResNeXt-101 and ResNet-101 with augmented images"
   ]
  },
  {
   "cell_type": "code",
   "execution_count": 1,
   "id": "1dfe756e-4193-40ca-8db8-a7f30fa03382",
   "metadata": {},
   "outputs": [],
   "source": [
    "import pandas as pd\n",
    "import sys\n",
    "import pickle\n",
    "\n",
    "sys.path.insert(0, \"./../../../src/utils/\")\n",
    "\n",
    "from utils import get_train_test_split\n",
    "\n",
    "import matplotlib.pyplot as plt\n",
    "import matplotlib.image as img\n",
    "import numpy as np\n",
    "from tqdm import tqdm\n",
    "\n",
    "from matplotlib.backends.backend_pdf import PdfPages\n",
    "import matplotlib.gridspec as gridspec\n",
    "\n",
    "from utils import get_scores"
   ]
  },
  {
   "cell_type": "code",
   "execution_count": 2,
   "id": "8d31f186-3414-4d42-aa0a-c734baed9fc9",
   "metadata": {},
   "outputs": [],
   "source": [
    "def get_averaged_df(score_dataframe):\n",
    "    a = score_dataframe.groupby(\"model\").agg(['mean', 'std'])\n",
    "    a.columns = list(map('_'.join, a.columns.values))\n",
    "    a[\"MP\"] = round(a[\"MP_mean\"], 2).astype(str) + \" ± \" + round(a[\"MP_std\"], 2).astype(str)\n",
    "    a[\"MMP\"] = round(a[\"MMP_mean\"], 2).astype(str) + \" ± \" + round(a[\"MMP_std\"], 2).astype(str)\n",
    "    a[\"mean_median_position\"] = round(a[\"mean_median_position_mean\"], 2).astype(str) + \" ± \" + round(a[\"mean_median_position_std\"], 2).astype(str)\n",
    "    a[\"MAP\"] = round(a[\"MAP_mean\"], 2).astype(str) + \" ± \" + round(a[\"MAP_std\"], 2).astype(str)\n",
    "    a[\"R@400\"] = round(a[\"R@400_mean\"], 2).astype(str) + \" ± \" + round(a[\"R@400_std\"], 2).astype(str)\n",
    "    a[\"R@200\"] = round(a[\"R@200_mean\"], 2).astype(str) + \" ± \" + round(a[\"R@200_std\"], 2).astype(str)\n",
    "    a[\"R@100\"] = round(a[\"R@100_mean\"], 2).astype(str) + \" ± \" + round(a[\"R@100_std\"], 2).astype(str)\n",
    "    a[\"R@50\"] = round(a[\"R@50_mean\"], 2).astype(str) + \" ± \" + round(a[\"R@50_std\"], 2).astype(str)\n",
    "    a[\"R@20\"] = round(a[\"R@20_mean\"], 2).astype(str) + \" ± \" + round(a[\"R@20_std\"], 2).astype(str)\n",
    "\n",
    "    b = a[[\"MP\", \"MMP\", 'MAP','R@400', 'R@200', 'R@100', 'R@50', 'R@20']].reset_index()\n",
    "    score_dataframe_avg_df = b.replace({\"resnet\": \"ResNet-101\", \"resnext\": \"ResNeXT-101\"})\n",
    "    \n",
    "    return score_dataframe_avg_df"
   ]
  },
  {
   "cell_type": "code",
   "execution_count": 3,
   "id": "dc1dc547-240f-4722-a5ba-0634659df052",
   "metadata": {},
   "outputs": [],
   "source": [
    "data_folder = \"./../../../data/\"\n",
    "annotations_by_hand = \"./../../../data/manual_annotation/annotated_drawing_artwork_pairs.csv\"\n",
    "uid2path = \"./../../../data/text_data/uid2path.pkl\"\n",
    "\n",
    "drawings_embeddings_path_resnext = \"./../../../data/embeddings/drawings_learning_resnext-101_avg_280_epoch_0_initial.npy\"\n",
    "artworks_embeddings_path_resnext = \"./../../../data/embeddings/famous_artworks_resnext-101_avg_280_epoch_0_initial.npy\"\n",
    "\n",
    "drawings_embeddings_path_resnet = \"./../../../data/embeddings/drawings_learning_resnet101_avg_280_epoch_0_initial.npy\"\n",
    "artworks_embeddings_path_resnet = \"./../../../data/embeddings/famous_artworks_resnet101_avg_280_epoch_0_initial.npy\""
   ]
  },
  {
   "cell_type": "code",
   "execution_count": 4,
   "id": "026f22cb-1077-444a-b362-6da752553e61",
   "metadata": {},
   "outputs": [],
   "source": [
    "manually_annotated_df = pd.read_csv(annotations_by_hand)\n",
    "with open(uid2path, \"rb\") as outfile:\n",
    "    uid2path_df = pickle.load(outfile)\n",
    "    \n",
    "drawings_embeddings_resnext = np.load(drawings_embeddings_path_resnext, allow_pickle=True)\n",
    "artworks_embeddings_resnext = np.load(artworks_embeddings_path_resnext, allow_pickle=True)\n",
    "\n",
    "drawings_embeddings_resnet = np.load(drawings_embeddings_path_resnet, allow_pickle=True)\n",
    "artworks_embeddings_resnet = np.load(artworks_embeddings_path_resnet, allow_pickle=True)\n",
    "\n",
    "number_of_artworks = len(artworks_embeddings_resnext)"
   ]
  },
  {
   "cell_type": "code",
   "execution_count": 5,
   "id": "11c29eee-0f6e-4ec4-8c95-397cc39a6e70",
   "metadata": {},
   "outputs": [],
   "source": [
    "train_mets, val_mets,test_mets, non_train_mets = [], [], [], []"
   ]
  },
  {
   "cell_type": "markdown",
   "id": "c749d8f9-56ff-4ea7-8795-29d74b2dd867",
   "metadata": {},
   "source": [
    "## Resnext"
   ]
  },
  {
   "cell_type": "code",
   "execution_count": 6,
   "id": "4fddc006-5560-4abf-a5c9-bbcfbdb821d9",
   "metadata": {},
   "outputs": [
    {
     "name": "stderr",
     "output_type": "stream",
     "text": [
      "100%|████████████████████████████████████████████████████████████████████████████████| 596/596 [01:00<00:00,  9.83it/s]\n"
     ]
    },
    {
     "name": "stdout",
     "output_type": "stream",
     "text": [
      "Mean position of artwork:  978.1517543859649\n",
      "Mean of Minimum position of artwork:  1483.9874551971327\n",
      "Mean of median position of artwork:  951.0439068100359\n",
      "Mean Average Precision:  0.12250735646865588\n",
      "recall @ 400 0.45698924731182794\n",
      "recall @ 200 0.3888888888888889\n",
      "recall @ 100 0.3172043010752688\n",
      "recall @ 50 0.25985663082437277\n",
      "recall @ 20 0.20430107526881722\n"
     ]
    },
    {
     "name": "stderr",
     "output_type": "stream",
     "text": [
      "100%|███████████████████████████████████████████████████████████████████████████████| 596/596 [00:02<00:00, 292.65it/s]\n"
     ]
    },
    {
     "name": "stdout",
     "output_type": "stream",
     "text": [
      "Mean position of artwork:  979.925\n",
      "Mean of Minimum position of artwork:  1538.578947368421\n",
      "Mean of median position of artwork:  972.7105263157895\n",
      "Mean Average Precision:  0.169065186824115\n",
      "recall @ 400 0.47368421052631576\n",
      "recall @ 200 0.47368421052631576\n",
      "recall @ 100 0.42105263157894735\n",
      "recall @ 50 0.3684210526315789\n",
      "recall @ 20 0.2631578947368421\n"
     ]
    },
    {
     "name": "stderr",
     "output_type": "stream",
     "text": [
      "100%|███████████████████████████████████████████████████████████████████████████████| 596/596 [00:02<00:00, 296.28it/s]\n"
     ]
    },
    {
     "name": "stdout",
     "output_type": "stream",
     "text": [
      "Mean position of artwork:  1018.2\n",
      "Mean of Minimum position of artwork:  1675.157894736842\n",
      "Mean of median position of artwork:  1056.4736842105262\n",
      "Mean Average Precision:  0.09695262346483542\n",
      "recall @ 400 0.42105263157894735\n",
      "recall @ 200 0.3157894736842105\n",
      "recall @ 100 0.3157894736842105\n",
      "recall @ 50 0.3157894736842105\n",
      "recall @ 20 0.21052631578947367\n"
     ]
    },
    {
     "name": "stderr",
     "output_type": "stream",
     "text": [
      "100%|███████████████████████████████████████████████████████████████████████████████| 596/596 [00:04<00:00, 121.16it/s]\n"
     ]
    },
    {
     "name": "stdout",
     "output_type": "stream",
     "text": [
      "Mean position of artwork:  999.0625\n",
      "Mean of Minimum position of artwork:  1606.8684210526317\n",
      "Mean of median position of artwork:  1014.5921052631579\n",
      "Mean Average Precision:  0.13300890514447525\n",
      "recall @ 400 0.4473684210526316\n",
      "recall @ 200 0.39473684210526316\n",
      "recall @ 100 0.3684210526315789\n",
      "recall @ 50 0.34210526315789475\n",
      "recall @ 20 0.23684210526315788\n"
     ]
    }
   ],
   "source": [
    "draw_art_pairs_df_full = pd.read_csv(\"./../../../data/model_learning/drawing_artwork_pair_train_test_split.csv\")\n",
    "\n",
    "draw_art_pairs_df = draw_art_pairs_df_full[\n",
    "        (\n",
    "            (draw_art_pairs_df_full[\"set\"].isin([\"train\"]))\n",
    "            | (\n",
    "                (draw_art_pairs_df_full[\"set\"].isin([\"test\", \"val\"]))\n",
    "                & (\n",
    "                    draw_art_pairs_df_full[\"drawing_id\"]\n",
    "                    == draw_art_pairs_df_full[\"parent\"]\n",
    "                )\n",
    "            )\n",
    "        )\n",
    "    ].reset_index(drop=True)\n",
    "\n",
    "train_mets.append((\"0\", \"resnext\") + get_scores(drawings_embeddings_resnext, artworks_embeddings_resnext, draw_art_pairs_df, [\"train\"], number_of_artworks))\n",
    "\n",
    "val_mets.append((\"0\", \"resnext\") + get_scores(drawings_embeddings_resnext, artworks_embeddings_resnext, draw_art_pairs_df, [\"val\"], number_of_artworks))\n",
    "\n",
    "test_mets.append((\"0\", \"resnext\") + get_scores(drawings_embeddings_resnext, artworks_embeddings_resnext, draw_art_pairs_df, [\"test\"], number_of_artworks))\n",
    "\n",
    "non_train_mets.append((\"v0\", \"resnext\") + get_scores(drawings_embeddings_resnext, artworks_embeddings_resnext, draw_art_pairs_df, [\"val\", \"test\"], number_of_artworks))"
   ]
  },
  {
   "cell_type": "code",
   "execution_count": 7,
   "id": "e606532b-3bc0-4879-8f8d-144a6f932db1",
   "metadata": {},
   "outputs": [
    {
     "name": "stderr",
     "output_type": "stream",
     "text": [
      "100%|████████████████████████████████████████████████████████████████████████████████| 531/531 [00:50<00:00, 10.42it/s]\n"
     ]
    },
    {
     "name": "stdout",
     "output_type": "stream",
     "text": [
      "Mean position of artwork:  1000.9831349206349\n",
      "Mean of Minimum position of artwork:  1468.6270833333333\n",
      "Mean of median position of artwork:  960.8552083333333\n",
      "Mean Average Precision:  0.13977865462221348\n",
      "recall @ 400 0.45625\n",
      "recall @ 200 0.39791666666666664\n",
      "recall @ 100 0.3458333333333333\n",
      "recall @ 50 0.2833333333333333\n",
      "recall @ 20 0.23541666666666666\n"
     ]
    },
    {
     "name": "stderr",
     "output_type": "stream",
     "text": [
      "100%|███████████████████████████████████████████████████████████████████████████████| 531/531 [00:03<00:00, 159.17it/s]\n"
     ]
    },
    {
     "name": "stdout",
     "output_type": "stream",
     "text": [
      "Mean position of artwork:  872.7333333333333\n",
      "Mean of Minimum position of artwork:  1345.4666666666667\n",
      "Mean of median position of artwork:  872.7333333333333\n",
      "Mean Average Precision:  0.10518495133379899\n",
      "recall @ 400 0.4\n",
      "recall @ 200 0.4\n",
      "recall @ 100 0.3\n",
      "recall @ 50 0.26666666666666666\n",
      "recall @ 20 0.2\n"
     ]
    },
    {
     "name": "stderr",
     "output_type": "stream",
     "text": [
      "100%|███████████████████████████████████████████████████████████████████████████████| 531/531 [00:02<00:00, 233.93it/s]\n"
     ]
    },
    {
     "name": "stdout",
     "output_type": "stream",
     "text": [
      "Mean position of artwork:  1170.2380952380952\n",
      "Mean of Minimum position of artwork:  1940.4761904761904\n",
      "Mean of median position of artwork:  1170.2380952380952\n",
      "Mean Average Precision:  0.1126322560231866\n",
      "recall @ 400 0.5238095238095238\n",
      "recall @ 200 0.47619047619047616\n",
      "recall @ 100 0.2857142857142857\n",
      "recall @ 50 0.2857142857142857\n",
      "recall @ 20 0.19047619047619047\n"
     ]
    },
    {
     "name": "stderr",
     "output_type": "stream",
     "text": [
      "100%|████████████████████████████████████████████████████████████████████████████████| 531/531 [00:05<00:00, 94.48it/s]\n"
     ]
    },
    {
     "name": "stdout",
     "output_type": "stream",
     "text": [
      "Mean position of artwork:  995.2352941176471\n",
      "Mean of Minimum position of artwork:  1590.4705882352941\n",
      "Mean of median position of artwork:  995.2352941176471\n",
      "Mean Average Precision:  0.10825148855884094\n",
      "recall @ 400 0.45098039215686275\n",
      "recall @ 200 0.43137254901960786\n",
      "recall @ 100 0.29411764705882354\n",
      "recall @ 50 0.27450980392156865\n",
      "recall @ 20 0.19607843137254902\n"
     ]
    },
    {
     "name": "stderr",
     "output_type": "stream",
     "text": [
      "100%|████████████████████████████████████████████████████████████████████████████████| 541/541 [00:54<00:00, 10.02it/s]\n"
     ]
    },
    {
     "name": "stdout",
     "output_type": "stream",
     "text": [
      "Mean position of artwork:  982.285294117647\n",
      "Mean of Minimum position of artwork:  1442.4410569105692\n",
      "Mean of median position of artwork:  942.1819105691056\n",
      "Mean Average Precision:  0.13619198491021803\n",
      "recall @ 400 0.4878048780487805\n",
      "recall @ 200 0.43089430894308944\n",
      "recall @ 100 0.3678861788617886\n",
      "recall @ 50 0.30691056910569103\n",
      "recall @ 20 0.24390243902439024\n"
     ]
    },
    {
     "name": "stderr",
     "output_type": "stream",
     "text": [
      "100%|███████████████████████████████████████████████████████████████████████████████| 541/541 [00:02<00:00, 214.41it/s]\n"
     ]
    },
    {
     "name": "stdout",
     "output_type": "stream",
     "text": [
      "Mean position of artwork:  1142.8636363636363\n",
      "Mean of Minimum position of artwork:  1885.7272727272727\n",
      "Mean of median position of artwork:  1142.8636363636363\n",
      "Mean Average Precision:  0.09332845087968251\n",
      "recall @ 400 0.4090909090909091\n",
      "recall @ 200 0.22727272727272727\n",
      "recall @ 100 0.18181818181818182\n",
      "recall @ 50 0.09090909090909091\n",
      "recall @ 20 0.09090909090909091\n"
     ]
    },
    {
     "name": "stderr",
     "output_type": "stream",
     "text": [
      "100%|███████████████████████████████████████████████████████████████████████████████| 541/541 [00:03<00:00, 178.73it/s]\n"
     ]
    },
    {
     "name": "stdout",
     "output_type": "stream",
     "text": [
      "Mean position of artwork:  939.2142857142857\n",
      "Mean of Minimum position of artwork:  1499.851851851852\n",
      "Mean of median position of artwork:  963.2222222222222\n",
      "Mean Average Precision:  0.10681488405475986\n",
      "recall @ 400 0.4074074074074074\n",
      "recall @ 200 0.37037037037037035\n",
      "recall @ 100 0.3333333333333333\n",
      "recall @ 50 0.3333333333333333\n",
      "recall @ 20 0.2222222222222222\n"
     ]
    },
    {
     "name": "stderr",
     "output_type": "stream",
     "text": [
      "100%|████████████████████████████████████████████████████████████████████████████████| 541/541 [00:05<00:00, 91.40it/s]\n"
     ]
    },
    {
     "name": "stdout",
     "output_type": "stream",
     "text": [
      "Mean position of artwork:  1028.82\n",
      "Mean of Minimum position of artwork:  1673.1020408163265\n",
      "Mean of median position of artwork:  1043.8775510204082\n",
      "Mean Average Precision:  0.10075975079248024\n",
      "recall @ 400 0.40816326530612246\n",
      "recall @ 200 0.30612244897959184\n",
      "recall @ 100 0.2653061224489796\n",
      "recall @ 50 0.22448979591836735\n",
      "recall @ 20 0.16326530612244897\n"
     ]
    },
    {
     "name": "stderr",
     "output_type": "stream",
     "text": [
      "100%|████████████████████████████████████████████████████████████████████████████████| 516/516 [00:50<00:00, 10.13it/s]\n"
     ]
    },
    {
     "name": "stdout",
     "output_type": "stream",
     "text": [
      "Mean position of artwork:  1038.8814102564102\n",
      "Mean of Minimum position of artwork:  1636.3008658008657\n",
      "Mean of median position of artwork:  1029.5422077922078\n",
      "Mean Average Precision:  0.1350651045388562\n",
      "recall @ 400 0.48268398268398266\n",
      "recall @ 200 0.4155844155844156\n",
      "recall @ 100 0.3528138528138528\n",
      "recall @ 50 0.30303030303030304\n",
      "recall @ 20 0.24458874458874458\n"
     ]
    },
    {
     "name": "stderr",
     "output_type": "stream",
     "text": [
      "100%|███████████████████████████████████████████████████████████████████████████████| 516/516 [00:02<00:00, 188.76it/s]\n"
     ]
    },
    {
     "name": "stdout",
     "output_type": "stream",
     "text": [
      "Mean position of artwork:  936.6666666666666\n",
      "Mean of Minimum position of artwork:  1532.7586206896551\n",
      "Mean of median position of artwork:  957.7586206896551\n",
      "Mean Average Precision:  0.16045765681458257\n",
      "recall @ 400 0.3793103448275862\n",
      "recall @ 200 0.3448275862068966\n",
      "recall @ 100 0.3103448275862069\n",
      "recall @ 50 0.2413793103448276\n",
      "recall @ 20 0.20689655172413793\n"
     ]
    },
    {
     "name": "stderr",
     "output_type": "stream",
     "text": [
      "100%|███████████████████████████████████████████████████████████████████████████████| 516/516 [00:02<00:00, 229.34it/s]\n"
     ]
    },
    {
     "name": "stdout",
     "output_type": "stream",
     "text": [
      "Mean position of artwork:  874.5370370370371\n",
      "Mean of Minimum position of artwork:  1168.28\n",
      "Mean of median position of artwork:  800.42\n",
      "Mean Average Precision:  0.11366724517319987\n",
      "recall @ 400 0.48\n",
      "recall @ 200 0.36\n",
      "recall @ 100 0.36\n",
      "recall @ 50 0.32\n",
      "recall @ 20 0.16\n"
     ]
    },
    {
     "name": "stderr",
     "output_type": "stream",
     "text": [
      "100%|███████████████████████████████████████████████████████████████████████████████| 516/516 [00:04<00:00, 108.51it/s]\n"
     ]
    },
    {
     "name": "stdout",
     "output_type": "stream",
     "text": [
      "Mean position of artwork:  907.2368421052631\n",
      "Mean of Minimum position of artwork:  1364.0185185185185\n",
      "Mean of median position of artwork:  884.9166666666666\n",
      "Mean Average Precision:  0.13879542920283133\n",
      "recall @ 400 0.42592592592592593\n",
      "recall @ 200 0.35185185185185186\n",
      "recall @ 100 0.3333333333333333\n",
      "recall @ 50 0.2777777777777778\n",
      "recall @ 20 0.18518518518518517\n"
     ]
    },
    {
     "name": "stderr",
     "output_type": "stream",
     "text": [
      "100%|████████████████████████████████████████████████████████████████████████████████| 536/536 [00:41<00:00, 13.04it/s]\n"
     ]
    },
    {
     "name": "stdout",
     "output_type": "stream",
     "text": [
      "Mean position of artwork:  1008.847389558233\n",
      "Mean of Minimum position of artwork:  1489.283950617284\n",
      "Mean of median position of artwork:  963.5288065843621\n",
      "Mean Average Precision:  0.11726500466998946\n",
      "recall @ 400 0.47530864197530864\n",
      "recall @ 200 0.4156378600823045\n",
      "recall @ 100 0.345679012345679\n",
      "recall @ 50 0.29012345679012347\n",
      "recall @ 20 0.21193415637860083\n"
     ]
    },
    {
     "name": "stderr",
     "output_type": "stream",
     "text": [
      "100%|███████████████████████████████████████████████████████████████████████████████| 536/536 [00:02<00:00, 219.09it/s]\n"
     ]
    },
    {
     "name": "stdout",
     "output_type": "stream",
     "text": [
      "Mean position of artwork:  870.7258064516129\n",
      "Mean of Minimum position of artwork:  1356.1666666666667\n",
      "Mean of median position of artwork:  890.05\n",
      "Mean Average Precision:  0.12996556283840344\n",
      "recall @ 400 0.43333333333333335\n",
      "recall @ 200 0.3333333333333333\n",
      "recall @ 100 0.26666666666666666\n",
      "recall @ 50 0.23333333333333334\n",
      "recall @ 20 0.2\n"
     ]
    },
    {
     "name": "stderr",
     "output_type": "stream",
     "text": [
      "100%|███████████████████████████████████████████████████████████████████████████████| 536/536 [00:01<00:00, 336.95it/s]\n"
     ]
    },
    {
     "name": "stdout",
     "output_type": "stream",
     "text": [
      "Mean position of artwork:  1170.9761904761904\n",
      "Mean of Minimum position of artwork:  2051.55\n",
      "Mean of median position of artwork:  1213.275\n",
      "Mean Average Precision:  0.24361230382902715\n",
      "recall @ 400 0.4\n",
      "recall @ 200 0.35\n",
      "recall @ 100 0.35\n",
      "recall @ 50 0.3\n",
      "recall @ 20 0.3\n"
     ]
    },
    {
     "name": "stderr",
     "output_type": "stream",
     "text": [
      "100%|███████████████████████████████████████████████████████████████████████████████| 536/536 [00:04<00:00, 122.01it/s]\n"
     ]
    },
    {
     "name": "stdout",
     "output_type": "stream",
     "text": [
      "Mean position of artwork:  991.9807692307693\n",
      "Mean of Minimum position of artwork:  1634.32\n",
      "Mean of median position of artwork:  1019.34\n",
      "Mean Average Precision:  0.17542425923465296\n",
      "recall @ 400 0.42\n",
      "recall @ 200 0.34\n",
      "recall @ 100 0.3\n",
      "recall @ 50 0.26\n",
      "recall @ 20 0.24\n"
     ]
    },
    {
     "name": "stderr",
     "output_type": "stream",
     "text": [
      "100%|████████████████████████████████████████████████████████████████████████████████| 546/546 [00:41<00:00, 13.10it/s]\n"
     ]
    },
    {
     "name": "stdout",
     "output_type": "stream",
     "text": [
      "Mean position of artwork:  1018.0649224806201\n",
      "Mean of Minimum position of artwork:  1518.058232931727\n",
      "Mean of median position of artwork:  979.7379518072289\n",
      "Mean Average Precision:  0.11136251035464556\n",
      "recall @ 400 0.45582329317269077\n",
      "recall @ 200 0.3855421686746988\n",
      "recall @ 100 0.321285140562249\n",
      "recall @ 50 0.26305220883534136\n",
      "recall @ 20 0.19879518072289157\n"
     ]
    },
    {
     "name": "stderr",
     "output_type": "stream",
     "text": [
      "100%|███████████████████████████████████████████████████████████████████████████████| 546/546 [00:02<00:00, 225.48it/s]\n"
     ]
    },
    {
     "name": "stdout",
     "output_type": "stream",
     "text": [
      "Mean position of artwork:  1169.0862068965516\n",
      "Mean of Minimum position of artwork:  1938.1724137931035\n",
      "Mean of median position of artwork:  1169.0862068965516\n",
      "Mean Average Precision:  0.14224646530509594\n",
      "recall @ 400 0.3793103448275862\n",
      "recall @ 200 0.3448275862068966\n",
      "recall @ 100 0.27586206896551724\n",
      "recall @ 50 0.27586206896551724\n",
      "recall @ 20 0.1724137931034483\n"
     ]
    },
    {
     "name": "stderr",
     "output_type": "stream",
     "text": [
      "100%|███████████████████████████████████████████████████████████████████████████████| 546/546 [00:01<00:00, 343.88it/s]\n"
     ]
    },
    {
     "name": "stdout",
     "output_type": "stream",
     "text": [
      "Mean position of artwork:  749.575\n",
      "Mean of Minimum position of artwork:  1109.6315789473683\n",
      "Mean of median position of artwork:  773.7105263157895\n",
      "Mean Average Precision:  0.21889610968273548\n",
      "recall @ 400 0.42105263157894735\n",
      "recall @ 200 0.3684210526315789\n",
      "recall @ 100 0.3684210526315789\n",
      "recall @ 50 0.3684210526315789\n",
      "recall @ 20 0.3157894736842105\n"
     ]
    },
    {
     "name": "stderr",
     "output_type": "stream",
     "text": [
      "100%|███████████████████████████████████████████████████████████████████████████████| 546/546 [00:03<00:00, 137.07it/s]\n"
     ]
    },
    {
     "name": "stdout",
     "output_type": "stream",
     "text": [
      "Mean position of artwork:  997.8571428571429\n",
      "Mean of Minimum position of artwork:  1610.2083333333333\n",
      "Mean of median position of artwork:  1012.5833333333334\n",
      "Mean Average Precision:  0.17258694953791157\n",
      "recall @ 400 0.3958333333333333\n",
      "recall @ 200 0.3541666666666667\n",
      "recall @ 100 0.3125\n",
      "recall @ 50 0.3125\n",
      "recall @ 20 0.22916666666666666\n"
     ]
    },
    {
     "name": "stderr",
     "output_type": "stream",
     "text": [
      "100%|████████████████████████████████████████████████████████████████████████████████| 531/531 [00:41<00:00, 12.68it/s]\n"
     ]
    },
    {
     "name": "stdout",
     "output_type": "stream",
     "text": [
      "Mean position of artwork:  964.3983739837398\n",
      "Mean of Minimum position of artwork:  1524.0375\n",
      "Mean of median position of artwork:  969.4375\n",
      "Mean Average Precision:  0.1404555131063938\n",
      "recall @ 400 0.48541666666666666\n",
      "recall @ 200 0.4166666666666667\n",
      "recall @ 100 0.3416666666666667\n",
      "recall @ 50 0.29583333333333334\n",
      "recall @ 20 0.23333333333333334\n"
     ]
    },
    {
     "name": "stderr",
     "output_type": "stream",
     "text": [
      "100%|███████████████████████████████████████████████████████████████████████████████| 531/531 [00:01<00:00, 325.44it/s]\n"
     ]
    },
    {
     "name": "stdout",
     "output_type": "stream",
     "text": [
      "Mean position of artwork:  814.425\n",
      "Mean of Minimum position of artwork:  905.2777777777778\n",
      "Mean of median position of artwork:  658.9166666666666\n",
      "Mean Average Precision:  0.05915791745432159\n",
      "recall @ 400 0.4444444444444444\n",
      "recall @ 200 0.3333333333333333\n",
      "recall @ 100 0.2777777777777778\n",
      "recall @ 50 0.2777777777777778\n",
      "recall @ 20 0.2222222222222222\n"
     ]
    },
    {
     "name": "stderr",
     "output_type": "stream",
     "text": [
      "100%|███████████████████████████████████████████████████████████████████████████████| 531/531 [00:03<00:00, 171.69it/s]\n"
     ]
    },
    {
     "name": "stdout",
     "output_type": "stream",
     "text": [
      "Mean position of artwork:  1095.0151515151515\n",
      "Mean of Minimum position of artwork:  1790.030303030303\n",
      "Mean of median position of artwork:  1095.0151515151515\n",
      "Mean Average Precision:  0.13501578835205327\n",
      "recall @ 400 0.3939393939393939\n",
      "recall @ 200 0.3333333333333333\n",
      "recall @ 100 0.2727272727272727\n",
      "recall @ 50 0.2727272727272727\n",
      "recall @ 20 0.24242424242424243\n"
     ]
    },
    {
     "name": "stderr",
     "output_type": "stream",
     "text": [
      "100%|███████████████████████████████████████████████████████████████████████████████| 531/531 [00:04<00:00, 114.55it/s]\n"
     ]
    },
    {
     "name": "stdout",
     "output_type": "stream",
     "text": [
      "Mean position of artwork:  989.1320754716982\n",
      "Mean of Minimum position of artwork:  1477.764705882353\n",
      "Mean of median position of artwork:  941.0980392156863\n",
      "Mean Average Precision:  0.10824242215285386\n",
      "recall @ 400 0.4117647058823529\n",
      "recall @ 200 0.3333333333333333\n",
      "recall @ 100 0.27450980392156865\n",
      "recall @ 50 0.27450980392156865\n",
      "recall @ 20 0.23529411764705882\n"
     ]
    },
    {
     "name": "stderr",
     "output_type": "stream",
     "text": [
      "100%|████████████████████████████████████████████████████████████████████████████████| 596/596 [00:50<00:00, 11.69it/s]\n"
     ]
    },
    {
     "name": "stdout",
     "output_type": "stream",
     "text": [
      "Mean position of artwork:  906.578947368421\n",
      "Mean of Minimum position of artwork:  1406.5770609318997\n",
      "Mean of median position of artwork:  909.6702508960574\n",
      "Mean Average Precision:  0.11818436960223073\n",
      "recall @ 400 0.478494623655914\n",
      "recall @ 200 0.4032258064516129\n",
      "recall @ 100 0.33512544802867383\n",
      "recall @ 50 0.2724014336917563\n",
      "recall @ 20 0.2132616487455197\n"
     ]
    },
    {
     "name": "stderr",
     "output_type": "stream",
     "text": [
      "100%|███████████████████████████████████████████████████████████████████████████████| 596/596 [00:01<00:00, 341.67it/s]\n"
     ]
    },
    {
     "name": "stdout",
     "output_type": "stream",
     "text": [
      "Mean position of artwork:  1372.7105263157894\n",
      "Mean of Minimum position of artwork:  2345.4210526315787\n",
      "Mean of median position of artwork:  1372.7105263157894\n",
      "Mean Average Precision:  0.0844164662651249\n",
      "recall @ 400 0.3684210526315789\n",
      "recall @ 200 0.3684210526315789\n",
      "recall @ 100 0.2631578947368421\n",
      "recall @ 50 0.2631578947368421\n",
      "recall @ 20 0.10526315789473684\n"
     ]
    },
    {
     "name": "stderr",
     "output_type": "stream",
     "text": [
      "100%|███████████████████████████████████████████████████████████████████████████████| 596/596 [00:01<00:00, 334.40it/s]\n"
     ]
    },
    {
     "name": "stdout",
     "output_type": "stream",
     "text": [
      "Mean position of artwork:  883.4285714285714\n",
      "Mean of Minimum position of artwork:  1074.842105263158\n",
      "Mean of median position of artwork:  743.3684210526316\n",
      "Mean Average Precision:  0.21436893148757977\n",
      "recall @ 400 0.47368421052631576\n",
      "recall @ 200 0.42105263157894735\n",
      "recall @ 100 0.3157894736842105\n",
      "recall @ 50 0.2631578947368421\n",
      "recall @ 20 0.21052631578947367\n"
     ]
    },
    {
     "name": "stderr",
     "output_type": "stream",
     "text": [
      "100%|███████████████████████████████████████████████████████████████████████████████| 596/596 [00:03<00:00, 171.03it/s]\n"
     ]
    },
    {
     "name": "stdout",
     "output_type": "stream",
     "text": [
      "Mean position of artwork:  1115.8375\n",
      "Mean of Minimum position of artwork:  1710.1315789473683\n",
      "Mean of median position of artwork:  1058.0394736842106\n",
      "Mean Average Precision:  0.14939269887635231\n",
      "recall @ 400 0.42105263157894735\n",
      "recall @ 200 0.39473684210526316\n",
      "recall @ 100 0.2894736842105263\n",
      "recall @ 50 0.2631578947368421\n",
      "recall @ 20 0.15789473684210525\n"
     ]
    },
    {
     "name": "stderr",
     "output_type": "stream",
     "text": [
      "100%|████████████████████████████████████████████████████████████████████████████████| 546/546 [00:45<00:00, 11.92it/s]\n"
     ]
    },
    {
     "name": "stdout",
     "output_type": "stream",
     "text": [
      "Mean position of artwork:  901.218992248062\n",
      "Mean of Minimum position of artwork:  1353.0240963855422\n",
      "Mean of median position of artwork:  894.2309236947791\n",
      "Mean Average Precision:  0.1383342780948214\n",
      "recall @ 400 0.4799196787148594\n",
      "recall @ 200 0.41767068273092367\n",
      "recall @ 100 0.35943775100401604\n",
      "recall @ 50 0.2971887550200803\n",
      "recall @ 20 0.22289156626506024\n"
     ]
    },
    {
     "name": "stderr",
     "output_type": "stream",
     "text": [
      "100%|███████████████████████████████████████████████████████████████████████████████| 546/546 [00:02<00:00, 183.06it/s]\n"
     ]
    },
    {
     "name": "stdout",
     "output_type": "stream",
     "text": [
      "Mean position of artwork:  1276.258064516129\n",
      "Mean of Minimum position of artwork:  2013.6666666666667\n",
      "Mean of median position of artwork:  1208.4333333333334\n",
      "Mean Average Precision:  0.07005584829083536\n",
      "recall @ 400 0.36666666666666664\n",
      "recall @ 200 0.26666666666666666\n",
      "recall @ 100 0.13333333333333333\n",
      "recall @ 50 0.13333333333333333\n",
      "recall @ 20 0.06666666666666667\n"
     ]
    },
    {
     "name": "stderr",
     "output_type": "stream",
     "text": [
      "100%|███████████████████████████████████████████████████████████████████████████████| 546/546 [00:01<00:00, 323.75it/s]\n"
     ]
    },
    {
     "name": "stdout",
     "output_type": "stream",
     "text": [
      "Mean position of artwork:  924.4444444444445\n",
      "Mean of Minimum position of artwork:  1448.888888888889\n",
      "Mean of median position of artwork:  924.4444444444445\n",
      "Mean Average Precision:  0.26590775203383354\n",
      "recall @ 400 0.5555555555555556\n",
      "recall @ 200 0.4444444444444444\n",
      "recall @ 100 0.4444444444444444\n",
      "recall @ 50 0.4444444444444444\n",
      "recall @ 20 0.4444444444444444\n"
     ]
    },
    {
     "name": "stderr",
     "output_type": "stream",
     "text": [
      "100%|███████████████████████████████████████████████████████████████████████████████| 546/546 [00:04<00:00, 120.85it/s]\n"
     ]
    },
    {
     "name": "stdout",
     "output_type": "stream",
     "text": [
      "Mean position of artwork:  1147.0204081632653\n",
      "Mean of Minimum position of artwork:  1801.875\n",
      "Mean of median position of artwork:  1101.9375\n",
      "Mean Average Precision:  0.1435003121944597\n",
      "recall @ 400 0.4375\n",
      "recall @ 200 0.3333333333333333\n",
      "recall @ 100 0.25\n",
      "recall @ 50 0.25\n",
      "recall @ 20 0.20833333333333334\n"
     ]
    },
    {
     "name": "stderr",
     "output_type": "stream",
     "text": [
      "100%|████████████████████████████████████████████████████████████████████████████████| 611/611 [00:59<00:00, 10.23it/s]\n"
     ]
    },
    {
     "name": "stdout",
     "output_type": "stream",
     "text": [
      "Mean position of artwork:  1019.0925\n",
      "Mean of Minimum position of artwork:  1528.578125\n",
      "Mean of median position of artwork:  986.4071180555555\n",
      "Mean Average Precision:  0.10942712824444552\n",
      "recall @ 400 0.4444444444444444\n",
      "recall @ 200 0.3819444444444444\n",
      "recall @ 100 0.3072916666666667\n",
      "recall @ 50 0.2517361111111111\n",
      "recall @ 20 0.1909722222222222\n"
     ]
    },
    {
     "name": "stderr",
     "output_type": "stream",
     "text": [
      "100%|███████████████████████████████████████████████████████████████████████████████| 611/611 [00:01<00:00, 353.31it/s]\n"
     ]
    },
    {
     "name": "stdout",
     "output_type": "stream",
     "text": [
      "Mean position of artwork:  1012.4473684210526\n",
      "Mean of Minimum position of artwork:  1624.8947368421052\n",
      "Mean of median position of artwork:  1012.4473684210526\n",
      "Mean Average Precision:  0.17666422274423485\n",
      "recall @ 400 0.42105263157894735\n",
      "recall @ 200 0.2631578947368421\n",
      "recall @ 100 0.21052631578947367\n",
      "recall @ 50 0.21052631578947367\n",
      "recall @ 20 0.21052631578947367\n"
     ]
    },
    {
     "name": "stderr",
     "output_type": "stream",
     "text": [
      "100%|███████████████████████████████████████████████████████████████████████████████| 611/611 [00:01<00:00, 418.18it/s]\n"
     ]
    },
    {
     "name": "stdout",
     "output_type": "stream",
     "text": [
      "Mean position of artwork:  712.875\n",
      "Mean of Minimum position of artwork:  1025.75\n",
      "Mean of median position of artwork:  712.875\n",
      "Mean Average Precision:  0.17711640091320177\n",
      "recall @ 400 0.625\n",
      "recall @ 200 0.5625\n",
      "recall @ 100 0.5\n",
      "recall @ 50 0.5\n",
      "recall @ 20 0.375\n"
     ]
    },
    {
     "name": "stderr",
     "output_type": "stream",
     "text": [
      "100%|███████████████████████████████████████████████████████████████████████████████| 611/611 [00:03<00:00, 185.42it/s]\n"
     ]
    },
    {
     "name": "stdout",
     "output_type": "stream",
     "text": [
      "Mean position of artwork:  875.5\n",
      "Mean of Minimum position of artwork:  1351.0\n",
      "Mean of median position of artwork:  875.5\n",
      "Mean Average Precision:  0.17687093276433402\n",
      "recall @ 400 0.5142857142857142\n",
      "recall @ 200 0.4\n",
      "recall @ 100 0.34285714285714286\n",
      "recall @ 50 0.34285714285714286\n",
      "recall @ 20 0.2857142857142857\n"
     ]
    },
    {
     "name": "stderr",
     "output_type": "stream",
     "text": [
      "100%|████████████████████████████████████████████████████████████████████████████████| 596/596 [00:59<00:00, 10.04it/s]\n"
     ]
    },
    {
     "name": "stdout",
     "output_type": "stream",
     "text": [
      "Mean position of artwork:  937.1535087719299\n",
      "Mean of Minimum position of artwork:  1400.2275985663082\n",
      "Mean of median position of artwork:  909.1639784946236\n",
      "Mean Average Precision:  0.11092382252222724\n",
      "recall @ 400 0.46953405017921146\n",
      "recall @ 200 0.4032258064516129\n",
      "recall @ 100 0.31899641577060933\n",
      "recall @ 50 0.2616487455197133\n",
      "recall @ 20 0.1953405017921147\n"
     ]
    },
    {
     "name": "stderr",
     "output_type": "stream",
     "text": [
      "100%|███████████████████████████████████████████████████████████████████████████████| 596/596 [00:02<00:00, 279.77it/s]\n"
     ]
    },
    {
     "name": "stdout",
     "output_type": "stream",
     "text": [
      "Mean position of artwork:  991.5208333333334\n",
      "Mean of Minimum position of artwork:  1596.7727272727273\n",
      "Mean of median position of artwork:  1017.6590909090909\n",
      "Mean Average Precision:  0.1841059804972615\n",
      "recall @ 400 0.36363636363636365\n",
      "recall @ 200 0.2727272727272727\n",
      "recall @ 100 0.22727272727272727\n",
      "recall @ 50 0.22727272727272727\n",
      "recall @ 20 0.18181818181818182\n"
     ]
    },
    {
     "name": "stderr",
     "output_type": "stream",
     "text": [
      "100%|███████████████████████████████████████████████████████████████████████████████| 596/596 [00:02<00:00, 297.15it/s]\n"
     ]
    },
    {
     "name": "stdout",
     "output_type": "stream",
     "text": [
      "Mean position of artwork:  1011.71875\n",
      "Mean of Minimum position of artwork:  1623.4375\n",
      "Mean of median position of artwork:  1011.71875\n",
      "Mean Average Precision:  0.24101843073785956\n",
      "recall @ 400 0.5\n",
      "recall @ 200 0.375\n",
      "recall @ 100 0.3125\n",
      "recall @ 50 0.3125\n",
      "recall @ 20 0.3125\n"
     ]
    },
    {
     "name": "stderr",
     "output_type": "stream",
     "text": [
      "100%|███████████████████████████████████████████████████████████████████████████████| 596/596 [00:03<00:00, 152.33it/s]\n"
     ]
    },
    {
     "name": "stdout",
     "output_type": "stream",
     "text": [
      "Mean position of artwork:  999.6\n",
      "Mean of Minimum position of artwork:  1608.0\n",
      "Mean of median position of artwork:  1015.1578947368421\n",
      "Mean Average Precision:  0.20806911744067125\n",
      "recall @ 400 0.42105263157894735\n",
      "recall @ 200 0.3157894736842105\n",
      "recall @ 100 0.2631578947368421\n",
      "recall @ 50 0.2631578947368421\n",
      "recall @ 20 0.23684210526315788\n"
     ]
    }
   ],
   "source": [
    "for i in range(1, 11):\n",
    "    \n",
    "    lbl = \"v\"+str(i)\n",
    "    \n",
    "    draw_art_pairs_df_full = pd.read_csv(\"./../../../data/model_learning/drawing_artwork_pair_train_test_split_\"+lbl+\".csv\")\n",
    "    \n",
    "    draw_art_pairs_df = draw_art_pairs_df_full[\n",
    "        (\n",
    "            (draw_art_pairs_df_full[\"set\"].isin([\"train\"]))\n",
    "            | (\n",
    "                (draw_art_pairs_df_full[\"set\"].isin([\"test\", \"val\"]))\n",
    "                & (\n",
    "                    draw_art_pairs_df_full[\"drawing_id\"]\n",
    "                    == draw_art_pairs_df_full[\"parent\"]\n",
    "                )\n",
    "            )\n",
    "        )\n",
    "    ].reset_index(drop=True)\n",
    "\n",
    "    train_mets.append((str(i), \"resnext\") + get_scores(drawings_embeddings_resnext, artworks_embeddings_resnext, draw_art_pairs_df, [\"train\"], number_of_artworks))\n",
    "\n",
    "    val_mets.append((str(i), \"resnext\") + get_scores(drawings_embeddings_resnext, artworks_embeddings_resnext, draw_art_pairs_df, [\"val\"], number_of_artworks))\n",
    "\n",
    "    test_mets.append((str(i), \"resnext\") + get_scores(drawings_embeddings_resnext, artworks_embeddings_resnext, draw_art_pairs_df, [\"test\"], number_of_artworks))\n",
    "\n",
    "    non_train_mets.append((str(i), \"resnext\") + get_scores(drawings_embeddings_resnext, artworks_embeddings_resnext, draw_art_pairs_df, [\"val\", \"test\"], number_of_artworks))"
   ]
  },
  {
   "cell_type": "code",
   "execution_count": null,
   "id": "4b70570b-558b-4912-89ab-78ee18ec945a",
   "metadata": {},
   "outputs": [],
   "source": []
  },
  {
   "cell_type": "code",
   "execution_count": null,
   "id": "79a37cff-6b75-408d-8279-e2f136a4958d",
   "metadata": {},
   "outputs": [],
   "source": []
  },
  {
   "cell_type": "raw",
   "id": "17a5a425-d23a-408d-b261-96f9ce762644",
   "metadata": {},
   "source": [
    "## Resnet"
   ]
  },
  {
   "cell_type": "raw",
   "id": "388af3fd-ed8e-423e-a7e7-31775788e2c7",
   "metadata": {},
   "source": [
    "draw_art_pairs_df_full = pd.read_csv(\"./../../../data/model_learning/drawing_artwork_pair_train_test_split.csv\")\n",
    "\n",
    "draw_art_pairs_df = draw_art_pairs_df_full[\n",
    "        (\n",
    "            (draw_art_pairs_df_full[\"set\"].isin([\"train\"]))\n",
    "            | (\n",
    "                (draw_art_pairs_df_full[\"set\"].isin([\"test\", \"val\"]))\n",
    "                & (\n",
    "                    draw_art_pairs_df_full[\"drawing_id\"]\n",
    "                    == draw_art_pairs_df_full[\"parent\"]\n",
    "                )\n",
    "            )\n",
    "        )\n",
    "    ].reset_index(drop=True)\n",
    "\n",
    "train_mets.append((\"0\", \"resnet\") + get_scores(drawings_embeddings_resnet, artworks_embeddings_resnet, draw_art_pairs_df, [\"train\"], number_of_artworks))\n",
    "\n",
    "val_mets.append((\"0\", \"resnet\") + get_scores(drawings_embeddings_resnet, artworks_embeddings_resnet, draw_art_pairs_df, [\"val\"], number_of_artworks))\n",
    "\n",
    "test_mets.append((\"0\", \"resnet\") + get_scores(drawings_embeddings_resnet, artworks_embeddings_resnet, draw_art_pairs_df, [\"test\"], number_of_artworks))\n",
    "\n",
    "non_train_mets.append((\"0\", \"resnet\") + get_scores(drawings_embeddings_resnet, artworks_embeddings_resnet, draw_art_pairs_df, [\"val\", \"test\"], number_of_artworks))"
   ]
  },
  {
   "cell_type": "raw",
   "id": "9ad8d3c7-8da2-4cd3-b608-83de8f7bdae8",
   "metadata": {},
   "source": [
    "for i in range(1, 11):\n",
    "    \n",
    "    lbl = \"v\"+str(i)\n",
    "    \n",
    "    draw_art_pairs_df_full = pd.read_csv(\"./../../../data/model_learning/drawing_artwork_pair_train_test_split_\"+lbl+\".csv\")\n",
    "    \n",
    "    draw_art_pairs_df = draw_art_pairs_df_full[\n",
    "        (\n",
    "            (draw_art_pairs_df_full[\"set\"].isin([\"train\"]))\n",
    "            | (\n",
    "                (draw_art_pairs_df_full[\"set\"].isin([\"test\", \"val\"]))\n",
    "                & (\n",
    "                    draw_art_pairs_df_full[\"drawing_id\"]\n",
    "                    == draw_art_pairs_df_full[\"parent\"]\n",
    "                )\n",
    "            )\n",
    "        )\n",
    "    ].reset_index(drop=True)\n",
    "\n",
    "    train_mets.append((str(i), \"resnet\") + get_scores(drawings_embeddings_resnet, artworks_embeddings_resnet, draw_art_pairs_df, [\"train\"], number_of_artworks))\n",
    "\n",
    "    val_mets.append((str(i), \"resnet\") + get_scores(drawings_embeddings_resnet, artworks_embeddings_resnet, draw_art_pairs_df, [\"val\"], number_of_artworks))\n",
    "\n",
    "    test_mets.append((str(i), \"resnet\") + get_scores(drawings_embeddings_resnet, artworks_embeddings_resnet, draw_art_pairs_df, [\"test\"], number_of_artworks))\n",
    "\n",
    "    non_train_mets.append((str(i), \"resnet\") + get_scores(drawings_embeddings_resnet, artworks_embeddings_resnet, draw_art_pairs_df, [\"val\", \"test\"], number_of_artworks))"
   ]
  },
  {
   "cell_type": "code",
   "execution_count": 8,
   "id": "5e315c8f-ed1b-42b4-860e-6a1f5ad23093",
   "metadata": {},
   "outputs": [],
   "source": [
    "train_metrics_df = pd.DataFrame(train_mets, columns=[\"data_split_version\", \"model\", \"MP\",\"MMP\", \"mean_median_position\", 'MAP','R@400', 'R@200', 'R@100', 'R@50', 'R@20'])\n",
    "val_metrics_df = pd.DataFrame(val_mets, columns=[\"data_split_version\", \"model\", \"MP\",\"MMP\", \"mean_median_position\", 'MAP','R@400', 'R@200', 'R@100', 'R@50', 'R@20'])\n",
    "test_metrics_df = pd.DataFrame(test_mets, columns=[\"data_split_version\", \"model\", \"MP\",\"MMP\", \"mean_median_position\", 'MAP','R@400', 'R@200', 'R@100', 'R@50', 'R@20'])\n",
    "non_train_metrics_df = pd.DataFrame(non_train_mets, columns=[\"data_split_version\", \"model\", \"MP\",\"MMP\", \"mean_median_position\", 'MAP','R@400', 'R@200', 'R@100', 'R@50', 'R@20'])"
   ]
  },
  {
   "cell_type": "code",
   "execution_count": 9,
   "id": "09af94dd-3a49-4ed6-9129-df2d6694a6ff",
   "metadata": {},
   "outputs": [],
   "source": [
    "train_metrics_df[\"MAP\"] = 100 * train_metrics_df[\"MAP\"]\n",
    "train_metrics_df[\"R@400\"] = 100 * train_metrics_df[\"R@400\"]\n",
    "train_metrics_df[\"R@200\"] = 100 * train_metrics_df[\"R@200\"]\n",
    "train_metrics_df[\"R@100\"] = 100 * train_metrics_df[\"R@100\"]\n",
    "train_metrics_df[\"R@50\"] = 100 * train_metrics_df[\"R@50\"]\n",
    "train_metrics_df[\"R@20\"] = 100 * train_metrics_df[\"R@20\"]\n",
    "\n",
    "val_metrics_df[\"MAP\"] = 100 * val_metrics_df[\"MAP\"]\n",
    "val_metrics_df[\"R@400\"] = 100 * val_metrics_df[\"R@400\"]\n",
    "val_metrics_df[\"R@200\"] = 100 * val_metrics_df[\"R@200\"]\n",
    "val_metrics_df[\"R@100\"] = 100 * val_metrics_df[\"R@100\"]\n",
    "val_metrics_df[\"R@50\"] = 100 * val_metrics_df[\"R@50\"]\n",
    "val_metrics_df[\"R@20\"] = 100 * val_metrics_df[\"R@20\"]\n",
    "\n",
    "test_metrics_df[\"MAP\"] = 100 * test_metrics_df[\"MAP\"]\n",
    "test_metrics_df[\"R@400\"] = 100 * test_metrics_df[\"R@400\"]\n",
    "test_metrics_df[\"R@200\"] = 100 * test_metrics_df[\"R@200\"]\n",
    "test_metrics_df[\"R@100\"] = 100 * test_metrics_df[\"R@100\"]\n",
    "test_metrics_df[\"R@50\"] = 100 * test_metrics_df[\"R@50\"]\n",
    "test_metrics_df[\"R@20\"] = 100 * test_metrics_df[\"R@20\"]\n",
    "\n",
    "non_train_metrics_df[\"MAP\"] = 100 * non_train_metrics_df[\"MAP\"]\n",
    "non_train_metrics_df[\"R@400\"] = 100 * non_train_metrics_df[\"R@400\"]\n",
    "non_train_metrics_df[\"R@200\"] = 100 * non_train_metrics_df[\"R@200\"]\n",
    "non_train_metrics_df[\"R@100\"] = 100 * non_train_metrics_df[\"R@100\"]\n",
    "non_train_metrics_df[\"R@50\"] = 100 * non_train_metrics_df[\"R@50\"]\n",
    "non_train_metrics_df[\"R@20\"] = 100 * non_train_metrics_df[\"R@20\"]"
   ]
  },
  {
   "cell_type": "code",
   "execution_count": 10,
   "id": "39728f5d-a53c-4830-8b68-df3cc6008072",
   "metadata": {},
   "outputs": [
    {
     "data": {
      "text/html": [
       "<div>\n",
       "<style scoped>\n",
       "    .dataframe tbody tr th:only-of-type {\n",
       "        vertical-align: middle;\n",
       "    }\n",
       "\n",
       "    .dataframe tbody tr th {\n",
       "        vertical-align: top;\n",
       "    }\n",
       "\n",
       "    .dataframe thead th {\n",
       "        text-align: right;\n",
       "    }\n",
       "</style>\n",
       "<table border=\"1\" class=\"dataframe\">\n",
       "  <thead>\n",
       "    <tr style=\"text-align: right;\">\n",
       "      <th></th>\n",
       "      <th>version</th>\n",
       "      <th>model</th>\n",
       "      <th>MP</th>\n",
       "      <th>MMP</th>\n",
       "      <th>mean_median_position</th>\n",
       "      <th>MAP</th>\n",
       "      <th>R@400</th>\n",
       "      <th>R@200</th>\n",
       "      <th>R@100</th>\n",
       "      <th>R@50</th>\n",
       "      <th>R@20</th>\n",
       "    </tr>\n",
       "  </thead>\n",
       "  <tbody>\n",
       "    <tr>\n",
       "      <th>0</th>\n",
       "      <td>v0</td>\n",
       "      <td>resnext</td>\n",
       "      <td>978.151754</td>\n",
       "      <td>1483.987455</td>\n",
       "      <td>951.043907</td>\n",
       "      <td>12.250736</td>\n",
       "      <td>45.698925</td>\n",
       "      <td>38.888889</td>\n",
       "      <td>31.720430</td>\n",
       "      <td>25.985663</td>\n",
       "      <td>20.430108</td>\n",
       "    </tr>\n",
       "    <tr>\n",
       "      <th>1</th>\n",
       "      <td>v1</td>\n",
       "      <td>resnext</td>\n",
       "      <td>1000.983135</td>\n",
       "      <td>1468.627083</td>\n",
       "      <td>960.855208</td>\n",
       "      <td>13.977865</td>\n",
       "      <td>45.625000</td>\n",
       "      <td>39.791667</td>\n",
       "      <td>34.583333</td>\n",
       "      <td>28.333333</td>\n",
       "      <td>23.541667</td>\n",
       "    </tr>\n",
       "    <tr>\n",
       "      <th>2</th>\n",
       "      <td>v2</td>\n",
       "      <td>resnext</td>\n",
       "      <td>982.285294</td>\n",
       "      <td>1442.441057</td>\n",
       "      <td>942.181911</td>\n",
       "      <td>13.619198</td>\n",
       "      <td>48.780488</td>\n",
       "      <td>43.089431</td>\n",
       "      <td>36.788618</td>\n",
       "      <td>30.691057</td>\n",
       "      <td>24.390244</td>\n",
       "    </tr>\n",
       "    <tr>\n",
       "      <th>3</th>\n",
       "      <td>v3</td>\n",
       "      <td>resnext</td>\n",
       "      <td>1038.881410</td>\n",
       "      <td>1636.300866</td>\n",
       "      <td>1029.542208</td>\n",
       "      <td>13.506510</td>\n",
       "      <td>48.268398</td>\n",
       "      <td>41.558442</td>\n",
       "      <td>35.281385</td>\n",
       "      <td>30.303030</td>\n",
       "      <td>24.458874</td>\n",
       "    </tr>\n",
       "    <tr>\n",
       "      <th>4</th>\n",
       "      <td>v4</td>\n",
       "      <td>resnext</td>\n",
       "      <td>1008.847390</td>\n",
       "      <td>1489.283951</td>\n",
       "      <td>963.528807</td>\n",
       "      <td>11.726500</td>\n",
       "      <td>47.530864</td>\n",
       "      <td>41.563786</td>\n",
       "      <td>34.567901</td>\n",
       "      <td>29.012346</td>\n",
       "      <td>21.193416</td>\n",
       "    </tr>\n",
       "    <tr>\n",
       "      <th>5</th>\n",
       "      <td>v5</td>\n",
       "      <td>resnext</td>\n",
       "      <td>1018.064922</td>\n",
       "      <td>1518.058233</td>\n",
       "      <td>979.737952</td>\n",
       "      <td>11.136251</td>\n",
       "      <td>45.582329</td>\n",
       "      <td>38.554217</td>\n",
       "      <td>32.128514</td>\n",
       "      <td>26.305221</td>\n",
       "      <td>19.879518</td>\n",
       "    </tr>\n",
       "    <tr>\n",
       "      <th>6</th>\n",
       "      <td>v6</td>\n",
       "      <td>resnext</td>\n",
       "      <td>964.398374</td>\n",
       "      <td>1524.037500</td>\n",
       "      <td>969.437500</td>\n",
       "      <td>14.045551</td>\n",
       "      <td>48.541667</td>\n",
       "      <td>41.666667</td>\n",
       "      <td>34.166667</td>\n",
       "      <td>29.583333</td>\n",
       "      <td>23.333333</td>\n",
       "    </tr>\n",
       "    <tr>\n",
       "      <th>7</th>\n",
       "      <td>v7</td>\n",
       "      <td>resnext</td>\n",
       "      <td>906.578947</td>\n",
       "      <td>1406.577061</td>\n",
       "      <td>909.670251</td>\n",
       "      <td>11.818437</td>\n",
       "      <td>47.849462</td>\n",
       "      <td>40.322581</td>\n",
       "      <td>33.512545</td>\n",
       "      <td>27.240143</td>\n",
       "      <td>21.326165</td>\n",
       "    </tr>\n",
       "    <tr>\n",
       "      <th>8</th>\n",
       "      <td>v8</td>\n",
       "      <td>resnext</td>\n",
       "      <td>901.218992</td>\n",
       "      <td>1353.024096</td>\n",
       "      <td>894.230924</td>\n",
       "      <td>13.833428</td>\n",
       "      <td>47.991968</td>\n",
       "      <td>41.767068</td>\n",
       "      <td>35.943775</td>\n",
       "      <td>29.718876</td>\n",
       "      <td>22.289157</td>\n",
       "    </tr>\n",
       "    <tr>\n",
       "      <th>9</th>\n",
       "      <td>v9</td>\n",
       "      <td>resnext</td>\n",
       "      <td>1019.092500</td>\n",
       "      <td>1528.578125</td>\n",
       "      <td>986.407118</td>\n",
       "      <td>10.942713</td>\n",
       "      <td>44.444444</td>\n",
       "      <td>38.194444</td>\n",
       "      <td>30.729167</td>\n",
       "      <td>25.173611</td>\n",
       "      <td>19.097222</td>\n",
       "    </tr>\n",
       "    <tr>\n",
       "      <th>10</th>\n",
       "      <td>v10</td>\n",
       "      <td>resnext</td>\n",
       "      <td>937.153509</td>\n",
       "      <td>1400.227599</td>\n",
       "      <td>909.163978</td>\n",
       "      <td>11.092382</td>\n",
       "      <td>46.953405</td>\n",
       "      <td>40.322581</td>\n",
       "      <td>31.899642</td>\n",
       "      <td>26.164875</td>\n",
       "      <td>19.534050</td>\n",
       "    </tr>\n",
       "  </tbody>\n",
       "</table>\n",
       "</div>"
      ],
      "text/plain": [
       "   version    model           MP          MMP  mean_median_position  \\\n",
       "0       v0  resnext   978.151754  1483.987455            951.043907   \n",
       "1       v1  resnext  1000.983135  1468.627083            960.855208   \n",
       "2       v2  resnext   982.285294  1442.441057            942.181911   \n",
       "3       v3  resnext  1038.881410  1636.300866           1029.542208   \n",
       "4       v4  resnext  1008.847390  1489.283951            963.528807   \n",
       "5       v5  resnext  1018.064922  1518.058233            979.737952   \n",
       "6       v6  resnext   964.398374  1524.037500            969.437500   \n",
       "7       v7  resnext   906.578947  1406.577061            909.670251   \n",
       "8       v8  resnext   901.218992  1353.024096            894.230924   \n",
       "9       v9  resnext  1019.092500  1528.578125            986.407118   \n",
       "10     v10  resnext   937.153509  1400.227599            909.163978   \n",
       "\n",
       "          MAP      R@400      R@200      R@100       R@50       R@20  \n",
       "0   12.250736  45.698925  38.888889  31.720430  25.985663  20.430108  \n",
       "1   13.977865  45.625000  39.791667  34.583333  28.333333  23.541667  \n",
       "2   13.619198  48.780488  43.089431  36.788618  30.691057  24.390244  \n",
       "3   13.506510  48.268398  41.558442  35.281385  30.303030  24.458874  \n",
       "4   11.726500  47.530864  41.563786  34.567901  29.012346  21.193416  \n",
       "5   11.136251  45.582329  38.554217  32.128514  26.305221  19.879518  \n",
       "6   14.045551  48.541667  41.666667  34.166667  29.583333  23.333333  \n",
       "7   11.818437  47.849462  40.322581  33.512545  27.240143  21.326165  \n",
       "8   13.833428  47.991968  41.767068  35.943775  29.718876  22.289157  \n",
       "9   10.942713  44.444444  38.194444  30.729167  25.173611  19.097222  \n",
       "10  11.092382  46.953405  40.322581  31.899642  26.164875  19.534050  "
      ]
     },
     "execution_count": 10,
     "metadata": {},
     "output_type": "execute_result"
    }
   ],
   "source": [
    "train_metrics_df"
   ]
  },
  {
   "cell_type": "code",
   "execution_count": 11,
   "id": "dde872fe-511b-4279-a8dd-1275e69366b9",
   "metadata": {},
   "outputs": [
    {
     "data": {
      "text/html": [
       "<div>\n",
       "<style scoped>\n",
       "    .dataframe tbody tr th:only-of-type {\n",
       "        vertical-align: middle;\n",
       "    }\n",
       "\n",
       "    .dataframe tbody tr th {\n",
       "        vertical-align: top;\n",
       "    }\n",
       "\n",
       "    .dataframe thead th {\n",
       "        text-align: right;\n",
       "    }\n",
       "</style>\n",
       "<table border=\"1\" class=\"dataframe\">\n",
       "  <thead>\n",
       "    <tr style=\"text-align: right;\">\n",
       "      <th></th>\n",
       "      <th>version</th>\n",
       "      <th>model</th>\n",
       "      <th>MP</th>\n",
       "      <th>MMP</th>\n",
       "      <th>mean_median_position</th>\n",
       "      <th>MAP</th>\n",
       "      <th>R@400</th>\n",
       "      <th>R@200</th>\n",
       "      <th>R@100</th>\n",
       "      <th>R@50</th>\n",
       "      <th>R@20</th>\n",
       "    </tr>\n",
       "  </thead>\n",
       "  <tbody>\n",
       "    <tr>\n",
       "      <th>0</th>\n",
       "      <td>v0</td>\n",
       "      <td>resnext</td>\n",
       "      <td>979.925000</td>\n",
       "      <td>1538.578947</td>\n",
       "      <td>972.710526</td>\n",
       "      <td>16.906519</td>\n",
       "      <td>47.368421</td>\n",
       "      <td>47.368421</td>\n",
       "      <td>42.105263</td>\n",
       "      <td>36.842105</td>\n",
       "      <td>26.315789</td>\n",
       "    </tr>\n",
       "    <tr>\n",
       "      <th>1</th>\n",
       "      <td>v1</td>\n",
       "      <td>resnext</td>\n",
       "      <td>872.733333</td>\n",
       "      <td>1345.466667</td>\n",
       "      <td>872.733333</td>\n",
       "      <td>10.518495</td>\n",
       "      <td>40.000000</td>\n",
       "      <td>40.000000</td>\n",
       "      <td>30.000000</td>\n",
       "      <td>26.666667</td>\n",
       "      <td>20.000000</td>\n",
       "    </tr>\n",
       "    <tr>\n",
       "      <th>2</th>\n",
       "      <td>v2</td>\n",
       "      <td>resnext</td>\n",
       "      <td>1142.863636</td>\n",
       "      <td>1885.727273</td>\n",
       "      <td>1142.863636</td>\n",
       "      <td>9.332845</td>\n",
       "      <td>40.909091</td>\n",
       "      <td>22.727273</td>\n",
       "      <td>18.181818</td>\n",
       "      <td>9.090909</td>\n",
       "      <td>9.090909</td>\n",
       "    </tr>\n",
       "    <tr>\n",
       "      <th>3</th>\n",
       "      <td>v3</td>\n",
       "      <td>resnext</td>\n",
       "      <td>936.666667</td>\n",
       "      <td>1532.758621</td>\n",
       "      <td>957.758621</td>\n",
       "      <td>16.045766</td>\n",
       "      <td>37.931034</td>\n",
       "      <td>34.482759</td>\n",
       "      <td>31.034483</td>\n",
       "      <td>24.137931</td>\n",
       "      <td>20.689655</td>\n",
       "    </tr>\n",
       "    <tr>\n",
       "      <th>4</th>\n",
       "      <td>v4</td>\n",
       "      <td>resnext</td>\n",
       "      <td>870.725806</td>\n",
       "      <td>1356.166667</td>\n",
       "      <td>890.050000</td>\n",
       "      <td>12.996556</td>\n",
       "      <td>43.333333</td>\n",
       "      <td>33.333333</td>\n",
       "      <td>26.666667</td>\n",
       "      <td>23.333333</td>\n",
       "      <td>20.000000</td>\n",
       "    </tr>\n",
       "    <tr>\n",
       "      <th>5</th>\n",
       "      <td>v5</td>\n",
       "      <td>resnext</td>\n",
       "      <td>1169.086207</td>\n",
       "      <td>1938.172414</td>\n",
       "      <td>1169.086207</td>\n",
       "      <td>14.224647</td>\n",
       "      <td>37.931034</td>\n",
       "      <td>34.482759</td>\n",
       "      <td>27.586207</td>\n",
       "      <td>27.586207</td>\n",
       "      <td>17.241379</td>\n",
       "    </tr>\n",
       "    <tr>\n",
       "      <th>6</th>\n",
       "      <td>v6</td>\n",
       "      <td>resnext</td>\n",
       "      <td>814.425000</td>\n",
       "      <td>905.277778</td>\n",
       "      <td>658.916667</td>\n",
       "      <td>5.915792</td>\n",
       "      <td>44.444444</td>\n",
       "      <td>33.333333</td>\n",
       "      <td>27.777778</td>\n",
       "      <td>27.777778</td>\n",
       "      <td>22.222222</td>\n",
       "    </tr>\n",
       "    <tr>\n",
       "      <th>7</th>\n",
       "      <td>v7</td>\n",
       "      <td>resnext</td>\n",
       "      <td>1372.710526</td>\n",
       "      <td>2345.421053</td>\n",
       "      <td>1372.710526</td>\n",
       "      <td>8.441647</td>\n",
       "      <td>36.842105</td>\n",
       "      <td>36.842105</td>\n",
       "      <td>26.315789</td>\n",
       "      <td>26.315789</td>\n",
       "      <td>10.526316</td>\n",
       "    </tr>\n",
       "    <tr>\n",
       "      <th>8</th>\n",
       "      <td>v8</td>\n",
       "      <td>resnext</td>\n",
       "      <td>1276.258065</td>\n",
       "      <td>2013.666667</td>\n",
       "      <td>1208.433333</td>\n",
       "      <td>7.005585</td>\n",
       "      <td>36.666667</td>\n",
       "      <td>26.666667</td>\n",
       "      <td>13.333333</td>\n",
       "      <td>13.333333</td>\n",
       "      <td>6.666667</td>\n",
       "    </tr>\n",
       "    <tr>\n",
       "      <th>9</th>\n",
       "      <td>v9</td>\n",
       "      <td>resnext</td>\n",
       "      <td>1012.447368</td>\n",
       "      <td>1624.894737</td>\n",
       "      <td>1012.447368</td>\n",
       "      <td>17.666422</td>\n",
       "      <td>42.105263</td>\n",
       "      <td>26.315789</td>\n",
       "      <td>21.052632</td>\n",
       "      <td>21.052632</td>\n",
       "      <td>21.052632</td>\n",
       "    </tr>\n",
       "    <tr>\n",
       "      <th>10</th>\n",
       "      <td>v10</td>\n",
       "      <td>resnext</td>\n",
       "      <td>991.520833</td>\n",
       "      <td>1596.772727</td>\n",
       "      <td>1017.659091</td>\n",
       "      <td>18.410598</td>\n",
       "      <td>36.363636</td>\n",
       "      <td>27.272727</td>\n",
       "      <td>22.727273</td>\n",
       "      <td>22.727273</td>\n",
       "      <td>18.181818</td>\n",
       "    </tr>\n",
       "  </tbody>\n",
       "</table>\n",
       "</div>"
      ],
      "text/plain": [
       "   version    model           MP          MMP  mean_median_position  \\\n",
       "0       v0  resnext   979.925000  1538.578947            972.710526   \n",
       "1       v1  resnext   872.733333  1345.466667            872.733333   \n",
       "2       v2  resnext  1142.863636  1885.727273           1142.863636   \n",
       "3       v3  resnext   936.666667  1532.758621            957.758621   \n",
       "4       v4  resnext   870.725806  1356.166667            890.050000   \n",
       "5       v5  resnext  1169.086207  1938.172414           1169.086207   \n",
       "6       v6  resnext   814.425000   905.277778            658.916667   \n",
       "7       v7  resnext  1372.710526  2345.421053           1372.710526   \n",
       "8       v8  resnext  1276.258065  2013.666667           1208.433333   \n",
       "9       v9  resnext  1012.447368  1624.894737           1012.447368   \n",
       "10     v10  resnext   991.520833  1596.772727           1017.659091   \n",
       "\n",
       "          MAP      R@400      R@200      R@100       R@50       R@20  \n",
       "0   16.906519  47.368421  47.368421  42.105263  36.842105  26.315789  \n",
       "1   10.518495  40.000000  40.000000  30.000000  26.666667  20.000000  \n",
       "2    9.332845  40.909091  22.727273  18.181818   9.090909   9.090909  \n",
       "3   16.045766  37.931034  34.482759  31.034483  24.137931  20.689655  \n",
       "4   12.996556  43.333333  33.333333  26.666667  23.333333  20.000000  \n",
       "5   14.224647  37.931034  34.482759  27.586207  27.586207  17.241379  \n",
       "6    5.915792  44.444444  33.333333  27.777778  27.777778  22.222222  \n",
       "7    8.441647  36.842105  36.842105  26.315789  26.315789  10.526316  \n",
       "8    7.005585  36.666667  26.666667  13.333333  13.333333   6.666667  \n",
       "9   17.666422  42.105263  26.315789  21.052632  21.052632  21.052632  \n",
       "10  18.410598  36.363636  27.272727  22.727273  22.727273  18.181818  "
      ]
     },
     "execution_count": 11,
     "metadata": {},
     "output_type": "execute_result"
    }
   ],
   "source": [
    "val_metrics_df"
   ]
  },
  {
   "cell_type": "code",
   "execution_count": 12,
   "id": "f57c5dea-ef5f-40b5-9ad8-1518a746ad05",
   "metadata": {},
   "outputs": [
    {
     "data": {
      "text/html": [
       "<div>\n",
       "<style scoped>\n",
       "    .dataframe tbody tr th:only-of-type {\n",
       "        vertical-align: middle;\n",
       "    }\n",
       "\n",
       "    .dataframe tbody tr th {\n",
       "        vertical-align: top;\n",
       "    }\n",
       "\n",
       "    .dataframe thead th {\n",
       "        text-align: right;\n",
       "    }\n",
       "</style>\n",
       "<table border=\"1\" class=\"dataframe\">\n",
       "  <thead>\n",
       "    <tr style=\"text-align: right;\">\n",
       "      <th></th>\n",
       "      <th>version</th>\n",
       "      <th>model</th>\n",
       "      <th>MP</th>\n",
       "      <th>MMP</th>\n",
       "      <th>mean_median_position</th>\n",
       "      <th>MAP</th>\n",
       "      <th>R@400</th>\n",
       "      <th>R@200</th>\n",
       "      <th>R@100</th>\n",
       "      <th>R@50</th>\n",
       "      <th>R@20</th>\n",
       "    </tr>\n",
       "  </thead>\n",
       "  <tbody>\n",
       "    <tr>\n",
       "      <th>0</th>\n",
       "      <td>v0</td>\n",
       "      <td>resnext</td>\n",
       "      <td>1018.200000</td>\n",
       "      <td>1675.157895</td>\n",
       "      <td>1056.473684</td>\n",
       "      <td>9.695262</td>\n",
       "      <td>42.105263</td>\n",
       "      <td>31.578947</td>\n",
       "      <td>31.578947</td>\n",
       "      <td>31.578947</td>\n",
       "      <td>21.052632</td>\n",
       "    </tr>\n",
       "    <tr>\n",
       "      <th>1</th>\n",
       "      <td>v1</td>\n",
       "      <td>resnext</td>\n",
       "      <td>1170.238095</td>\n",
       "      <td>1940.476190</td>\n",
       "      <td>1170.238095</td>\n",
       "      <td>11.263226</td>\n",
       "      <td>52.380952</td>\n",
       "      <td>47.619048</td>\n",
       "      <td>28.571429</td>\n",
       "      <td>28.571429</td>\n",
       "      <td>19.047619</td>\n",
       "    </tr>\n",
       "    <tr>\n",
       "      <th>2</th>\n",
       "      <td>v2</td>\n",
       "      <td>resnext</td>\n",
       "      <td>939.214286</td>\n",
       "      <td>1499.851852</td>\n",
       "      <td>963.222222</td>\n",
       "      <td>10.681488</td>\n",
       "      <td>40.740741</td>\n",
       "      <td>37.037037</td>\n",
       "      <td>33.333333</td>\n",
       "      <td>33.333333</td>\n",
       "      <td>22.222222</td>\n",
       "    </tr>\n",
       "    <tr>\n",
       "      <th>3</th>\n",
       "      <td>v3</td>\n",
       "      <td>resnext</td>\n",
       "      <td>874.537037</td>\n",
       "      <td>1168.280000</td>\n",
       "      <td>800.420000</td>\n",
       "      <td>11.366725</td>\n",
       "      <td>48.000000</td>\n",
       "      <td>36.000000</td>\n",
       "      <td>36.000000</td>\n",
       "      <td>32.000000</td>\n",
       "      <td>16.000000</td>\n",
       "    </tr>\n",
       "    <tr>\n",
       "      <th>4</th>\n",
       "      <td>v4</td>\n",
       "      <td>resnext</td>\n",
       "      <td>1170.976190</td>\n",
       "      <td>2051.550000</td>\n",
       "      <td>1213.275000</td>\n",
       "      <td>24.361230</td>\n",
       "      <td>40.000000</td>\n",
       "      <td>35.000000</td>\n",
       "      <td>35.000000</td>\n",
       "      <td>30.000000</td>\n",
       "      <td>30.000000</td>\n",
       "    </tr>\n",
       "    <tr>\n",
       "      <th>5</th>\n",
       "      <td>v5</td>\n",
       "      <td>resnext</td>\n",
       "      <td>749.575000</td>\n",
       "      <td>1109.631579</td>\n",
       "      <td>773.710526</td>\n",
       "      <td>21.889611</td>\n",
       "      <td>42.105263</td>\n",
       "      <td>36.842105</td>\n",
       "      <td>36.842105</td>\n",
       "      <td>36.842105</td>\n",
       "      <td>31.578947</td>\n",
       "    </tr>\n",
       "    <tr>\n",
       "      <th>6</th>\n",
       "      <td>v6</td>\n",
       "      <td>resnext</td>\n",
       "      <td>1095.015152</td>\n",
       "      <td>1790.030303</td>\n",
       "      <td>1095.015152</td>\n",
       "      <td>13.501579</td>\n",
       "      <td>39.393939</td>\n",
       "      <td>33.333333</td>\n",
       "      <td>27.272727</td>\n",
       "      <td>27.272727</td>\n",
       "      <td>24.242424</td>\n",
       "    </tr>\n",
       "    <tr>\n",
       "      <th>7</th>\n",
       "      <td>v7</td>\n",
       "      <td>resnext</td>\n",
       "      <td>883.428571</td>\n",
       "      <td>1074.842105</td>\n",
       "      <td>743.368421</td>\n",
       "      <td>21.436893</td>\n",
       "      <td>47.368421</td>\n",
       "      <td>42.105263</td>\n",
       "      <td>31.578947</td>\n",
       "      <td>26.315789</td>\n",
       "      <td>21.052632</td>\n",
       "    </tr>\n",
       "    <tr>\n",
       "      <th>8</th>\n",
       "      <td>v8</td>\n",
       "      <td>resnext</td>\n",
       "      <td>924.444444</td>\n",
       "      <td>1448.888889</td>\n",
       "      <td>924.444444</td>\n",
       "      <td>26.590775</td>\n",
       "      <td>55.555556</td>\n",
       "      <td>44.444444</td>\n",
       "      <td>44.444444</td>\n",
       "      <td>44.444444</td>\n",
       "      <td>44.444444</td>\n",
       "    </tr>\n",
       "    <tr>\n",
       "      <th>9</th>\n",
       "      <td>v9</td>\n",
       "      <td>resnext</td>\n",
       "      <td>712.875000</td>\n",
       "      <td>1025.750000</td>\n",
       "      <td>712.875000</td>\n",
       "      <td>17.711640</td>\n",
       "      <td>62.500000</td>\n",
       "      <td>56.250000</td>\n",
       "      <td>50.000000</td>\n",
       "      <td>50.000000</td>\n",
       "      <td>37.500000</td>\n",
       "    </tr>\n",
       "    <tr>\n",
       "      <th>10</th>\n",
       "      <td>v10</td>\n",
       "      <td>resnext</td>\n",
       "      <td>1011.718750</td>\n",
       "      <td>1623.437500</td>\n",
       "      <td>1011.718750</td>\n",
       "      <td>24.101843</td>\n",
       "      <td>50.000000</td>\n",
       "      <td>37.500000</td>\n",
       "      <td>31.250000</td>\n",
       "      <td>31.250000</td>\n",
       "      <td>31.250000</td>\n",
       "    </tr>\n",
       "  </tbody>\n",
       "</table>\n",
       "</div>"
      ],
      "text/plain": [
       "   version    model           MP          MMP  mean_median_position  \\\n",
       "0       v0  resnext  1018.200000  1675.157895           1056.473684   \n",
       "1       v1  resnext  1170.238095  1940.476190           1170.238095   \n",
       "2       v2  resnext   939.214286  1499.851852            963.222222   \n",
       "3       v3  resnext   874.537037  1168.280000            800.420000   \n",
       "4       v4  resnext  1170.976190  2051.550000           1213.275000   \n",
       "5       v5  resnext   749.575000  1109.631579            773.710526   \n",
       "6       v6  resnext  1095.015152  1790.030303           1095.015152   \n",
       "7       v7  resnext   883.428571  1074.842105            743.368421   \n",
       "8       v8  resnext   924.444444  1448.888889            924.444444   \n",
       "9       v9  resnext   712.875000  1025.750000            712.875000   \n",
       "10     v10  resnext  1011.718750  1623.437500           1011.718750   \n",
       "\n",
       "          MAP      R@400      R@200      R@100       R@50       R@20  \n",
       "0    9.695262  42.105263  31.578947  31.578947  31.578947  21.052632  \n",
       "1   11.263226  52.380952  47.619048  28.571429  28.571429  19.047619  \n",
       "2   10.681488  40.740741  37.037037  33.333333  33.333333  22.222222  \n",
       "3   11.366725  48.000000  36.000000  36.000000  32.000000  16.000000  \n",
       "4   24.361230  40.000000  35.000000  35.000000  30.000000  30.000000  \n",
       "5   21.889611  42.105263  36.842105  36.842105  36.842105  31.578947  \n",
       "6   13.501579  39.393939  33.333333  27.272727  27.272727  24.242424  \n",
       "7   21.436893  47.368421  42.105263  31.578947  26.315789  21.052632  \n",
       "8   26.590775  55.555556  44.444444  44.444444  44.444444  44.444444  \n",
       "9   17.711640  62.500000  56.250000  50.000000  50.000000  37.500000  \n",
       "10  24.101843  50.000000  37.500000  31.250000  31.250000  31.250000  "
      ]
     },
     "execution_count": 12,
     "metadata": {},
     "output_type": "execute_result"
    }
   ],
   "source": [
    "test_metrics_df"
   ]
  },
  {
   "cell_type": "code",
   "execution_count": 13,
   "id": "a9999eeb-4d08-485b-8ec6-cd8b087dbf5d",
   "metadata": {},
   "outputs": [
    {
     "data": {
      "text/html": [
       "<div>\n",
       "<style scoped>\n",
       "    .dataframe tbody tr th:only-of-type {\n",
       "        vertical-align: middle;\n",
       "    }\n",
       "\n",
       "    .dataframe tbody tr th {\n",
       "        vertical-align: top;\n",
       "    }\n",
       "\n",
       "    .dataframe thead th {\n",
       "        text-align: right;\n",
       "    }\n",
       "</style>\n",
       "<table border=\"1\" class=\"dataframe\">\n",
       "  <thead>\n",
       "    <tr style=\"text-align: right;\">\n",
       "      <th></th>\n",
       "      <th>version</th>\n",
       "      <th>model</th>\n",
       "      <th>MP</th>\n",
       "      <th>MMP</th>\n",
       "      <th>mean_median_position</th>\n",
       "      <th>MAP</th>\n",
       "      <th>R@400</th>\n",
       "      <th>R@200</th>\n",
       "      <th>R@100</th>\n",
       "      <th>R@50</th>\n",
       "      <th>R@20</th>\n",
       "    </tr>\n",
       "  </thead>\n",
       "  <tbody>\n",
       "    <tr>\n",
       "      <th>0</th>\n",
       "      <td>v0</td>\n",
       "      <td>resnext</td>\n",
       "      <td>999.062500</td>\n",
       "      <td>1606.868421</td>\n",
       "      <td>1014.592105</td>\n",
       "      <td>13.300891</td>\n",
       "      <td>44.736842</td>\n",
       "      <td>39.473684</td>\n",
       "      <td>36.842105</td>\n",
       "      <td>34.210526</td>\n",
       "      <td>23.684211</td>\n",
       "    </tr>\n",
       "    <tr>\n",
       "      <th>1</th>\n",
       "      <td>v1</td>\n",
       "      <td>resnext</td>\n",
       "      <td>995.235294</td>\n",
       "      <td>1590.470588</td>\n",
       "      <td>995.235294</td>\n",
       "      <td>10.825149</td>\n",
       "      <td>45.098039</td>\n",
       "      <td>43.137255</td>\n",
       "      <td>29.411765</td>\n",
       "      <td>27.450980</td>\n",
       "      <td>19.607843</td>\n",
       "    </tr>\n",
       "    <tr>\n",
       "      <th>2</th>\n",
       "      <td>v2</td>\n",
       "      <td>resnext</td>\n",
       "      <td>1028.820000</td>\n",
       "      <td>1673.102041</td>\n",
       "      <td>1043.877551</td>\n",
       "      <td>10.075975</td>\n",
       "      <td>40.816327</td>\n",
       "      <td>30.612245</td>\n",
       "      <td>26.530612</td>\n",
       "      <td>22.448980</td>\n",
       "      <td>16.326531</td>\n",
       "    </tr>\n",
       "    <tr>\n",
       "      <th>3</th>\n",
       "      <td>v3</td>\n",
       "      <td>resnext</td>\n",
       "      <td>907.236842</td>\n",
       "      <td>1364.018519</td>\n",
       "      <td>884.916667</td>\n",
       "      <td>13.879543</td>\n",
       "      <td>42.592593</td>\n",
       "      <td>35.185185</td>\n",
       "      <td>33.333333</td>\n",
       "      <td>27.777778</td>\n",
       "      <td>18.518519</td>\n",
       "    </tr>\n",
       "    <tr>\n",
       "      <th>4</th>\n",
       "      <td>v4</td>\n",
       "      <td>resnext</td>\n",
       "      <td>991.980769</td>\n",
       "      <td>1634.320000</td>\n",
       "      <td>1019.340000</td>\n",
       "      <td>17.542426</td>\n",
       "      <td>42.000000</td>\n",
       "      <td>34.000000</td>\n",
       "      <td>30.000000</td>\n",
       "      <td>26.000000</td>\n",
       "      <td>24.000000</td>\n",
       "    </tr>\n",
       "    <tr>\n",
       "      <th>5</th>\n",
       "      <td>v5</td>\n",
       "      <td>resnext</td>\n",
       "      <td>997.857143</td>\n",
       "      <td>1610.208333</td>\n",
       "      <td>1012.583333</td>\n",
       "      <td>17.258695</td>\n",
       "      <td>39.583333</td>\n",
       "      <td>35.416667</td>\n",
       "      <td>31.250000</td>\n",
       "      <td>31.250000</td>\n",
       "      <td>22.916667</td>\n",
       "    </tr>\n",
       "    <tr>\n",
       "      <th>6</th>\n",
       "      <td>v6</td>\n",
       "      <td>resnext</td>\n",
       "      <td>989.132075</td>\n",
       "      <td>1477.764706</td>\n",
       "      <td>941.098039</td>\n",
       "      <td>10.824242</td>\n",
       "      <td>41.176471</td>\n",
       "      <td>33.333333</td>\n",
       "      <td>27.450980</td>\n",
       "      <td>27.450980</td>\n",
       "      <td>23.529412</td>\n",
       "    </tr>\n",
       "    <tr>\n",
       "      <th>7</th>\n",
       "      <td>v7</td>\n",
       "      <td>resnext</td>\n",
       "      <td>1115.837500</td>\n",
       "      <td>1710.131579</td>\n",
       "      <td>1058.039474</td>\n",
       "      <td>14.939270</td>\n",
       "      <td>42.105263</td>\n",
       "      <td>39.473684</td>\n",
       "      <td>28.947368</td>\n",
       "      <td>26.315789</td>\n",
       "      <td>15.789474</td>\n",
       "    </tr>\n",
       "    <tr>\n",
       "      <th>8</th>\n",
       "      <td>v8</td>\n",
       "      <td>resnext</td>\n",
       "      <td>1147.020408</td>\n",
       "      <td>1801.875000</td>\n",
       "      <td>1101.937500</td>\n",
       "      <td>14.350031</td>\n",
       "      <td>43.750000</td>\n",
       "      <td>33.333333</td>\n",
       "      <td>25.000000</td>\n",
       "      <td>25.000000</td>\n",
       "      <td>20.833333</td>\n",
       "    </tr>\n",
       "    <tr>\n",
       "      <th>9</th>\n",
       "      <td>v9</td>\n",
       "      <td>resnext</td>\n",
       "      <td>875.500000</td>\n",
       "      <td>1351.000000</td>\n",
       "      <td>875.500000</td>\n",
       "      <td>17.687093</td>\n",
       "      <td>51.428571</td>\n",
       "      <td>40.000000</td>\n",
       "      <td>34.285714</td>\n",
       "      <td>34.285714</td>\n",
       "      <td>28.571429</td>\n",
       "    </tr>\n",
       "    <tr>\n",
       "      <th>10</th>\n",
       "      <td>v10</td>\n",
       "      <td>resnext</td>\n",
       "      <td>999.600000</td>\n",
       "      <td>1608.000000</td>\n",
       "      <td>1015.157895</td>\n",
       "      <td>20.806912</td>\n",
       "      <td>42.105263</td>\n",
       "      <td>31.578947</td>\n",
       "      <td>26.315789</td>\n",
       "      <td>26.315789</td>\n",
       "      <td>23.684211</td>\n",
       "    </tr>\n",
       "  </tbody>\n",
       "</table>\n",
       "</div>"
      ],
      "text/plain": [
       "   version    model           MP          MMP  mean_median_position  \\\n",
       "0       v0  resnext   999.062500  1606.868421           1014.592105   \n",
       "1       v1  resnext   995.235294  1590.470588            995.235294   \n",
       "2       v2  resnext  1028.820000  1673.102041           1043.877551   \n",
       "3       v3  resnext   907.236842  1364.018519            884.916667   \n",
       "4       v4  resnext   991.980769  1634.320000           1019.340000   \n",
       "5       v5  resnext   997.857143  1610.208333           1012.583333   \n",
       "6       v6  resnext   989.132075  1477.764706            941.098039   \n",
       "7       v7  resnext  1115.837500  1710.131579           1058.039474   \n",
       "8       v8  resnext  1147.020408  1801.875000           1101.937500   \n",
       "9       v9  resnext   875.500000  1351.000000            875.500000   \n",
       "10     v10  resnext   999.600000  1608.000000           1015.157895   \n",
       "\n",
       "          MAP      R@400      R@200      R@100       R@50       R@20  \n",
       "0   13.300891  44.736842  39.473684  36.842105  34.210526  23.684211  \n",
       "1   10.825149  45.098039  43.137255  29.411765  27.450980  19.607843  \n",
       "2   10.075975  40.816327  30.612245  26.530612  22.448980  16.326531  \n",
       "3   13.879543  42.592593  35.185185  33.333333  27.777778  18.518519  \n",
       "4   17.542426  42.000000  34.000000  30.000000  26.000000  24.000000  \n",
       "5   17.258695  39.583333  35.416667  31.250000  31.250000  22.916667  \n",
       "6   10.824242  41.176471  33.333333  27.450980  27.450980  23.529412  \n",
       "7   14.939270  42.105263  39.473684  28.947368  26.315789  15.789474  \n",
       "8   14.350031  43.750000  33.333333  25.000000  25.000000  20.833333  \n",
       "9   17.687093  51.428571  40.000000  34.285714  34.285714  28.571429  \n",
       "10  20.806912  42.105263  31.578947  26.315789  26.315789  23.684211  "
      ]
     },
     "execution_count": 13,
     "metadata": {},
     "output_type": "execute_result"
    }
   ],
   "source": [
    "non_train_metrics_df"
   ]
  },
  {
   "cell_type": "code",
   "execution_count": 14,
   "id": "9dfbca1e-8c44-4089-b51c-f8295569a6fa",
   "metadata": {},
   "outputs": [],
   "source": [
    "train_metrics_df.to_csv(\"./../../../data/model_learning/comparison/scores/baselines/train_scores_kfold.csv\", index=False)\n",
    "val_metrics_df.to_csv(\"./../../../data/model_learning/comparison/scores/baselines/val_scores_kfold.csv\", index=False)\n",
    "test_metrics_df.to_csv(\"./../../../data/model_learning/comparison/scores/baselines/test_scores_kfold.csv\", index=False)\n",
    "non_train_metrics_df.to_csv(\"./../../../data/model_learning/comparison/scores/baselines/non_train_scores_kfold.csv\", index=False)"
   ]
  },
  {
   "cell_type": "code",
   "execution_count": 3,
   "id": "3e72f76a-cc71-49d2-a2c0-8cae48dad774",
   "metadata": {},
   "outputs": [],
   "source": [
    "train_metrics_df= pd.read_csv(\"./../../../data/model_learning/comparison/scores/baselines/train_scores_kfold.csv\")\n",
    "val_metrics_df = pd.read_csv(\"./../../../data/model_learning/comparison/scores/baselines/val_scores_kfold.csv\")\n",
    "test_metrics_df = pd.read_csv(\"./../../../data/model_learning/comparison/scores/baselines/test_scores_kfold.csv\")\n",
    "non_train_metrics_df = pd.read_csv(\"./../../../data/model_learning/comparison/scores/baselines/non_train_scores_kfold.csv\")"
   ]
  },
  {
   "cell_type": "code",
   "execution_count": 4,
   "id": "813c9054-2c6f-41aa-984b-62e7b5ba30ba",
   "metadata": {},
   "outputs": [
    {
     "data": {
      "text/html": [
       "<div>\n",
       "<style scoped>\n",
       "    .dataframe tbody tr th:only-of-type {\n",
       "        vertical-align: middle;\n",
       "    }\n",
       "\n",
       "    .dataframe tbody tr th {\n",
       "        vertical-align: top;\n",
       "    }\n",
       "\n",
       "    .dataframe thead th {\n",
       "        text-align: right;\n",
       "    }\n",
       "</style>\n",
       "<table border=\"1\" class=\"dataframe\">\n",
       "  <thead>\n",
       "    <tr style=\"text-align: right;\">\n",
       "      <th></th>\n",
       "      <th>model</th>\n",
       "      <th>MP</th>\n",
       "      <th>MMP</th>\n",
       "      <th>MAP</th>\n",
       "      <th>R@400</th>\n",
       "      <th>R@200</th>\n",
       "      <th>R@100</th>\n",
       "      <th>R@50</th>\n",
       "      <th>R@20</th>\n",
       "    </tr>\n",
       "  </thead>\n",
       "  <tbody>\n",
       "    <tr>\n",
       "      <th>0</th>\n",
       "      <td>ResNeXT-101</td>\n",
       "      <td>977.79 ± 46.2</td>\n",
       "      <td>1477.38 ± 77.21</td>\n",
       "      <td>12.54 ± 1.26</td>\n",
       "      <td>47.02 ± 1.46</td>\n",
       "      <td>40.52 ± 1.56</td>\n",
       "      <td>33.76 ± 1.93</td>\n",
       "      <td>28.05 ± 1.95</td>\n",
       "      <td>21.77 ± 1.95</td>\n",
       "    </tr>\n",
       "  </tbody>\n",
       "</table>\n",
       "</div>"
      ],
      "text/plain": [
       "         model             MP              MMP           MAP         R@400  \\\n",
       "0  ResNeXT-101  977.79 ± 46.2  1477.38 ± 77.21  12.54 ± 1.26  47.02 ± 1.46   \n",
       "\n",
       "          R@200         R@100          R@50          R@20  \n",
       "0  40.52 ± 1.56  33.76 ± 1.93  28.05 ± 1.95  21.77 ± 1.95  "
      ]
     },
     "execution_count": 4,
     "metadata": {},
     "output_type": "execute_result"
    }
   ],
   "source": [
    "get_averaged_df(train_metrics_df)"
   ]
  },
  {
   "cell_type": "code",
   "execution_count": 5,
   "id": "37415269-3594-4c52-8b2f-d30286426ce4",
   "metadata": {},
   "outputs": [
    {
     "data": {
      "text/html": [
       "<div>\n",
       "<style scoped>\n",
       "    .dataframe tbody tr th:only-of-type {\n",
       "        vertical-align: middle;\n",
       "    }\n",
       "\n",
       "    .dataframe tbody tr th {\n",
       "        vertical-align: top;\n",
       "    }\n",
       "\n",
       "    .dataframe thead th {\n",
       "        text-align: right;\n",
       "    }\n",
       "</style>\n",
       "<table border=\"1\" class=\"dataframe\">\n",
       "  <thead>\n",
       "    <tr style=\"text-align: right;\">\n",
       "      <th></th>\n",
       "      <th>model</th>\n",
       "      <th>MP</th>\n",
       "      <th>MMP</th>\n",
       "      <th>MAP</th>\n",
       "      <th>R@400</th>\n",
       "      <th>R@200</th>\n",
       "      <th>R@100</th>\n",
       "      <th>R@50</th>\n",
       "      <th>R@20</th>\n",
       "    </tr>\n",
       "  </thead>\n",
       "  <tbody>\n",
       "    <tr>\n",
       "      <th>0</th>\n",
       "      <td>ResNeXT-101</td>\n",
       "      <td>1039.94 ± 178.51</td>\n",
       "      <td>1643.9 ± 389.54</td>\n",
       "      <td>12.5 ± 4.48</td>\n",
       "      <td>40.35 ± 3.63</td>\n",
       "      <td>32.98 ± 7.06</td>\n",
       "      <td>26.07 ± 7.51</td>\n",
       "      <td>23.53 ± 7.41</td>\n",
       "      <td>17.45 ± 6.1</td>\n",
       "    </tr>\n",
       "  </tbody>\n",
       "</table>\n",
       "</div>"
      ],
      "text/plain": [
       "         model                MP              MMP          MAP         R@400  \\\n",
       "0  ResNeXT-101  1039.94 ± 178.51  1643.9 ± 389.54  12.5 ± 4.48  40.35 ± 3.63   \n",
       "\n",
       "          R@200         R@100          R@50         R@20  \n",
       "0  32.98 ± 7.06  26.07 ± 7.51  23.53 ± 7.41  17.45 ± 6.1  "
      ]
     },
     "execution_count": 5,
     "metadata": {},
     "output_type": "execute_result"
    }
   ],
   "source": [
    "get_averaged_df(val_metrics_df)"
   ]
  },
  {
   "cell_type": "code",
   "execution_count": 6,
   "id": "04004f19-2b2c-484a-88ff-5ff9c3d4b956",
   "metadata": {},
   "outputs": [
    {
     "data": {
      "text/html": [
       "<div>\n",
       "<style scoped>\n",
       "    .dataframe tbody tr th:only-of-type {\n",
       "        vertical-align: middle;\n",
       "    }\n",
       "\n",
       "    .dataframe tbody tr th {\n",
       "        vertical-align: top;\n",
       "    }\n",
       "\n",
       "    .dataframe thead th {\n",
       "        text-align: right;\n",
       "    }\n",
       "</style>\n",
       "<table border=\"1\" class=\"dataframe\">\n",
       "  <thead>\n",
       "    <tr style=\"text-align: right;\">\n",
       "      <th></th>\n",
       "      <th>model</th>\n",
       "      <th>MP</th>\n",
       "      <th>MMP</th>\n",
       "      <th>MAP</th>\n",
       "      <th>R@400</th>\n",
       "      <th>R@200</th>\n",
       "      <th>R@100</th>\n",
       "      <th>R@50</th>\n",
       "      <th>R@20</th>\n",
       "    </tr>\n",
       "  </thead>\n",
       "  <tbody>\n",
       "    <tr>\n",
       "      <th>0</th>\n",
       "      <td>ResNeXT-101</td>\n",
       "      <td>959.11 ± 152.71</td>\n",
       "      <td>1491.63 ± 360.31</td>\n",
       "      <td>17.51 ± 6.39</td>\n",
       "      <td>47.29 ± 7.39</td>\n",
       "      <td>39.79 ± 7.26</td>\n",
       "      <td>35.08 ± 6.78</td>\n",
       "      <td>33.78 ± 7.35</td>\n",
       "      <td>27.13 ± 8.65</td>\n",
       "    </tr>\n",
       "  </tbody>\n",
       "</table>\n",
       "</div>"
      ],
      "text/plain": [
       "         model               MP               MMP           MAP         R@400  \\\n",
       "0  ResNeXT-101  959.11 ± 152.71  1491.63 ± 360.31  17.51 ± 6.39  47.29 ± 7.39   \n",
       "\n",
       "          R@200         R@100          R@50          R@20  \n",
       "0  39.79 ± 7.26  35.08 ± 6.78  33.78 ± 7.35  27.13 ± 8.65  "
      ]
     },
     "execution_count": 6,
     "metadata": {},
     "output_type": "execute_result"
    }
   ],
   "source": [
    "get_averaged_df(test_metrics_df)"
   ]
  },
  {
   "cell_type": "code",
   "execution_count": 7,
   "id": "406f43d5-9510-4496-a788-79d793a11bb3",
   "metadata": {},
   "outputs": [
    {
     "data": {
      "text/html": [
       "<div>\n",
       "<style scoped>\n",
       "    .dataframe tbody tr th:only-of-type {\n",
       "        vertical-align: middle;\n",
       "    }\n",
       "\n",
       "    .dataframe tbody tr th {\n",
       "        vertical-align: top;\n",
       "    }\n",
       "\n",
       "    .dataframe thead th {\n",
       "        text-align: right;\n",
       "    }\n",
       "</style>\n",
       "<table border=\"1\" class=\"dataframe\">\n",
       "  <thead>\n",
       "    <tr style=\"text-align: right;\">\n",
       "      <th></th>\n",
       "      <th>model</th>\n",
       "      <th>MP</th>\n",
       "      <th>MMP</th>\n",
       "      <th>MAP</th>\n",
       "      <th>R@400</th>\n",
       "      <th>R@200</th>\n",
       "      <th>R@100</th>\n",
       "      <th>R@50</th>\n",
       "      <th>R@20</th>\n",
       "    </tr>\n",
       "  </thead>\n",
       "  <tbody>\n",
       "    <tr>\n",
       "      <th>0</th>\n",
       "      <td>ResNeXT-101</td>\n",
       "      <td>1004.3 ± 77.44</td>\n",
       "      <td>1584.34 ± 137.71</td>\n",
       "      <td>14.68 ± 3.39</td>\n",
       "      <td>43.22 ± 3.18</td>\n",
       "      <td>35.96 ± 3.99</td>\n",
       "      <td>29.94 ± 3.69</td>\n",
       "      <td>28.05 ± 3.73</td>\n",
       "      <td>21.59 ± 3.8</td>\n",
       "    </tr>\n",
       "  </tbody>\n",
       "</table>\n",
       "</div>"
      ],
      "text/plain": [
       "         model              MP               MMP           MAP         R@400  \\\n",
       "0  ResNeXT-101  1004.3 ± 77.44  1584.34 ± 137.71  14.68 ± 3.39  43.22 ± 3.18   \n",
       "\n",
       "          R@200         R@100          R@50         R@20  \n",
       "0  35.96 ± 3.99  29.94 ± 3.69  28.05 ± 3.73  21.59 ± 3.8  "
      ]
     },
     "execution_count": 7,
     "metadata": {},
     "output_type": "execute_result"
    }
   ],
   "source": [
    "get_averaged_df(non_train_metrics_df)"
   ]
  },
  {
   "cell_type": "code",
   "execution_count": null,
   "id": "dd62b05a-239c-4b07-b453-48b6cfff76da",
   "metadata": {},
   "outputs": [],
   "source": []
  }
 ],
 "metadata": {
  "kernelspec": {
   "display_name": "unesco_drawings",
   "language": "python",
   "name": "unesco_drawings"
  },
  "language_info": {
   "codemirror_mode": {
    "name": "ipython",
    "version": 3
   },
   "file_extension": ".py",
   "mimetype": "text/x-python",
   "name": "python",
   "nbconvert_exporter": "python",
   "pygments_lexer": "ipython3",
   "version": "3.9.7"
  }
 },
 "nbformat": 4,
 "nbformat_minor": 5
}
