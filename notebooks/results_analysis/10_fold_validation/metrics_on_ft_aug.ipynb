{
 "cells": [
  {
   "cell_type": "markdown",
   "id": "a10b8467-0427-4c42-84b9-9e5abf0ecb4c",
   "metadata": {},
   "source": [
    "# Metrics of Fine tuning ResNeXt-101 with augmented images"
   ]
  },
  {
   "cell_type": "code",
   "execution_count": null,
   "id": "4ad67fe3-065e-4128-95f6-34c4a14bf1e1",
   "metadata": {},
   "outputs": [],
   "source": [
    "import pandas as pd\n",
    "import matplotlib.pyplot as plt\n",
    "import numpy as np\n",
    "\n",
    "import sys\n",
    "sys.path.insert(0, \"./../../../src/utils/\")\n",
    "from utils import winapi_path\n",
    "\n",
    "from IPython.core.interactiveshell import InteractiveShell\n",
    "InteractiveShell.ast_node_interactivity = \"all\""
   ]
  },
  {
   "cell_type": "code",
   "execution_count": null,
   "id": "2e328dad-f3c5-4d06-aae0-3acb0b2ddb08",
   "metadata": {},
   "outputs": [],
   "source": [
    "data_dir = \"./../../../data/model_learning/\"\n",
    "scores_dir = data_dir + \"scores/\"\n",
    "losses_dir = data_dir + \"losses/\"\n",
    "lr_dir = data_dir + \"learning_rates/\"\n",
    "\n",
    "scores_folder = \"scores_resnext-101_280_batch-4_adam_e-6_steplr_10-0.1_Marg-0.7_triplets-10_with-aug-images_noaugintest\"\n",
    "losses_folder = \"losses_resnext-101_280_batch-4_adam_e-6_steplr_10-0.1_Marg-0.7_triplets-10_with-aug-images_noaugintest\"\n",
    "lr_folder = \"lr_resnext-101_280_batch-4_adam_e-6_steplr_10-0.1_Marg-0.7_triplets-10_with-aug-images_noaugintest\"\n",
    "train_param = \"Resnext-101, 280 res, Batch 4, adam_e-6, steplr_10-0.1, Loss Marg-0.7, 10 triplets, with aug images\""
   ]
  },
  {
   "cell_type": "code",
   "execution_count": null,
   "id": "8749c0b8-2d25-4391-a494-a2c7c24fde3f",
   "metadata": {},
   "outputs": [],
   "source": [
    "def read_losses_scores_lr(curr_losses_folder, curr_scores_folder, curr_lr_folder, split_id):\n",
    "    \n",
    "    if split_id:\n",
    "        curr_scores_folder = curr_scores_folder + \"_v\" + str(split_id) + \"/\"\n",
    "        curr_losses_folder = curr_losses_folder + \"_v\" + str(split_id) + \"/\"\n",
    "        curr_lr_folder = curr_lr_folder + \"_v\" + str(split_id) + \"/\"\n",
    "    else:    \n",
    "        curr_scores_folder = curr_scores_folder + \"/\"\n",
    "        curr_losses_folder = curr_losses_folder + \"/\"\n",
    "        curr_lr_folder = curr_lr_folder + \"/\"\n",
    "        \n",
    "    \n",
    "    train_loss = pd.read_csv(winapi_path(losses_dir + curr_losses_folder + \"train_loss.csv\"))\n",
    "    val_loss = pd.read_csv(winapi_path(losses_dir + curr_losses_folder + \"validation_loss.csv\"))\n",
    "\n",
    "\n",
    "    train_scores = pd.read_csv(winapi_path(scores_dir + curr_scores_folder + \"train_scores.csv\"))\n",
    "    val_scores = pd.read_csv(winapi_path(scores_dir + curr_scores_folder + \"validation_scores.csv\"))\n",
    "    test_scores = pd.read_csv(winapi_path(scores_dir + curr_scores_folder + \"test_scores.csv\"))\n",
    "    non_train_scores = pd.read_csv(winapi_path(scores_dir + curr_scores_folder + \"test-and-val_scores.csv\"))\n",
    "    \n",
    "    learning_rates = pd.read_csv(winapi_path(lr_dir + curr_lr_folder + \"learning_rate.csv\"))\n",
    "    \n",
    "    return train_loss, val_loss, train_scores, val_scores, test_scores, non_train_scores, learning_rates\n",
    "\n",
    "\n",
    "def highlight_df_scores(score_df):\n",
    "    return (score_df.style.highlight_min(color = 'lightgreen', axis = 0, subset=['mean_position','mean_min_position', 'mean_median_position'])\n",
    " .highlight_max(color = 'lightblue', axis = 0, subset=['map','recall_400', 'recall_200', 'recall_100', 'recall_50', 'recall_20']))\n",
    "\n",
    "\n",
    "def plot_mean_position(train_df, val_df, test_df, test_val_df, train_param):\n",
    "    plts = plt.figure(figsize=(9, 6))\n",
    "    plt.plot(train_df['mean_position'], label=\"train\")\n",
    "    if val_df is not None:\n",
    "        plt.plot(val_df['mean_position'], label=\"validation\")\n",
    "    if test_df is not None:\n",
    "        plt.plot(test_df['mean_position'], label=\"test\")\n",
    "    if test_val_df is not None:\n",
    "        plt.plot(test_val_df['mean_position'], label=\"Non-Train\")\n",
    "    plt.xlabel(\"Epoch\")\n",
    "    plt.ylabel(\"Mean Position of retrived artwork\")\n",
    "    plt.legend()\n",
    "    plt.title(\"Average position of the expected artwork in the list of retrived artworks\")\n",
    "    plt.suptitle(train_param)\n",
    "    plt.grid()\n",
    "    plts.tight_layout()\n",
    "    \n",
    "    \n",
    "def plot_recall_at_k(train_df, val_df, test_df, test_val_df, train_param, recall_columns = ['recall_400', 'recall_200', 'recall_100', 'recall_50', 'recall_20']):\n",
    "\n",
    "    plts = plt.figure(figsize=(15, 9))\n",
    "    ax1 = plt.subplot2grid(shape=(2,6), loc=(0,0), colspan=2, fig=plts)\n",
    "    ax2 = plt.subplot2grid((2,6), (0,2), colspan=2, fig=plts, sharey=ax1)\n",
    "    ax3 = plt.subplot2grid((2,6), (0,4), colspan=2, fig=plts, sharey=ax1)\n",
    "    ax4 = plt.subplot2grid((2,6), (1,1), colspan=2, fig=plts, sharey=ax1)\n",
    "    ax5 = plt.subplot2grid((2,6), (1,3), colspan=2, fig=plts, sharey=ax1)\n",
    "\n",
    "    axs = [ax1, ax2, ax3, ax4, ax5]\n",
    "\n",
    "    for num, name in enumerate(recall_columns):\n",
    "\n",
    "        axs[num].plot(train_df[name], label=\"train\")\n",
    "        axs[num].plot(val_df[name], label=\"validation\")\n",
    "        axs[num].plot(test_df[name], label=\"test\")\n",
    "        if test_val_df is not None:\n",
    "            axs[num].plot(test_val_df[name], label=\"non-train\")\n",
    "        axs[num].set_xlabel(\"Epoch\")\n",
    "        axs[num].set_ylabel(name)\n",
    "        axs[num].legend()\n",
    "        axs[num].set_title(name.replace(\"_\", \"@\").replace(\"recall\", \"Recall\"))\n",
    "        axs[num].grid()\n",
    "\n",
    "\n",
    "    plts.suptitle(\"{}\\nRecall@k\".format(train_param))\n",
    "    plt.yticks(np.linspace(0, 1, 11))\n",
    "    plt.margins(x=0.02)\n",
    "    plts.tight_layout()\n",
    "    \n",
    "    \n",
    "def get_averaged_df(score_dataframe):\n",
    "    a = score_dataframe.groupby(\"model\").agg(['mean', 'std'])\n",
    "    a.columns = list(map('_'.join, a.columns.values))\n",
    "    a[\"MP\"] = round(a[\"MP_mean\"], 2).astype(str) + \" ± \" + round(a[\"MP_std\"], 2).astype(str)\n",
    "    a[\"MMP\"] = round(a[\"MMP_mean\"], 2).astype(str) + \" ± \" + round(a[\"MMP_std\"], 2).astype(str)\n",
    "    a[\"mean_median_position\"] = round(a[\"mean_median_position_mean\"], 2).astype(str) + \" ± \" + round(a[\"mean_median_position_std\"], 2).astype(str)\n",
    "    a[\"MAP\"] = round(a[\"MAP_mean\"], 2).astype(str) + \" ± \" + round(a[\"MAP_std\"], 2).astype(str)\n",
    "    a[\"R@400\"] = round(a[\"R@400_mean\"], 2).astype(str) + \" ± \" + round(a[\"R@400_std\"], 2).astype(str)\n",
    "    a[\"R@200\"] = round(a[\"R@200_mean\"], 2).astype(str) + \" ± \" + round(a[\"R@200_std\"], 2).astype(str)\n",
    "    a[\"R@100\"] = round(a[\"R@100_mean\"], 2).astype(str) + \" ± \" + round(a[\"R@100_std\"], 2).astype(str)\n",
    "    a[\"R@50\"] = round(a[\"R@50_mean\"], 2).astype(str) + \" ± \" + round(a[\"R@50_std\"], 2).astype(str)\n",
    "    a[\"R@20\"] = round(a[\"R@20_mean\"], 2).astype(str) + \" ± \" + round(a[\"R@20_std\"], 2).astype(str)\n",
    "\n",
    "    b = a[[\"MP\", \"MMP\", 'MAP','R@400', 'R@200', 'R@100', 'R@50', 'R@20']].reset_index()\n",
    "    score_dataframe_avg_df = b.replace({\"resnet\": \"ResNet-101\", \"resnext\": \"ResNeXT-101\"})\n",
    "    \n",
    "    return score_dataframe_avg_df"
   ]
  },
  {
   "cell_type": "code",
   "execution_count": null,
   "id": "2d1cd2e2-d0af-40a5-aabf-b51294bc4b80",
   "metadata": {},
   "outputs": [],
   "source": [
    "train_metrics, val_metrics, test_metrics, non_train_metrics = [], [], [], []"
   ]
  },
  {
   "cell_type": "markdown",
   "id": "ce639c37-0663-4e38-a6bf-511d45f77467",
   "metadata": {},
   "source": [
    "## Data Split - v0"
   ]
  },
  {
   "cell_type": "code",
   "execution_count": null,
   "id": "6bc9ed6a-7cfe-47e4-9bfb-4b3c80bbc140",
   "metadata": {},
   "outputs": [],
   "source": [
    "split_id = 0\n",
    "\n",
    "(train_loss, val_loss,\n",
    " train_scores, val_scores, test_scores,\n",
    " test_val_scores, lr_df) = read_losses_scores_lr(losses_folder, scores_folder, lr_folder, split_id)\n",
    "\n",
    "print(\"Train scores\")\n",
    "highlight_df_scores(train_scores)\n",
    "print(\"Val scores\")\n",
    "highlight_df_scores(val_scores)\n",
    "print(\"Test scores\")\n",
    "highlight_df_scores(test_scores)\n",
    "print(\"Non-train scores\")\n",
    "highlight_df_scores(test_val_scores)\n",
    "\n",
    "plot_mean_position(train_scores, val_scores, test_scores, None, train_param + \"\\nsplit: {}\".format(split_id))\n",
    "plot_recall_at_k(train_scores, val_scores, test_scores, None, train_param + \"\\nsplit: {}\".format(split_id))"
   ]
  },
  {
   "cell_type": "code",
   "execution_count": null,
   "id": "6b8bceda-e9ed-4d58-b56a-04d2b68313dd",
   "metadata": {},
   "outputs": [],
   "source": [
    "best_epoch = 3\n",
    "\n",
    "train_metrics.append([\"FT Aug\", split_id, best_epoch] + train_scores.loc[best_epoch].values.tolist())\n",
    "val_metrics.append([\"FT Aug\", split_id, best_epoch] + val_scores.loc[best_epoch].values.tolist())\n",
    "test_metrics.append([\"FT Aug\", split_id, best_epoch] + test_scores.loc[best_epoch].values.tolist())\n",
    "non_train_metrics.append([\"FT Aug\", split_id, best_epoch] + test_val_scores.loc[best_epoch].values.tolist())"
   ]
  },
  {
   "cell_type": "markdown",
   "id": "599bc498-81dd-403d-be37-3180f68a9c02",
   "metadata": {},
   "source": [
    "## Data Split - v1"
   ]
  },
  {
   "cell_type": "code",
   "execution_count": null,
   "id": "b1a14e91-943b-495a-a049-9ba23d19683e",
   "metadata": {},
   "outputs": [],
   "source": [
    "split_id = 1\n",
    "\n",
    "(train_loss, val_loss,\n",
    " train_scores, val_scores, test_scores,\n",
    " test_val_scores, lr_df) = read_losses_scores_lr(losses_folder, scores_folder, lr_folder, split_id)\n",
    "\n",
    "print(\"Train scores\")\n",
    "highlight_df_scores(train_scores)\n",
    "print(\"Val scores\")\n",
    "highlight_df_scores(val_scores)\n",
    "print(\"Test scores\")\n",
    "highlight_df_scores(test_scores)\n",
    "print(\"Non-train scores\")\n",
    "highlight_df_scores(test_val_scores)\n",
    "\n",
    "plot_mean_position(train_scores, val_scores, test_scores, None, train_param + \"\\nsplit: {}\".format(split_id))\n",
    "plot_recall_at_k(train_scores, val_scores, test_scores, None, train_param + \"\\nsplit: {}\".format(split_id))"
   ]
  },
  {
   "cell_type": "code",
   "execution_count": null,
   "id": "7e386463-919f-4004-9584-10708e6dd3f8",
   "metadata": {},
   "outputs": [],
   "source": [
    "best_epoch = 4\n",
    "\n",
    "train_metrics.append([\"FT Aug\", split_id, best_epoch] + train_scores.loc[best_epoch].values.tolist())\n",
    "val_metrics.append([\"FT Aug\", split_id, best_epoch] + val_scores.loc[best_epoch].values.tolist())\n",
    "test_metrics.append([\"FT Aug\", split_id, best_epoch] + test_scores.loc[best_epoch].values.tolist())\n",
    "non_train_metrics.append([\"FT Aug\", split_id, best_epoch] + test_val_scores.loc[best_epoch].values.tolist())"
   ]
  },
  {
   "cell_type": "markdown",
   "id": "c45769ad-70fb-4282-bab4-342efc371aa6",
   "metadata": {},
   "source": [
    "## Data Split - v2"
   ]
  },
  {
   "cell_type": "code",
   "execution_count": null,
   "id": "0a99023e-7172-4588-8fea-96c2d64f00d2",
   "metadata": {},
   "outputs": [],
   "source": [
    "split_id = 2\n",
    "\n",
    "(train_loss, val_loss,\n",
    " train_scores, val_scores, test_scores,\n",
    " test_val_scores, lr_df) = read_losses_scores_lr(losses_folder, scores_folder, lr_folder, split_id)\n",
    "\n",
    "print(\"Train scores\")\n",
    "highlight_df_scores(train_scores)\n",
    "print(\"Val scores\")\n",
    "highlight_df_scores(val_scores)\n",
    "print(\"Test scores\")\n",
    "highlight_df_scores(test_scores)\n",
    "print(\"Non-train scores\")\n",
    "highlight_df_scores(test_val_scores)\n",
    "\n",
    "plot_mean_position(train_scores, val_scores, test_scores, None, train_param + \"\\nsplit: {}\".format(split_id))\n",
    "plot_recall_at_k(train_scores, val_scores, test_scores, None, train_param + \"\\nsplit: {}\".format(split_id))"
   ]
  },
  {
   "cell_type": "code",
   "execution_count": null,
   "id": "2e11aa26-0e3d-4921-ba18-dda79fe9af6d",
   "metadata": {},
   "outputs": [],
   "source": [
    "best_epoch = 4\n",
    "\n",
    "train_metrics.append([\"FT Aug\", split_id, best_epoch] + train_scores.loc[best_epoch].values.tolist())\n",
    "val_metrics.append([\"FT Aug\", split_id, best_epoch] + val_scores.loc[best_epoch].values.tolist())\n",
    "test_metrics.append([\"FT Aug\", split_id, best_epoch] + test_scores.loc[best_epoch].values.tolist())\n",
    "non_train_metrics.append([\"FT Aug\", split_id, best_epoch] + test_val_scores.loc[best_epoch].values.tolist())"
   ]
  },
  {
   "cell_type": "markdown",
   "id": "0c35f8be-8f28-4439-a406-5e1e1634875a",
   "metadata": {},
   "source": [
    "## Data Split - v3"
   ]
  },
  {
   "cell_type": "code",
   "execution_count": null,
   "id": "23685af9-72c7-4a51-9e17-0040861dcf75",
   "metadata": {},
   "outputs": [],
   "source": [
    "split_id = 3\n",
    "\n",
    "(train_loss, val_loss,\n",
    " train_scores, val_scores, test_scores,\n",
    " test_val_scores, lr_df) = read_losses_scores_lr(losses_folder, scores_folder, lr_folder, split_id)\n",
    "\n",
    "print(\"Train scores\")\n",
    "highlight_df_scores(train_scores)\n",
    "print(\"Val scores\")\n",
    "highlight_df_scores(val_scores)\n",
    "print(\"Test scores\")\n",
    "highlight_df_scores(test_scores)\n",
    "print(\"Non-train scores\")\n",
    "highlight_df_scores(test_val_scores)\n",
    "\n",
    "plot_mean_position(train_scores, val_scores, test_scores, None, train_param + \"\\nsplit: {}\".format(split_id))\n",
    "plot_recall_at_k(train_scores, val_scores, test_scores, None, train_param + \"\\nsplit: {}\".format(split_id))"
   ]
  },
  {
   "cell_type": "code",
   "execution_count": null,
   "id": "e9894822-3851-42a8-beed-e71ce95bf670",
   "metadata": {},
   "outputs": [],
   "source": [
    "best_epoch = 4\n",
    "\n",
    "train_metrics.append([\"FT Aug\", split_id, best_epoch] + train_scores.loc[best_epoch].values.tolist())\n",
    "val_metrics.append([\"FT Aug\", split_id, best_epoch] + val_scores.loc[best_epoch].values.tolist())\n",
    "test_metrics.append([\"FT Aug\", split_id, best_epoch] + test_scores.loc[best_epoch].values.tolist())\n",
    "non_train_metrics.append([\"FT Aug\", split_id, best_epoch] + test_val_scores.loc[best_epoch].values.tolist())"
   ]
  },
  {
   "cell_type": "markdown",
   "id": "3f4aac91-7edb-4128-89b9-fa12649e8264",
   "metadata": {},
   "source": [
    "## Data Split - v4"
   ]
  },
  {
   "cell_type": "code",
   "execution_count": null,
   "id": "e69c17cd-27f0-4ebe-b3b8-2ad2c9e7b286",
   "metadata": {},
   "outputs": [],
   "source": [
    "split_id = 4\n",
    "\n",
    "(train_loss, val_loss,\n",
    " train_scores, val_scores, test_scores,\n",
    " test_val_scores, lr_df) = read_losses_scores_lr(losses_folder, scores_folder, lr_folder, split_id)\n",
    "\n",
    "print(\"Train scores\")\n",
    "highlight_df_scores(train_scores)\n",
    "print(\"Val scores\")\n",
    "highlight_df_scores(val_scores)\n",
    "print(\"Test scores\")\n",
    "highlight_df_scores(test_scores)\n",
    "print(\"Non-train scores\")\n",
    "highlight_df_scores(test_val_scores)\n",
    "\n",
    "plot_mean_position(train_scores, val_scores, test_scores, None, train_param + \"\\nsplit: {}\".format(split_id))\n",
    "plot_recall_at_k(train_scores, val_scores, test_scores, None, train_param + \"\\nsplit: {}\".format(split_id))"
   ]
  },
  {
   "cell_type": "code",
   "execution_count": null,
   "id": "3ef5d6e8-d2b4-495d-b9fb-1fb59d99a96a",
   "metadata": {},
   "outputs": [],
   "source": [
    "best_epoch = 3\n",
    "\n",
    "train_metrics.append([\"FT Aug\", split_id, best_epoch] + train_scores.loc[best_epoch].values.tolist())\n",
    "val_metrics.append([\"FT Aug\", split_id, best_epoch] + val_scores.loc[best_epoch].values.tolist())\n",
    "test_metrics.append([\"FT Aug\", split_id, best_epoch] + test_scores.loc[best_epoch].values.tolist())\n",
    "non_train_metrics.append([\"FT Aug\", split_id, best_epoch] + test_val_scores.loc[best_epoch].values.tolist())"
   ]
  },
  {
   "cell_type": "markdown",
   "id": "059b061c-c77e-409b-a4b2-06443974113e",
   "metadata": {},
   "source": [
    "## Data Split - v5"
   ]
  },
  {
   "cell_type": "code",
   "execution_count": null,
   "id": "b881ada1-be56-4880-97e5-05026402c61a",
   "metadata": {},
   "outputs": [],
   "source": [
    "split_id = 5\n",
    "\n",
    "(train_loss, val_loss,\n",
    " train_scores, val_scores, test_scores,\n",
    " test_val_scores, lr_df) = read_losses_scores_lr(losses_folder, scores_folder, lr_folder, split_id)\n",
    "\n",
    "print(\"Train scores\")\n",
    "highlight_df_scores(train_scores)\n",
    "print(\"Val scores\")\n",
    "highlight_df_scores(val_scores)\n",
    "print(\"Test scores\")\n",
    "highlight_df_scores(test_scores)\n",
    "print(\"Non-train scores\")\n",
    "highlight_df_scores(test_val_scores)\n",
    "\n",
    "plot_mean_position(train_scores, val_scores, test_scores, None, train_param + \"\\nsplit: {}\".format(split_id))\n",
    "plot_recall_at_k(train_scores, val_scores, test_scores, None, train_param + \"\\nsplit: {}\".format(split_id))"
   ]
  },
  {
   "cell_type": "code",
   "execution_count": null,
   "id": "97ba4932-647d-477c-b985-88d80bb8ac56",
   "metadata": {},
   "outputs": [],
   "source": [
    "best_epoch = 3\n",
    "\n",
    "train_metrics.append([\"FT Aug\", split_id, best_epoch] + train_scores.loc[best_epoch].values.tolist())\n",
    "val_metrics.append([\"FT Aug\", split_id, best_epoch] + val_scores.loc[best_epoch].values.tolist())\n",
    "test_metrics.append([\"FT Aug\", split_id, best_epoch] + test_scores.loc[best_epoch].values.tolist())\n",
    "non_train_metrics.append([\"FT Aug\", split_id, best_epoch] + test_val_scores.loc[best_epoch].values.tolist())"
   ]
  },
  {
   "cell_type": "markdown",
   "id": "5ced1a28-97e7-4a6c-9ba9-92001b122782",
   "metadata": {},
   "source": [
    "## Data Split - v6"
   ]
  },
  {
   "cell_type": "code",
   "execution_count": null,
   "id": "d00e7adf-a1bb-4247-8056-d37350114322",
   "metadata": {},
   "outputs": [],
   "source": [
    "split_id = 6\n",
    "\n",
    "(train_loss, val_loss,\n",
    " train_scores, val_scores, test_scores,\n",
    " test_val_scores, lr_df) = read_losses_scores_lr(losses_folder, scores_folder, lr_folder, split_id)\n",
    "\n",
    "print(\"Train scores\")\n",
    "highlight_df_scores(train_scores)\n",
    "print(\"Val scores\")\n",
    "highlight_df_scores(val_scores)\n",
    "print(\"Test scores\")\n",
    "highlight_df_scores(test_scores)\n",
    "print(\"Non-train scores\")\n",
    "highlight_df_scores(test_val_scores)\n",
    "\n",
    "plot_mean_position(train_scores, val_scores, test_scores, None, train_param + \"\\nsplit: {}\".format(split_id))\n",
    "plot_recall_at_k(train_scores, val_scores, test_scores, None, train_param + \"\\nsplit: {}\".format(split_id))"
   ]
  },
  {
   "cell_type": "code",
   "execution_count": null,
   "id": "20714ab9-193e-4d99-a634-40463b50fe19",
   "metadata": {},
   "outputs": [],
   "source": [
    "best_epoch = 3\n",
    "\n",
    "train_metrics.append([\"FT Aug\", split_id, best_epoch] + train_scores.loc[best_epoch].values.tolist())\n",
    "val_metrics.append([\"FT Aug\", split_id, best_epoch] + val_scores.loc[best_epoch].values.tolist())\n",
    "test_metrics.append([\"FT Aug\", split_id, best_epoch] + test_scores.loc[best_epoch].values.tolist())\n",
    "non_train_metrics.append([\"FT Aug\", split_id, best_epoch] + test_val_scores.loc[best_epoch].values.tolist())"
   ]
  },
  {
   "cell_type": "markdown",
   "id": "c99133e4-85c5-4162-bb5c-b94422564a53",
   "metadata": {},
   "source": [
    "## Data Split - v7"
   ]
  },
  {
   "cell_type": "code",
   "execution_count": null,
   "id": "99a47095-0424-4433-ba29-69bbdfac51e0",
   "metadata": {},
   "outputs": [],
   "source": [
    "split_id = 7\n",
    "\n",
    "(train_loss, val_loss,\n",
    " train_scores, val_scores, test_scores,\n",
    " test_val_scores, lr_df) = read_losses_scores_lr(losses_folder, scores_folder, lr_folder, split_id)\n",
    "\n",
    "print(\"Train scores\")\n",
    "highlight_df_scores(train_scores)\n",
    "print(\"Val scores\")\n",
    "highlight_df_scores(val_scores)\n",
    "print(\"Test scores\")\n",
    "highlight_df_scores(test_scores)\n",
    "print(\"Non-train scores\")\n",
    "highlight_df_scores(test_val_scores)\n",
    "\n",
    "plot_mean_position(train_scores, val_scores, test_scores, None, train_param + \"\\nsplit: {}\".format(split_id))\n",
    "plot_recall_at_k(train_scores, val_scores, test_scores, None, train_param + \"\\nsplit: {}\".format(split_id))"
   ]
  },
  {
   "cell_type": "code",
   "execution_count": null,
   "id": "1a8f5c02-d2c5-4e1b-b7e1-84046bda264e",
   "metadata": {},
   "outputs": [],
   "source": [
    "best_epoch = 2\n",
    "\n",
    "train_metrics.append([\"FT Aug\", split_id, best_epoch] + train_scores.loc[best_epoch].values.tolist())\n",
    "val_metrics.append([\"FT Aug\", split_id, best_epoch] + val_scores.loc[best_epoch].values.tolist())\n",
    "test_metrics.append([\"FT Aug\", split_id, best_epoch] + test_scores.loc[best_epoch].values.tolist())\n",
    "non_train_metrics.append([\"FT Aug\", split_id, best_epoch] + test_val_scores.loc[best_epoch].values.tolist())"
   ]
  },
  {
   "cell_type": "markdown",
   "id": "e71a9d25-27ae-4495-8f6a-b92e4dc6d358",
   "metadata": {},
   "source": [
    "## Data Split - v8"
   ]
  },
  {
   "cell_type": "code",
   "execution_count": null,
   "id": "2beb65ab-c860-4f5a-b988-2bcf4308ccb3",
   "metadata": {},
   "outputs": [],
   "source": [
    "split_id = 8\n",
    "\n",
    "(train_loss, val_loss,\n",
    " train_scores, val_scores, test_scores,\n",
    " test_val_scores, lr_df) = read_losses_scores_lr(losses_folder, scores_folder, lr_folder, split_id)\n",
    "\n",
    "print(\"Train scores\")\n",
    "highlight_df_scores(train_scores)\n",
    "print(\"Val scores\")\n",
    "highlight_df_scores(val_scores)\n",
    "print(\"Test scores\")\n",
    "highlight_df_scores(test_scores)\n",
    "print(\"Non-train scores\")\n",
    "highlight_df_scores(test_val_scores)\n",
    "\n",
    "plot_mean_position(train_scores, val_scores, test_scores, None, train_param + \"\\nsplit: {}\".format(split_id))\n",
    "plot_recall_at_k(train_scores, val_scores, test_scores, None, train_param + \"\\nsplit: {}\".format(split_id))"
   ]
  },
  {
   "cell_type": "code",
   "execution_count": null,
   "id": "dd4ba291-ae09-4a12-9866-7b01d06a0f3c",
   "metadata": {},
   "outputs": [],
   "source": [
    "best_epoch = 4\n",
    "\n",
    "train_metrics.append([\"FT Aug\", split_id, best_epoch] + train_scores.loc[best_epoch].values.tolist())\n",
    "val_metrics.append([\"FT Aug\", split_id, best_epoch] + val_scores.loc[best_epoch].values.tolist())\n",
    "test_metrics.append([\"FT Aug\", split_id, best_epoch] + test_scores.loc[best_epoch].values.tolist())\n",
    "non_train_metrics.append([\"FT Aug\", split_id, best_epoch] + test_val_scores.loc[best_epoch].values.tolist())"
   ]
  },
  {
   "cell_type": "markdown",
   "id": "a14f6440-2a53-49f0-bf27-3e1bc49798d1",
   "metadata": {},
   "source": [
    "## Data Split - v9"
   ]
  },
  {
   "cell_type": "code",
   "execution_count": null,
   "id": "1abea503-0c4c-4b7b-b9e9-337b48168aa1",
   "metadata": {},
   "outputs": [],
   "source": [
    "split_id = 9\n",
    "\n",
    "(train_loss, val_loss,\n",
    " train_scores, val_scores, test_scores,\n",
    " test_val_scores, lr_df) = read_losses_scores_lr(losses_folder, scores_folder, lr_folder, split_id)\n",
    "\n",
    "print(\"Train scores\")\n",
    "highlight_df_scores(train_scores)\n",
    "print(\"Val scores\")\n",
    "highlight_df_scores(val_scores)\n",
    "print(\"Test scores\")\n",
    "highlight_df_scores(test_scores)\n",
    "print(\"Non-train scores\")\n",
    "highlight_df_scores(test_val_scores)\n",
    "\n",
    "plot_mean_position(train_scores, val_scores, test_scores, None, train_param + \"\\nsplit: {}\".format(split_id))\n",
    "plot_recall_at_k(train_scores, val_scores, test_scores, None, train_param + \"\\nsplit: {}\".format(split_id))"
   ]
  },
  {
   "cell_type": "code",
   "execution_count": null,
   "id": "990366ff-9513-4df9-8086-10b7edb1b611",
   "metadata": {},
   "outputs": [],
   "source": [
    "best_epoch = 2\n",
    "\n",
    "train_metrics.append([\"FT Aug\", split_id, best_epoch] + train_scores.loc[best_epoch].values.tolist())\n",
    "val_metrics.append([\"FT Aug\", split_id, best_epoch] + val_scores.loc[best_epoch].values.tolist())\n",
    "test_metrics.append([\"FT Aug\", split_id, best_epoch] + test_scores.loc[best_epoch].values.tolist())\n",
    "non_train_metrics.append([\"FT Aug\", split_id, best_epoch] + test_val_scores.loc[best_epoch].values.tolist())"
   ]
  },
  {
   "cell_type": "markdown",
   "id": "655d3cff-5df6-405d-910d-55ee9a5a1ca7",
   "metadata": {},
   "source": [
    "## Data Split - v10"
   ]
  },
  {
   "cell_type": "code",
   "execution_count": null,
   "id": "b12f696e-722e-477d-b792-1f0e5f603918",
   "metadata": {},
   "outputs": [],
   "source": [
    "split_id = 10\n",
    "\n",
    "(train_loss, val_loss,\n",
    " train_scores, val_scores, test_scores,\n",
    " test_val_scores, lr_df) = read_losses_scores_lr(losses_folder, scores_folder, lr_folder, split_id)\n",
    "\n",
    "print(\"Train scores\")\n",
    "highlight_df_scores(train_scores)\n",
    "print(\"Val scores\")\n",
    "highlight_df_scores(val_scores)\n",
    "print(\"Test scores\")\n",
    "highlight_df_scores(test_scores)\n",
    "print(\"Non-train scores\")\n",
    "highlight_df_scores(test_val_scores)\n",
    "\n",
    "plot_mean_position(train_scores, val_scores, test_scores, None, train_param + \"\\nsplit: {}\".format(split_id))\n",
    "plot_recall_at_k(train_scores, val_scores, test_scores, None, train_param + \"\\nsplit: {}\".format(split_id))"
   ]
  },
  {
   "cell_type": "code",
   "execution_count": null,
   "id": "c85dc2b8-0c6f-4029-964d-bfc22b2e454d",
   "metadata": {},
   "outputs": [],
   "source": [
    "best_epoch = 2\n",
    "\n",
    "train_metrics.append([\"FT Aug\", split_id, best_epoch] + train_scores.loc[best_epoch].values.tolist())\n",
    "val_metrics.append([\"FT Aug\", split_id, best_epoch] + val_scores.loc[best_epoch].values.tolist())\n",
    "test_metrics.append([\"FT Aug\", split_id, best_epoch] + test_scores.loc[best_epoch].values.tolist())\n",
    "non_train_metrics.append([\"FT Aug\", split_id, best_epoch] + test_val_scores.loc[best_epoch].values.tolist())"
   ]
  },
  {
   "cell_type": "code",
   "execution_count": null,
   "id": "73d653da-2511-4c1a-901a-b01c7a98375b",
   "metadata": {},
   "outputs": [],
   "source": [
    "train_metrics_df = pd.DataFrame(train_metrics, columns=[\"model\", \"data_split_version\", \"best_epoch\", \"MP\",\"MMP\", \"mean_median_position\", 'MAP','R@400', 'R@200', 'R@100', 'R@50', 'R@20'])\n",
    "val_metrics_df = pd.DataFrame(val_metrics, columns=[\"model\", \"data_split_version\", \"best_epoch\", \"MP\",\"MMP\", \"mean_median_position\", 'MAP','R@400', 'R@200', 'R@100', 'R@50', 'R@20'])\n",
    "test_metrics_df = pd.DataFrame(test_metrics, columns=[\"model\", \"data_split_version\", \"best_epoch\", \"MP\",\"MMP\", \"mean_median_position\", 'MAP','R@400', 'R@200', 'R@100', 'R@50', 'R@20'])\n",
    "non_train_metrics_df = pd.DataFrame(non_train_metrics, columns=[\"model\", \"data_split_version\", \"best_epoch\", \"MP\",\"MMP\", \"mean_median_position\", 'MAP','R@400', 'R@200', 'R@100', 'R@50', 'R@20'])"
   ]
  },
  {
   "cell_type": "code",
   "execution_count": null,
   "id": "084d5e21-84dc-4dbb-aa68-ef407b0828c5",
   "metadata": {},
   "outputs": [],
   "source": [
    "train_metrics_df[\"MAP\"] = 100 * train_metrics_df[\"MAP\"]\n",
    "train_metrics_df[\"R@400\"] = 100 * train_metrics_df[\"R@400\"]\n",
    "train_metrics_df[\"R@200\"] = 100 * train_metrics_df[\"R@200\"]\n",
    "train_metrics_df[\"R@100\"] = 100 * train_metrics_df[\"R@100\"]\n",
    "train_metrics_df[\"R@50\"] = 100 * train_metrics_df[\"R@50\"]\n",
    "train_metrics_df[\"R@20\"] = 100 * train_metrics_df[\"R@20\"]\n",
    "\n",
    "val_metrics_df[\"MAP\"] = 100 * val_metrics_df[\"MAP\"]\n",
    "val_metrics_df[\"R@400\"] = 100 * val_metrics_df[\"R@400\"]\n",
    "val_metrics_df[\"R@200\"] = 100 * val_metrics_df[\"R@200\"]\n",
    "val_metrics_df[\"R@100\"] = 100 * val_metrics_df[\"R@100\"]\n",
    "val_metrics_df[\"R@50\"] = 100 * val_metrics_df[\"R@50\"]\n",
    "val_metrics_df[\"R@20\"] = 100 * val_metrics_df[\"R@20\"]\n",
    "\n",
    "test_metrics_df[\"MAP\"] = 100 * test_metrics_df[\"MAP\"]\n",
    "test_metrics_df[\"R@400\"] = 100 * test_metrics_df[\"R@400\"]\n",
    "test_metrics_df[\"R@200\"] = 100 * test_metrics_df[\"R@200\"]\n",
    "test_metrics_df[\"R@100\"] = 100 * test_metrics_df[\"R@100\"]\n",
    "test_metrics_df[\"R@50\"] = 100 * test_metrics_df[\"R@50\"]\n",
    "test_metrics_df[\"R@20\"] = 100 * test_metrics_df[\"R@20\"]\n",
    "\n",
    "non_train_metrics_df[\"MAP\"] = 100 * non_train_metrics_df[\"MAP\"]\n",
    "non_train_metrics_df[\"R@400\"] = 100 * non_train_metrics_df[\"R@400\"]\n",
    "non_train_metrics_df[\"R@200\"] = 100 * non_train_metrics_df[\"R@200\"]\n",
    "non_train_metrics_df[\"R@100\"] = 100 * non_train_metrics_df[\"R@100\"]\n",
    "non_train_metrics_df[\"R@50\"] = 100 * non_train_metrics_df[\"R@50\"]\n",
    "non_train_metrics_df[\"R@20\"] = 100 * non_train_metrics_df[\"R@20\"]"
   ]
  },
  {
   "cell_type": "code",
   "execution_count": null,
   "id": "ccdd7b5c-0abd-4f39-9f1a-86d55a9e7186",
   "metadata": {},
   "outputs": [],
   "source": [
    "train_metrics_df.to_csv(\"./../../../data/model_learning/comparison/scores/fine_tune_aug/train_scores_kfold.csv\", index=False)\n",
    "val_metrics_df.to_csv(\"./../../../data/model_learning/comparison/scores/fine_tune_aug/val_scores_kfold.csv\", index=False)\n",
    "test_metrics_df.to_csv(\"./../../../data/model_learning/comparison/scores/fine_tune_aug/test_scores_kfold.csv\", index=False)\n",
    "non_train_metrics_df.to_csv(\"./../../../data/model_learning/comparison/scores/fine_tune_aug/non_train_scores_kfold.csv\", index=False)"
   ]
  },
  {
   "cell_type": "code",
   "execution_count": null,
   "id": "6c2715fc-c627-40d8-9a3a-070c4d0a114d",
   "metadata": {},
   "outputs": [],
   "source": [
    "train_metrics_df"
   ]
  },
  {
   "cell_type": "code",
   "execution_count": null,
   "id": "f72fa234-d1d2-474a-ba8b-2a26d6d2026c",
   "metadata": {},
   "outputs": [],
   "source": [
    "val_metrics_df"
   ]
  },
  {
   "cell_type": "code",
   "execution_count": null,
   "id": "a0930764-d145-413d-a0ca-cdde1b31825e",
   "metadata": {},
   "outputs": [],
   "source": [
    "test_metrics_df"
   ]
  },
  {
   "cell_type": "code",
   "execution_count": null,
   "id": "ef7e17ba-7c1f-4fd2-9a59-143ee58dce4b",
   "metadata": {},
   "outputs": [],
   "source": [
    "non_train_metrics_df"
   ]
  },
  {
   "cell_type": "code",
   "execution_count": null,
   "id": "c715600e-e806-440d-8661-c02817b590f8",
   "metadata": {},
   "outputs": [],
   "source": [
    "train_metrics_df= pd.read_csv(\"./../../../data/model_learning/comparison/scores/fine_tune_aug/train_scores_kfold.csv\")\n",
    "val_metrics_df = pd.read_csv(\"./../../../data/model_learning/comparison/scores/fine_tune_aug/val_scores_kfold.csv\")\n",
    "test_metrics_df = pd.read_csv(\"./../../../data/model_learning/comparison/scores/fine_tune_aug/test_scores_kfold.csv\")\n",
    "non_train_metrics_df = pd.read_csv(\"./../../../data/model_learning/comparison/scores/fine_tune_aug/non_train_scores_kfold.csv\")"
   ]
  },
  {
   "cell_type": "code",
   "execution_count": null,
   "id": "cf3587ed-0e78-4956-832f-bd02eac87bbf",
   "metadata": {},
   "outputs": [],
   "source": [
    "get_averaged_df(train_metrics_df)"
   ]
  },
  {
   "cell_type": "code",
   "execution_count": null,
   "id": "d3cddfb4-9523-4671-8726-1c1e9d93b9c7",
   "metadata": {},
   "outputs": [],
   "source": [
    "get_averaged_df(val_metrics_df)"
   ]
  },
  {
   "cell_type": "code",
   "execution_count": null,
   "id": "c63b03dd-6e9f-4193-a403-a84fd6e01dcb",
   "metadata": {},
   "outputs": [],
   "source": [
    "get_averaged_df(test_metrics_df)"
   ]
  },
  {
   "cell_type": "code",
   "execution_count": null,
   "id": "138adca0-d8d5-4952-81d4-01b671f1426f",
   "metadata": {},
   "outputs": [],
   "source": [
    "get_averaged_df(non_train_metrics_df)"
   ]
  },
  {
   "cell_type": "code",
   "execution_count": null,
   "id": "c55fe851-e05c-4957-9ab2-6bb6804a66fe",
   "metadata": {},
   "outputs": [],
   "source": []
  }
 ],
 "metadata": {
  "kernelspec": {
   "display_name": "unesco_drawings",
   "language": "python",
   "name": "unesco_drawings"
  },
  "language_info": {
   "codemirror_mode": {
    "name": "ipython",
    "version": 3
   },
   "file_extension": ".py",
   "mimetype": "text/x-python",
   "name": "python",
   "nbconvert_exporter": "python",
   "pygments_lexer": "ipython3",
   "version": "3.9.7"
  }
 },
 "nbformat": 4,
 "nbformat_minor": 5
}
