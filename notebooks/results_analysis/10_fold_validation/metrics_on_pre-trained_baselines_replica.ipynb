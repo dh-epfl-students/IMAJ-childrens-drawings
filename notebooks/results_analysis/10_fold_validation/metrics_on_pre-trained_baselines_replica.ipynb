{
 "cells": [
  {
   "cell_type": "markdown",
   "id": "9f7d59c3-c499-405e-b931-8b8ed21d2e6c",
   "metadata": {},
   "source": [
    "# Metrics of pre trained Mini-Replica and Clus-Replica ResNeXt-101 with augmented images"
   ]
  },
  {
   "cell_type": "code",
   "execution_count": 1,
   "id": "1dfe756e-4193-40ca-8db8-a7f30fa03382",
   "metadata": {},
   "outputs": [],
   "source": [
    "import pandas as pd\n",
    "import sys\n",
    "import pickle\n",
    "\n",
    "sys.path.insert(0, \"./../../../src/utils/\")\n",
    "\n",
    "from utils import get_train_test_split\n",
    "\n",
    "import matplotlib.pyplot as plt\n",
    "import matplotlib.image as img\n",
    "import numpy as np\n",
    "from tqdm import tqdm\n",
    "\n",
    "from matplotlib.backends.backend_pdf import PdfPages\n",
    "import matplotlib.gridspec as gridspec\n",
    "\n",
    "from utils import get_scores"
   ]
  },
  {
   "cell_type": "code",
   "execution_count": 2,
   "id": "f452bf87-83e5-43fd-aed5-12cda48eb260",
   "metadata": {},
   "outputs": [],
   "source": [
    "def get_averaged_df(score_dataframe):\n",
    "    a = score_dataframe.groupby(\"model\").agg(['mean', 'std'])\n",
    "    a.columns = list(map('_'.join, a.columns.values))\n",
    "    a[\"MP\"] = round(a[\"MP_mean\"], 2).astype(str) + \" ± \" + round(a[\"MP_std\"], 2).astype(str)\n",
    "    a[\"MMP\"] = round(a[\"MMP_mean\"], 2).astype(str) + \" ± \" + round(a[\"MMP_std\"], 2).astype(str)\n",
    "    a[\"mean_median_position\"] = round(a[\"mean_median_position_mean\"], 2).astype(str) + \" ± \" + round(a[\"mean_median_position_std\"], 2).astype(str)\n",
    "    a[\"MAP\"] = round(a[\"MAP_mean\"], 2).astype(str) + \" ± \" + round(a[\"MAP_std\"], 2).astype(str)\n",
    "    a[\"R@400\"] = round(a[\"R@400_mean\"], 2).astype(str) + \" ± \" + round(a[\"R@400_std\"], 2).astype(str)\n",
    "    a[\"R@200\"] = round(a[\"R@200_mean\"], 2).astype(str) + \" ± \" + round(a[\"R@200_std\"], 2).astype(str)\n",
    "    a[\"R@100\"] = round(a[\"R@100_mean\"], 2).astype(str) + \" ± \" + round(a[\"R@100_std\"], 2).astype(str)\n",
    "    a[\"R@50\"] = round(a[\"R@50_mean\"], 2).astype(str) + \" ± \" + round(a[\"R@50_std\"], 2).astype(str)\n",
    "    a[\"R@20\"] = round(a[\"R@20_mean\"], 2).astype(str) + \" ± \" + round(a[\"R@20_std\"], 2).astype(str)\n",
    "\n",
    "    b = a[[\"MP\", \"MMP\", 'MAP','R@400', 'R@200', 'R@100', 'R@50', 'R@20']].reset_index()\n",
    "    score_dataframe_avg_df = b.replace({\"resnet\": \"ResNet-101\", \"resnext\": \"ResNeXT-101\"})\n",
    "    \n",
    "    return score_dataframe_avg_df"
   ]
  },
  {
   "cell_type": "code",
   "execution_count": 2,
   "id": "dc1dc547-240f-4722-a5ba-0634659df052",
   "metadata": {},
   "outputs": [],
   "source": [
    "data_folder = \"./../../../data/\"\n",
    "annotations_by_hand = \"./../../../data/manual_annotation/annotated_drawing_artwork_pairs.csv\"\n",
    "uid2path = \"./../../../data/text_data/uid2path.pkl\"\n",
    "\n",
    "drawings_embeddings_path_mini = \"./../../../data/embeddings/drawings_learning_resnext-101_avg_280_ludovica_firsttrain.npy\"\n",
    "artworks_embeddings_path_mini = \"./../../../data/embeddings/famous_artworks_resnext-101_avg_280_ludovica_firsttrain.npy\"\n",
    "\n",
    "drawings_embeddings_path_clus = \"./../../../data/embeddings/drawings_learning_resnext-101_avg_280_ludovica_secondtrain.npy\"\n",
    "artworks_embeddings_path_clus = \"./../../../data/embeddings/famous_artworks_resnext-101_avg_280_ludovica_secondtrain.npy\""
   ]
  },
  {
   "cell_type": "code",
   "execution_count": 3,
   "id": "026f22cb-1077-444a-b362-6da752553e61",
   "metadata": {},
   "outputs": [],
   "source": [
    "manually_annotated_df = pd.read_csv(annotations_by_hand)\n",
    "with open(uid2path, \"rb\") as outfile:\n",
    "    uid2path_df = pickle.load(outfile)\n",
    "    \n",
    "drawings_embeddings_mini = np.load(drawings_embeddings_path_mini, allow_pickle=True)\n",
    "artworks_embeddings_mini = np.load(artworks_embeddings_path_mini, allow_pickle=True)\n",
    "\n",
    "drawings_embeddings_clus = np.load(drawings_embeddings_path_clus, allow_pickle=True)\n",
    "artworks_embeddings_clus = np.load(artworks_embeddings_path_clus, allow_pickle=True)\n",
    "\n",
    "number_of_artworks = len(artworks_embeddings_mini)"
   ]
  },
  {
   "cell_type": "code",
   "execution_count": 4,
   "id": "11c29eee-0f6e-4ec4-8c95-397cc39a6e70",
   "metadata": {},
   "outputs": [],
   "source": [
    "train_mets, val_mets,test_mets, non_train_mets = [], [], [], []"
   ]
  },
  {
   "cell_type": "markdown",
   "id": "c749d8f9-56ff-4ea7-8795-29d74b2dd867",
   "metadata": {},
   "source": [
    "## Mini-Replica"
   ]
  },
  {
   "cell_type": "code",
   "execution_count": 5,
   "id": "4fddc006-5560-4abf-a5c9-bbcfbdb821d9",
   "metadata": {},
   "outputs": [
    {
     "name": "stderr",
     "output_type": "stream",
     "text": [
      "100%|████████████████████████████████████████████████████████████████████████████████| 596/596 [01:02<00:00,  9.54it/s]\n"
     ]
    },
    {
     "name": "stdout",
     "output_type": "stream",
     "text": [
      "Mean position of artwork:  614.0982456140351\n",
      "Mean of Minimum position of artwork:  736.3870967741935\n",
      "Mean of median position of artwork:  590.1111111111111\n",
      "Mean Average Precision:  0.20110348450862126\n",
      "recall @ 400 0.6720430107526881\n",
      "recall @ 200 0.5931899641577061\n",
      "recall @ 100 0.5053763440860215\n",
      "recall @ 50 0.4444444444444444\n",
      "recall @ 20 0.35304659498207885\n"
     ]
    },
    {
     "name": "stderr",
     "output_type": "stream",
     "text": [
      "100%|███████████████████████████████████████████████████████████████████████████████| 596/596 [00:02<00:00, 245.62it/s]\n"
     ]
    },
    {
     "name": "stdout",
     "output_type": "stream",
     "text": [
      "Mean position of artwork:  782.625\n",
      "Mean of Minimum position of artwork:  1247.5263157894738\n",
      "Mean of median position of artwork:  802.8157894736842\n",
      "Mean Average Precision:  0.4279616877652773\n",
      "recall @ 400 0.631578947368421\n",
      "recall @ 200 0.631578947368421\n",
      "recall @ 100 0.5789473684210527\n",
      "recall @ 50 0.5263157894736842\n",
      "recall @ 20 0.47368421052631576\n"
     ]
    },
    {
     "name": "stderr",
     "output_type": "stream",
     "text": [
      "100%|███████████████████████████████████████████████████████████████████████████████| 596/596 [00:02<00:00, 270.90it/s]\n"
     ]
    },
    {
     "name": "stdout",
     "output_type": "stream",
     "text": [
      "Mean position of artwork:  267.15\n",
      "Mean of Minimum position of artwork:  118.73684210526316\n",
      "Mean of median position of artwork:  275.0\n",
      "Mean Average Precision:  0.4444008784033433\n",
      "recall @ 400 0.7894736842105263\n",
      "recall @ 200 0.7894736842105263\n",
      "recall @ 100 0.631578947368421\n",
      "recall @ 50 0.631578947368421\n",
      "recall @ 20 0.631578947368421\n"
     ]
    },
    {
     "name": "stderr",
     "output_type": "stream",
     "text": [
      "100%|███████████████████████████████████████████████████████████████████████████████| 596/596 [00:04<00:00, 133.84it/s]\n"
     ]
    },
    {
     "name": "stdout",
     "output_type": "stream",
     "text": [
      "Mean position of artwork:  524.8875\n",
      "Mean of Minimum position of artwork:  683.1315789473684\n",
      "Mean of median position of artwork:  538.9078947368421\n",
      "Mean Average Precision:  0.43618128308431037\n",
      "recall @ 400 0.7105263157894737\n",
      "recall @ 200 0.7105263157894737\n",
      "recall @ 100 0.6052631578947368\n",
      "recall @ 50 0.5789473684210527\n",
      "recall @ 20 0.5526315789473685\n"
     ]
    }
   ],
   "source": [
    "draw_art_pairs_df_full = pd.read_csv(\"./../../../data/model_learning/drawing_artwork_pair_train_test_split.csv\")\n",
    "\n",
    "draw_art_pairs_df = draw_art_pairs_df_full[\n",
    "        (\n",
    "            (draw_art_pairs_df_full[\"set\"].isin([\"train\"]))\n",
    "            | (\n",
    "                (draw_art_pairs_df_full[\"set\"].isin([\"test\", \"val\"]))\n",
    "                & (\n",
    "                    draw_art_pairs_df_full[\"drawing_id\"]\n",
    "                    == draw_art_pairs_df_full[\"parent\"]\n",
    "                )\n",
    "            )\n",
    "        )\n",
    "    ].reset_index(drop=True)\n",
    "\n",
    "train_mets.append((\"v0\", \"Mini-Replica\") + get_scores(drawings_embeddings_mini, artworks_embeddings_mini, draw_art_pairs_df, [\"train\"], number_of_artworks))\n",
    "\n",
    "val_mets.append((\"v0\", \"Mini-Replica\") + get_scores(drawings_embeddings_mini, artworks_embeddings_mini, draw_art_pairs_df, [\"val\"], number_of_artworks))\n",
    "\n",
    "test_mets.append((\"v0\", \"Mini-Replica\") + get_scores(drawings_embeddings_mini, artworks_embeddings_mini, draw_art_pairs_df, [\"test\"], number_of_artworks))\n",
    "\n",
    "non_train_mets.append((\"v0\", \"Mini-Replica\") + get_scores(drawings_embeddings_mini, artworks_embeddings_mini, draw_art_pairs_df, [\"val\", \"test\"], number_of_artworks))"
   ]
  },
  {
   "cell_type": "code",
   "execution_count": 6,
   "id": "e606532b-3bc0-4879-8f8d-144a6f932db1",
   "metadata": {},
   "outputs": [
    {
     "name": "stderr",
     "output_type": "stream",
     "text": [
      "100%|████████████████████████████████████████████████████████████████████████████████| 531/531 [00:44<00:00, 11.99it/s]\n"
     ]
    },
    {
     "name": "stdout",
     "output_type": "stream",
     "text": [
      "Mean position of artwork:  579.8511904761905\n",
      "Mean of Minimum position of artwork:  660.6375\n",
      "Mean of median position of artwork:  552.1208333333333\n",
      "Mean Average Precision:  0.2416056887844027\n",
      "recall @ 400 0.69375\n",
      "recall @ 200 0.6229166666666667\n",
      "recall @ 100 0.54375\n",
      "recall @ 50 0.48333333333333334\n",
      "recall @ 20 0.3958333333333333\n"
     ]
    },
    {
     "name": "stderr",
     "output_type": "stream",
     "text": [
      "100%|███████████████████████████████████████████████████████████████████████████████| 531/531 [00:02<00:00, 183.85it/s]\n"
     ]
    },
    {
     "name": "stdout",
     "output_type": "stream",
     "text": [
      "Mean position of artwork:  566.0\n",
      "Mean of Minimum position of artwork:  732.0\n",
      "Mean of median position of artwork:  566.0\n",
      "Mean Average Precision:  0.24534886625298047\n",
      "recall @ 400 0.7666666666666667\n",
      "recall @ 200 0.5666666666666667\n",
      "recall @ 100 0.4666666666666667\n",
      "recall @ 50 0.3333333333333333\n",
      "recall @ 20 0.26666666666666666\n"
     ]
    },
    {
     "name": "stderr",
     "output_type": "stream",
     "text": [
      "100%|███████████████████████████████████████████████████████████████████████████████| 531/531 [00:01<00:00, 276.00it/s]\n"
     ]
    },
    {
     "name": "stdout",
     "output_type": "stream",
     "text": [
      "Mean position of artwork:  419.07142857142856\n",
      "Mean of Minimum position of artwork:  438.14285714285717\n",
      "Mean of median position of artwork:  419.07142857142856\n",
      "Mean Average Precision:  0.3003796938366723\n",
      "recall @ 400 0.8095238095238095\n",
      "recall @ 200 0.8095238095238095\n",
      "recall @ 100 0.7619047619047619\n",
      "recall @ 50 0.7619047619047619\n",
      "recall @ 20 0.6666666666666666\n"
     ]
    },
    {
     "name": "stderr",
     "output_type": "stream",
     "text": [
      "100%|███████████████████████████████████████████████████████████████████████████████| 531/531 [00:04<00:00, 112.44it/s]\n"
     ]
    },
    {
     "name": "stdout",
     "output_type": "stream",
     "text": [
      "Mean position of artwork:  505.5\n",
      "Mean of Minimum position of artwork:  611.0\n",
      "Mean of median position of artwork:  505.5\n",
      "Mean Average Precision:  0.2680086187874418\n",
      "recall @ 400 0.7843137254901961\n",
      "recall @ 200 0.6666666666666666\n",
      "recall @ 100 0.5882352941176471\n",
      "recall @ 50 0.5098039215686274\n",
      "recall @ 20 0.43137254901960786\n"
     ]
    },
    {
     "name": "stderr",
     "output_type": "stream",
     "text": [
      "100%|████████████████████████████████████████████████████████████████████████████████| 541/541 [00:48<00:00, 11.17it/s]\n"
     ]
    },
    {
     "name": "stdout",
     "output_type": "stream",
     "text": [
      "Mean position of artwork:  568.45\n",
      "Mean of Minimum position of artwork:  641.810975609756\n",
      "Mean of median position of artwork:  543.1087398373984\n",
      "Mean Average Precision:  0.2683656131860676\n",
      "recall @ 400 0.717479674796748\n",
      "recall @ 200 0.6565040650406504\n",
      "recall @ 100 0.5914634146341463\n",
      "recall @ 50 0.5284552845528455\n",
      "recall @ 20 0.43089430894308944\n"
     ]
    },
    {
     "name": "stderr",
     "output_type": "stream",
     "text": [
      "100%|███████████████████████████████████████████████████████████████████████████████| 541/541 [00:01<00:00, 270.68it/s]\n"
     ]
    },
    {
     "name": "stdout",
     "output_type": "stream",
     "text": [
      "Mean position of artwork:  564.9545454545455\n",
      "Mean of Minimum position of artwork:  729.9090909090909\n",
      "Mean of median position of artwork:  564.9545454545455\n",
      "Mean Average Precision:  0.28313359990786036\n",
      "recall @ 400 0.6363636363636364\n",
      "recall @ 200 0.5909090909090909\n",
      "recall @ 100 0.5\n",
      "recall @ 50 0.5\n",
      "recall @ 20 0.5\n"
     ]
    },
    {
     "name": "stderr",
     "output_type": "stream",
     "text": [
      "100%|███████████████████████████████████████████████████████████████████████████████| 541/541 [00:02<00:00, 219.56it/s]\n"
     ]
    },
    {
     "name": "stdout",
     "output_type": "stream",
     "text": [
      "Mean position of artwork:  473.55357142857144\n",
      "Mean of Minimum position of artwork:  551.4444444444445\n",
      "Mean of median position of artwork:  486.72222222222223\n",
      "Mean Average Precision:  0.12085233722647681\n",
      "recall @ 400 0.7407407407407407\n",
      "recall @ 200 0.5185185185185185\n",
      "recall @ 100 0.4074074074074074\n",
      "recall @ 50 0.25925925925925924\n",
      "recall @ 20 0.18518518518518517\n"
     ]
    },
    {
     "name": "stderr",
     "output_type": "stream",
     "text": [
      "100%|███████████████████████████████████████████████████████████████████████████████| 541/541 [00:04<00:00, 118.41it/s]\n"
     ]
    },
    {
     "name": "stdout",
     "output_type": "stream",
     "text": [
      "Mean position of artwork:  513.77\n",
      "Mean of Minimum position of artwork:  631.5714285714286\n",
      "Mean of median position of artwork:  521.8469387755102\n",
      "Mean Average Precision:  0.19371331230791428\n",
      "recall @ 400 0.6938775510204082\n",
      "recall @ 200 0.5510204081632653\n",
      "recall @ 100 0.4489795918367347\n",
      "recall @ 50 0.3673469387755102\n",
      "recall @ 20 0.32653061224489793\n"
     ]
    },
    {
     "name": "stderr",
     "output_type": "stream",
     "text": [
      "100%|████████████████████████████████████████████████████████████████████████████████| 516/516 [00:42<00:00, 12.07it/s]\n"
     ]
    },
    {
     "name": "stdout",
     "output_type": "stream",
     "text": [
      "Mean position of artwork:  504.7895299145299\n",
      "Mean of Minimum position of artwork:  619.9199134199134\n",
      "Mean of median position of artwork:  507.1331168831169\n",
      "Mean Average Precision:  0.2735667374988119\n",
      "recall @ 400 0.7424242424242424\n",
      "recall @ 200 0.6753246753246753\n",
      "recall @ 100 0.6168831168831169\n",
      "recall @ 50 0.5411255411255411\n",
      "recall @ 20 0.46320346320346323\n"
     ]
    },
    {
     "name": "stderr",
     "output_type": "stream",
     "text": [
      "100%|███████████████████████████████████████████████████████████████████████████████| 516/516 [00:02<00:00, 191.32it/s]\n"
     ]
    },
    {
     "name": "stdout",
     "output_type": "stream",
     "text": [
      "Mean position of artwork:  445.05\n",
      "Mean of Minimum position of artwork:  425.6896551724138\n",
      "Mean of median position of artwork:  421.7413793103448\n",
      "Mean Average Precision:  0.1391141991226395\n",
      "recall @ 400 0.7241379310344828\n",
      "recall @ 200 0.5172413793103449\n",
      "recall @ 100 0.41379310344827586\n",
      "recall @ 50 0.3103448275862069\n",
      "recall @ 20 0.2413793103448276\n"
     ]
    },
    {
     "name": "stderr",
     "output_type": "stream",
     "text": [
      "100%|███████████████████████████████████████████████████████████████████████████████| 516/516 [00:02<00:00, 216.29it/s]\n"
     ]
    },
    {
     "name": "stdout",
     "output_type": "stream",
     "text": [
      "Mean position of artwork:  579.2222222222222\n",
      "Mean of Minimum position of artwork:  665.12\n",
      "Mean of median position of artwork:  587.08\n",
      "Mean Average Precision:  0.23532901851525057\n",
      "recall @ 400 0.6\n",
      "recall @ 200 0.56\n",
      "recall @ 100 0.44\n",
      "recall @ 50 0.44\n",
      "recall @ 20 0.36\n"
     ]
    },
    {
     "name": "stderr",
     "output_type": "stream",
     "text": [
      "100%|████████████████████████████████████████████████████████████████████████████████| 516/516 [00:05<00:00, 99.50it/s]\n"
     ]
    },
    {
     "name": "stdout",
     "output_type": "stream",
     "text": [
      "Mean position of artwork:  508.60526315789474\n",
      "Mean of Minimum position of artwork:  536.5370370370371\n",
      "Mean of median position of artwork:  498.287037037037\n",
      "Mean Average Precision:  0.18365809698958907\n",
      "recall @ 400 0.6666666666666666\n",
      "recall @ 200 0.5370370370370371\n",
      "recall @ 100 0.42592592592592593\n",
      "recall @ 50 0.37037037037037035\n",
      "recall @ 20 0.2962962962962963\n"
     ]
    },
    {
     "name": "stderr",
     "output_type": "stream",
     "text": [
      "100%|████████████████████████████████████████████████████████████████████████████████| 536/536 [00:50<00:00, 10.63it/s]\n"
     ]
    },
    {
     "name": "stdout",
     "output_type": "stream",
     "text": [
      "Mean position of artwork:  531.3232931726908\n",
      "Mean of Minimum position of artwork:  598.3497942386831\n",
      "Mean of median position of artwork:  519.0905349794239\n",
      "Mean Average Precision:  0.26267753828209445\n",
      "recall @ 400 0.7325102880658436\n",
      "recall @ 200 0.6625514403292181\n",
      "recall @ 100 0.5864197530864198\n",
      "recall @ 50 0.522633744855967\n",
      "recall @ 20 0.4403292181069959\n"
     ]
    },
    {
     "name": "stderr",
     "output_type": "stream",
     "text": [
      "100%|███████████████████████████████████████████████████████████████████████████████| 536/536 [00:02<00:00, 188.84it/s]\n"
     ]
    },
    {
     "name": "stdout",
     "output_type": "stream",
     "text": [
      "Mean position of artwork:  533.1451612903226\n",
      "Mean of Minimum position of artwork:  674.1666666666666\n",
      "Mean of median position of artwork:  546.9833333333333\n",
      "Mean Average Precision:  0.10060917073904431\n",
      "recall @ 400 0.7\n",
      "recall @ 200 0.5\n",
      "recall @ 100 0.36666666666666664\n",
      "recall @ 50 0.26666666666666666\n",
      "recall @ 20 0.2\n"
     ]
    },
    {
     "name": "stderr",
     "output_type": "stream",
     "text": [
      "100%|███████████████████████████████████████████████████████████████████████████████| 536/536 [00:01<00:00, 278.24it/s]\n"
     ]
    },
    {
     "name": "stdout",
     "output_type": "stream",
     "text": [
      "Mean position of artwork:  459.26190476190476\n",
      "Mean of Minimum position of artwork:  426.55\n",
      "Mean of median position of artwork:  426.175\n",
      "Mean Average Precision:  0.3635153521514215\n",
      "recall @ 400 0.65\n",
      "recall @ 200 0.65\n",
      "recall @ 100 0.55\n",
      "recall @ 50 0.55\n",
      "recall @ 20 0.4\n"
     ]
    },
    {
     "name": "stderr",
     "output_type": "stream",
     "text": [
      "100%|███████████████████████████████████████████████████████████████████████████████| 536/536 [00:04<00:00, 109.78it/s]\n"
     ]
    },
    {
     "name": "stdout",
     "output_type": "stream",
     "text": [
      "Mean position of artwork:  503.3076923076923\n",
      "Mean of Minimum position of artwork:  575.12\n",
      "Mean of median position of artwork:  498.66\n",
      "Mean Average Precision:  0.20577164330399517\n",
      "recall @ 400 0.68\n",
      "recall @ 200 0.56\n",
      "recall @ 100 0.44\n",
      "recall @ 50 0.38\n",
      "recall @ 20 0.28\n"
     ]
    },
    {
     "name": "stderr",
     "output_type": "stream",
     "text": [
      "100%|████████████████████████████████████████████████████████████████████████████████| 546/546 [00:47<00:00, 11.43it/s]\n"
     ]
    },
    {
     "name": "stdout",
     "output_type": "stream",
     "text": [
      "Mean position of artwork:  656.1531007751938\n",
      "Mean of Minimum position of artwork:  824.7028112449799\n",
      "Mean of median position of artwork:  634.2871485943775\n",
      "Mean Average Precision:  0.22723034804825176\n",
      "recall @ 400 0.6546184738955824\n",
      "recall @ 200 0.5783132530120482\n",
      "recall @ 100 0.4959839357429719\n",
      "recall @ 50 0.43172690763052207\n",
      "recall @ 20 0.35943775100401604\n"
     ]
    },
    {
     "name": "stderr",
     "output_type": "stream",
     "text": [
      "100%|███████████████████████████████████████████████████████████████████████████████| 546/546 [00:03<00:00, 167.21it/s]\n"
     ]
    },
    {
     "name": "stdout",
     "output_type": "stream",
     "text": [
      "Mean position of artwork:  343.4310344827586\n",
      "Mean of Minimum position of artwork:  286.86206896551727\n",
      "Mean of median position of artwork:  343.4310344827586\n",
      "Mean Average Precision:  0.3186272346390472\n",
      "recall @ 400 0.7931034482758621\n",
      "recall @ 200 0.5862068965517241\n",
      "recall @ 100 0.5172413793103449\n",
      "recall @ 50 0.41379310344827586\n",
      "recall @ 20 0.3793103448275862\n"
     ]
    },
    {
     "name": "stderr",
     "output_type": "stream",
     "text": [
      "100%|███████████████████████████████████████████████████████████████████████████████| 546/546 [00:01<00:00, 273.73it/s]\n"
     ]
    },
    {
     "name": "stdout",
     "output_type": "stream",
     "text": [
      "Mean position of artwork:  269.925\n",
      "Mean of Minimum position of artwork:  124.57894736842105\n",
      "Mean of median position of artwork:  277.92105263157896\n",
      "Mean Average Precision:  0.23759487878495159\n",
      "recall @ 400 0.8421052631578947\n",
      "recall @ 200 0.8421052631578947\n",
      "recall @ 100 0.7368421052631579\n",
      "recall @ 50 0.7368421052631579\n",
      "recall @ 20 0.631578947368421\n"
     ]
    },
    {
     "name": "stderr",
     "output_type": "stream",
     "text": [
      "100%|████████████████████████████████████████████████████████████████████████████████| 546/546 [00:05<00:00, 99.86it/s]\n"
     ]
    },
    {
     "name": "stdout",
     "output_type": "stream",
     "text": [
      "Mean position of artwork:  313.42857142857144\n",
      "Mean of Minimum position of artwork:  222.625\n",
      "Mean of median position of artwork:  317.5\n",
      "Mean Average Precision:  0.2865519271134677\n",
      "recall @ 400 0.8125\n",
      "recall @ 200 0.6875\n",
      "recall @ 100 0.6041666666666666\n",
      "recall @ 50 0.5416666666666666\n",
      "recall @ 20 0.4791666666666667\n"
     ]
    },
    {
     "name": "stderr",
     "output_type": "stream",
     "text": [
      "100%|████████████████████████████████████████████████████████████████████████████████| 531/531 [00:50<00:00, 10.55it/s]\n"
     ]
    },
    {
     "name": "stdout",
     "output_type": "stream",
     "text": [
      "Mean position of artwork:  558.2611788617886\n",
      "Mean of Minimum position of artwork:  679.0520833333334\n",
      "Mean of median position of artwork:  541.1635416666667\n",
      "Mean Average Precision:  0.25163586364258955\n",
      "recall @ 400 0.7020833333333333\n",
      "recall @ 200 0.6375\n",
      "recall @ 100 0.5645833333333333\n",
      "recall @ 50 0.5083333333333333\n",
      "recall @ 20 0.425\n"
     ]
    },
    {
     "name": "stderr",
     "output_type": "stream",
     "text": [
      "100%|███████████████████████████████████████████████████████████████████████████████| 531/531 [00:01<00:00, 295.94it/s]\n"
     ]
    },
    {
     "name": "stdout",
     "output_type": "stream",
     "text": [
      "Mean position of artwork:  459.275\n",
      "Mean of Minimum position of artwork:  408.27777777777777\n",
      "Mean of median position of artwork:  441.25\n",
      "Mean Average Precision:  0.34946417568758975\n",
      "recall @ 400 0.7222222222222222\n",
      "recall @ 200 0.7222222222222222\n",
      "recall @ 100 0.7222222222222222\n",
      "recall @ 50 0.6666666666666666\n",
      "recall @ 20 0.5\n"
     ]
    },
    {
     "name": "stderr",
     "output_type": "stream",
     "text": [
      "100%|███████████████████████████████████████████████████████████████████████████████| 531/531 [00:03<00:00, 147.03it/s]\n"
     ]
    },
    {
     "name": "stdout",
     "output_type": "stream",
     "text": [
      "Mean position of artwork:  430.72727272727275\n",
      "Mean of Minimum position of artwork:  461.45454545454544\n",
      "Mean of median position of artwork:  430.72727272727275\n",
      "Mean Average Precision:  0.2755734697598148\n",
      "recall @ 400 0.7575757575757576\n",
      "recall @ 200 0.5454545454545454\n",
      "recall @ 100 0.48484848484848486\n",
      "recall @ 50 0.3939393939393939\n",
      "recall @ 20 0.36363636363636365\n"
     ]
    },
    {
     "name": "stderr",
     "output_type": "stream",
     "text": [
      "100%|████████████████████████████████████████████████████████████████████████████████| 531/531 [00:05<00:00, 93.98it/s]\n"
     ]
    },
    {
     "name": "stdout",
     "output_type": "stream",
     "text": [
      "Mean position of artwork:  441.5\n",
      "Mean of Minimum position of artwork:  442.6862745098039\n",
      "Mean of median position of artwork:  434.44117647058823\n",
      "Mean Average Precision:  0.30165254244020595\n",
      "recall @ 400 0.7450980392156863\n",
      "recall @ 200 0.6078431372549019\n",
      "recall @ 100 0.5686274509803921\n",
      "recall @ 50 0.49019607843137253\n",
      "recall @ 20 0.4117647058823529\n"
     ]
    },
    {
     "name": "stderr",
     "output_type": "stream",
     "text": [
      "100%|████████████████████████████████████████████████████████████████████████████████| 596/596 [01:02<00:00,  9.59it/s]\n"
     ]
    },
    {
     "name": "stdout",
     "output_type": "stream",
     "text": [
      "Mean position of artwork:  494.5912280701754\n",
      "Mean of Minimum position of artwork:  554.2114695340501\n",
      "Mean of median position of artwork:  478.51433691756273\n",
      "Mean Average Precision:  0.22731283605464422\n",
      "recall @ 400 0.7132616487455197\n",
      "recall @ 200 0.6415770609318996\n",
      "recall @ 100 0.5519713261648745\n",
      "recall @ 50 0.4874551971326165\n",
      "recall @ 20 0.3924731182795699\n"
     ]
    },
    {
     "name": "stderr",
     "output_type": "stream",
     "text": [
      "100%|███████████████████████████████████████████████████████████████████████████████| 596/596 [00:01<00:00, 322.54it/s]\n"
     ]
    },
    {
     "name": "stdout",
     "output_type": "stream",
     "text": [
      "Mean position of artwork:  835.5\n",
      "Mean of Minimum position of artwork:  1271.0\n",
      "Mean of median position of artwork:  835.5\n",
      "Mean Average Precision:  0.28069821271484047\n",
      "recall @ 400 0.6842105263157895\n",
      "recall @ 200 0.631578947368421\n",
      "recall @ 100 0.5263157894736842\n",
      "recall @ 50 0.5263157894736842\n",
      "recall @ 20 0.47368421052631576\n"
     ]
    },
    {
     "name": "stderr",
     "output_type": "stream",
     "text": [
      "100%|███████████████████████████████████████████████████████████████████████████████| 596/596 [00:01<00:00, 314.85it/s]\n"
     ]
    },
    {
     "name": "stdout",
     "output_type": "stream",
     "text": [
      "Mean position of artwork:  720.547619047619\n",
      "Mean of Minimum position of artwork:  991.6315789473684\n",
      "Mean of median position of artwork:  730.9736842105264\n",
      "Mean Average Precision:  0.42813843149749775\n",
      "recall @ 400 0.631578947368421\n",
      "recall @ 200 0.5263157894736842\n",
      "recall @ 100 0.5263157894736842\n",
      "recall @ 50 0.5263157894736842\n",
      "recall @ 20 0.47368421052631576\n"
     ]
    },
    {
     "name": "stderr",
     "output_type": "stream",
     "text": [
      "100%|███████████████████████████████████████████████████████████████████████████████| 596/596 [00:04<00:00, 146.45it/s]\n"
     ]
    },
    {
     "name": "stdout",
     "output_type": "stream",
     "text": [
      "Mean position of artwork:  775.15\n",
      "Mean of Minimum position of artwork:  1131.3157894736842\n",
      "Mean of median position of artwork:  783.2368421052631\n",
      "Mean Average Precision:  0.3544183221061691\n",
      "recall @ 400 0.6578947368421053\n",
      "recall @ 200 0.5789473684210527\n",
      "recall @ 100 0.5263157894736842\n",
      "recall @ 50 0.5263157894736842\n",
      "recall @ 20 0.47368421052631576\n"
     ]
    },
    {
     "name": "stderr",
     "output_type": "stream",
     "text": [
      "100%|████████████████████████████████████████████████████████████████████████████████| 546/546 [00:51<00:00, 10.67it/s]\n"
     ]
    },
    {
     "name": "stdout",
     "output_type": "stream",
     "text": [
      "Mean position of artwork:  575.3042635658915\n",
      "Mean of Minimum position of artwork:  726.6064257028113\n",
      "Mean of median position of artwork:  562.2590361445783\n",
      "Mean Average Precision:  0.2629044417866541\n",
      "recall @ 400 0.6967871485943775\n",
      "recall @ 200 0.6305220883534136\n",
      "recall @ 100 0.5542168674698795\n",
      "recall @ 50 0.4959839357429719\n",
      "recall @ 20 0.41767068273092367\n"
     ]
    },
    {
     "name": "stderr",
     "output_type": "stream",
     "text": [
      "100%|███████████████████████████████████████████████████████████████████████████████| 546/546 [00:02<00:00, 182.30it/s]\n"
     ]
    },
    {
     "name": "stdout",
     "output_type": "stream",
     "text": [
      "Mean position of artwork:  538.4516129032259\n",
      "Mean of Minimum position of artwork:  585.4666666666667\n",
      "Mean of median position of artwork:  528.2666666666667\n",
      "Mean Average Precision:  0.16062069054356665\n",
      "recall @ 400 0.6333333333333333\n",
      "recall @ 200 0.43333333333333335\n",
      "recall @ 100 0.4\n",
      "recall @ 50 0.3\n",
      "recall @ 20 0.26666666666666666\n"
     ]
    },
    {
     "name": "stderr",
     "output_type": "stream",
     "text": [
      "100%|███████████████████████████████████████████████████████████████████████████████| 546/546 [00:02<00:00, 266.40it/s]\n"
     ]
    },
    {
     "name": "stdout",
     "output_type": "stream",
     "text": [
      "Mean position of artwork:  337.55555555555554\n",
      "Mean of Minimum position of artwork:  275.1111111111111\n",
      "Mean of median position of artwork:  337.55555555555554\n",
      "Mean Average Precision:  0.35985550122064613\n",
      "recall @ 400 0.8333333333333334\n",
      "recall @ 200 0.8333333333333334\n",
      "recall @ 100 0.7777777777777778\n",
      "recall @ 50 0.7222222222222222\n",
      "recall @ 20 0.6666666666666666\n"
     ]
    },
    {
     "name": "stderr",
     "output_type": "stream",
     "text": [
      "100%|████████████████████████████████████████████████████████████████████████████████| 546/546 [00:05<00:00, 91.52it/s]\n"
     ]
    },
    {
     "name": "stdout",
     "output_type": "stream",
     "text": [
      "Mean position of artwork:  464.6530612244898\n",
      "Mean of Minimum position of artwork:  469.0833333333333\n",
      "Mean of median position of artwork:  456.75\n",
      "Mean Average Precision:  0.23533374454747147\n",
      "recall @ 400 0.7083333333333334\n",
      "recall @ 200 0.5833333333333334\n",
      "recall @ 100 0.5416666666666666\n",
      "recall @ 50 0.4583333333333333\n",
      "recall @ 20 0.4166666666666667\n"
     ]
    },
    {
     "name": "stderr",
     "output_type": "stream",
     "text": [
      "100%|████████████████████████████████████████████████████████████████████████████████| 611/611 [00:55<00:00, 10.91it/s]\n"
     ]
    },
    {
     "name": "stdout",
     "output_type": "stream",
     "text": [
      "Mean position of artwork:  638.5725\n",
      "Mean of Minimum position of artwork:  799.484375\n",
      "Mean of median position of artwork:  617.9105902777778\n",
      "Mean Average Precision:  0.19031072951402225\n",
      "recall @ 400 0.65625\n",
      "recall @ 200 0.5815972222222222\n",
      "recall @ 100 0.4930555555555556\n",
      "recall @ 50 0.4253472222222222\n",
      "recall @ 20 0.3506944444444444\n"
     ]
    },
    {
     "name": "stderr",
     "output_type": "stream",
     "text": [
      "100%|███████████████████████████████████████████████████████████████████████████████| 611/611 [00:01<00:00, 332.41it/s]\n"
     ]
    },
    {
     "name": "stdout",
     "output_type": "stream",
     "text": [
      "Mean position of artwork:  433.5\n",
      "Mean of Minimum position of artwork:  467.0\n",
      "Mean of median position of artwork:  433.5\n",
      "Mean Average Precision:  0.423315680511318\n",
      "recall @ 400 0.7894736842105263\n",
      "recall @ 200 0.7368421052631579\n",
      "recall @ 100 0.5789473684210527\n",
      "recall @ 50 0.5263157894736842\n",
      "recall @ 20 0.5263157894736842\n"
     ]
    },
    {
     "name": "stderr",
     "output_type": "stream",
     "text": [
      "100%|███████████████████████████████████████████████████████████████████████████████| 611/611 [00:01<00:00, 395.50it/s]\n"
     ]
    },
    {
     "name": "stdout",
     "output_type": "stream",
     "text": [
      "Mean position of artwork:  259.65625\n",
      "Mean of Minimum position of artwork:  119.3125\n",
      "Mean of median position of artwork:  259.65625\n",
      "Mean Average Precision:  0.4928846334058439\n",
      "recall @ 400 0.875\n",
      "recall @ 200 0.75\n",
      "recall @ 100 0.75\n",
      "recall @ 50 0.75\n",
      "recall @ 20 0.625\n"
     ]
    },
    {
     "name": "stderr",
     "output_type": "stream",
     "text": [
      "100%|███████████████████████████████████████████████████████████████████████████████| 611/611 [00:03<00:00, 180.39it/s]\n"
     ]
    },
    {
     "name": "stdout",
     "output_type": "stream",
     "text": [
      "Mean position of artwork:  354.0285714285714\n",
      "Mean of Minimum position of artwork:  308.0571428571429\n",
      "Mean of median position of artwork:  354.0285714285714\n",
      "Mean Average Precision:  0.45511863040595835\n",
      "recall @ 400 0.8285714285714286\n",
      "recall @ 200 0.7428571428571429\n",
      "recall @ 100 0.6571428571428571\n",
      "recall @ 50 0.6285714285714286\n",
      "recall @ 20 0.5714285714285714\n"
     ]
    },
    {
     "name": "stderr",
     "output_type": "stream",
     "text": [
      "100%|████████████████████████████████████████████████████████████████████████████████| 596/596 [00:54<00:00, 11.03it/s]\n"
     ]
    },
    {
     "name": "stdout",
     "output_type": "stream",
     "text": [
      "Mean position of artwork:  613.2447368421052\n",
      "Mean of Minimum position of artwork:  734.6433691756272\n",
      "Mean of median position of artwork:  589.239247311828\n",
      "Mean Average Precision:  0.2107718524711039\n",
      "recall @ 400 0.6702508960573477\n",
      "recall @ 200 0.5878136200716846\n",
      "recall @ 100 0.5125448028673835\n",
      "recall @ 50 0.44802867383512546\n",
      "recall @ 20 0.3602150537634409\n"
     ]
    },
    {
     "name": "stderr",
     "output_type": "stream",
     "text": [
      "100%|███████████████████████████████████████████████████████████████████████████████| 596/596 [00:02<00:00, 288.95it/s]\n"
     ]
    },
    {
     "name": "stdout",
     "output_type": "stream",
     "text": [
      "Mean position of artwork:  558.5208333333334\n",
      "Mean of Minimum position of artwork:  780.7727272727273\n",
      "Mean of median position of artwork:  585.7954545454545\n",
      "Mean Average Precision:  0.431117442949849\n",
      "recall @ 400 0.7272727272727273\n",
      "recall @ 200 0.7272727272727273\n",
      "recall @ 100 0.5909090909090909\n",
      "recall @ 50 0.5909090909090909\n",
      "recall @ 20 0.5\n"
     ]
    },
    {
     "name": "stderr",
     "output_type": "stream",
     "text": [
      "100%|███████████████████████████████████████████████████████████████████████████████| 596/596 [00:01<00:00, 373.89it/s]\n"
     ]
    },
    {
     "name": "stdout",
     "output_type": "stream",
     "text": [
      "Mean position of artwork:  406.90625\n",
      "Mean of Minimum position of artwork:  413.8125\n",
      "Mean of median position of artwork:  406.90625\n",
      "Mean Average Precision:  0.33506179733173913\n",
      "recall @ 400 0.8125\n",
      "recall @ 200 0.8125\n",
      "recall @ 100 0.6875\n",
      "recall @ 50 0.625\n",
      "recall @ 20 0.5\n"
     ]
    },
    {
     "name": "stderr",
     "output_type": "stream",
     "text": [
      "100%|███████████████████████████████████████████████████████████████████████████████| 596/596 [00:03<00:00, 161.16it/s]\n"
     ]
    },
    {
     "name": "stdout",
     "output_type": "stream",
     "text": [
      "Mean position of artwork:  497.875\n",
      "Mean of Minimum position of artwork:  626.2631578947369\n",
      "Mean of median position of artwork:  510.4736842105263\n",
      "Mean Average Precision:  0.3906729605843291\n",
      "recall @ 400 0.7631578947368421\n",
      "recall @ 200 0.7631578947368421\n",
      "recall @ 100 0.631578947368421\n",
      "recall @ 50 0.6052631578947368\n",
      "recall @ 20 0.5\n"
     ]
    }
   ],
   "source": [
    "for i in range(1, 11):\n",
    "    \n",
    "    lbl = \"v\"+str(i)\n",
    "    \n",
    "    draw_art_pairs_df_full = pd.read_csv(\"./../../../data/model_learning/drawing_artwork_pair_train_test_split_\"+lbl+\".csv\")\n",
    "    \n",
    "    draw_art_pairs_df = draw_art_pairs_df_full[\n",
    "        (\n",
    "            (draw_art_pairs_df_full[\"set\"].isin([\"train\"]))\n",
    "            | (\n",
    "                (draw_art_pairs_df_full[\"set\"].isin([\"test\", \"val\"]))\n",
    "                & (\n",
    "                    draw_art_pairs_df_full[\"drawing_id\"]\n",
    "                    == draw_art_pairs_df_full[\"parent\"]\n",
    "                )\n",
    "            )\n",
    "        )\n",
    "    ].reset_index(drop=True)\n",
    "\n",
    "    train_mets.append((lbl, \"Mini-Replica\") + get_scores(drawings_embeddings_mini, artworks_embeddings_mini, draw_art_pairs_df, [\"train\"], number_of_artworks))\n",
    "\n",
    "    val_mets.append((lbl, \"Mini-Replica\") + get_scores(drawings_embeddings_mini, artworks_embeddings_mini, draw_art_pairs_df, [\"val\"], number_of_artworks))\n",
    "\n",
    "    test_mets.append((lbl, \"Mini-Replica\") + get_scores(drawings_embeddings_mini, artworks_embeddings_mini, draw_art_pairs_df, [\"test\"], number_of_artworks))\n",
    "\n",
    "    non_train_mets.append((lbl, \"Mini-Replica\") + get_scores(drawings_embeddings_mini, artworks_embeddings_mini, draw_art_pairs_df, [\"val\", \"test\"], number_of_artworks))"
   ]
  },
  {
   "cell_type": "markdown",
   "id": "60c7a7af-2863-4671-a756-df21a8d2d29b",
   "metadata": {},
   "source": [
    "---\n",
    "\n",
    "## Clus-Replica"
   ]
  },
  {
   "cell_type": "code",
   "execution_count": 7,
   "id": "d0181104-f17d-4e1e-8e18-cd5a2f4147e1",
   "metadata": {},
   "outputs": [
    {
     "name": "stderr",
     "output_type": "stream",
     "text": [
      "100%|████████████████████████████████████████████████████████████████████████████████| 596/596 [00:55<00:00, 10.80it/s]\n"
     ]
    },
    {
     "name": "stdout",
     "output_type": "stream",
     "text": [
      "Mean position of artwork:  643.6157894736842\n",
      "Mean of Minimum position of artwork:  768.4014336917563\n",
      "Mean of median position of artwork:  592.516129032258\n",
      "Mean Average Precision:  0.19924036392854028\n",
      "recall @ 400 0.6666666666666666\n",
      "recall @ 200 0.5716845878136201\n",
      "recall @ 100 0.5\n",
      "recall @ 50 0.4229390681003584\n",
      "recall @ 20 0.3333333333333333\n"
     ]
    },
    {
     "name": "stderr",
     "output_type": "stream",
     "text": [
      "100%|███████████████████████████████████████████████████████████████████████████████| 596/596 [00:01<00:00, 315.35it/s]\n"
     ]
    },
    {
     "name": "stdout",
     "output_type": "stream",
     "text": [
      "Mean position of artwork:  664.0\n",
      "Mean of Minimum position of artwork:  997.4736842105264\n",
      "Mean of median position of artwork:  678.1052631578947\n",
      "Mean Average Precision:  0.4925622224060261\n",
      "recall @ 400 0.7368421052631579\n",
      "recall @ 200 0.7368421052631579\n",
      "recall @ 100 0.6842105263157895\n",
      "recall @ 50 0.6842105263157895\n",
      "recall @ 20 0.6842105263157895\n"
     ]
    },
    {
     "name": "stderr",
     "output_type": "stream",
     "text": [
      "100%|███████████████████████████████████████████████████████████████████████████████| 596/596 [00:01<00:00, 320.76it/s]\n"
     ]
    },
    {
     "name": "stdout",
     "output_type": "stream",
     "text": [
      "Mean position of artwork:  407.5\n",
      "Mean of Minimum position of artwork:  251.26315789473685\n",
      "Mean of median position of artwork:  345.5263157894737\n",
      "Mean Average Precision:  0.33579641739146365\n",
      "recall @ 400 0.7894736842105263\n",
      "recall @ 200 0.6842105263157895\n",
      "recall @ 100 0.631578947368421\n",
      "recall @ 50 0.5789473684210527\n",
      "recall @ 20 0.5263157894736842\n"
     ]
    },
    {
     "name": "stderr",
     "output_type": "stream",
     "text": [
      "100%|███████████████████████████████████████████████████████████████████████████████| 596/596 [00:03<00:00, 160.80it/s]\n"
     ]
    },
    {
     "name": "stdout",
     "output_type": "stream",
     "text": [
      "Mean position of artwork:  535.75\n",
      "Mean of Minimum position of artwork:  624.3684210526316\n",
      "Mean of median position of artwork:  511.8157894736842\n",
      "Mean Average Precision:  0.4141793198987449\n",
      "recall @ 400 0.7631578947368421\n",
      "recall @ 200 0.7105263157894737\n",
      "recall @ 100 0.6578947368421053\n",
      "recall @ 50 0.631578947368421\n",
      "recall @ 20 0.6052631578947368\n"
     ]
    }
   ],
   "source": [
    "draw_art_pairs_df_full = pd.read_csv(\"./../../../data/model_learning/drawing_artwork_pair_train_test_split.csv\")\n",
    "\n",
    "draw_art_pairs_df = draw_art_pairs_df_full[\n",
    "        (\n",
    "            (draw_art_pairs_df_full[\"set\"].isin([\"train\"]))\n",
    "            | (\n",
    "                (draw_art_pairs_df_full[\"set\"].isin([\"test\", \"val\"]))\n",
    "                & (\n",
    "                    draw_art_pairs_df_full[\"drawing_id\"]\n",
    "                    == draw_art_pairs_df_full[\"parent\"]\n",
    "                )\n",
    "            )\n",
    "        )\n",
    "    ].reset_index(drop=True)\n",
    "\n",
    "train_mets.append((\"v0\", \"Clus-Replica\") + get_scores(drawings_embeddings_clus, artworks_embeddings_clus, draw_art_pairs_df, [\"train\"], number_of_artworks))\n",
    "\n",
    "val_mets.append((\"v0\", \"Clus-Replica\") + get_scores(drawings_embeddings_clus, artworks_embeddings_clus, draw_art_pairs_df, [\"val\"], number_of_artworks))\n",
    "\n",
    "test_mets.append((\"v0\", \"Clus-Replica\") + get_scores(drawings_embeddings_clus, artworks_embeddings_clus, draw_art_pairs_df, [\"test\"], number_of_artworks))\n",
    "\n",
    "non_train_mets.append((\"v0\", \"Clus-Replica\") + get_scores(drawings_embeddings_clus, artworks_embeddings_clus, draw_art_pairs_df, [\"val\", \"test\"], number_of_artworks))"
   ]
  },
  {
   "cell_type": "code",
   "execution_count": 8,
   "id": "4400208f-2441-49ad-a3f9-4e95b42a6689",
   "metadata": {},
   "outputs": [
    {
     "name": "stderr",
     "output_type": "stream",
     "text": [
      "100%|████████████████████████████████████████████████████████████████████████████████| 531/531 [00:46<00:00, 11.32it/s]\n"
     ]
    },
    {
     "name": "stdout",
     "output_type": "stream",
     "text": [
      "Mean position of artwork:  681.9940476190476\n",
      "Mean of Minimum position of artwork:  782.0375\n",
      "Mean of median position of artwork:  609.2375\n",
      "Mean Average Precision:  0.23522109073227035\n",
      "recall @ 400 0.6833333333333333\n",
      "recall @ 200 0.59375\n",
      "recall @ 100 0.51875\n",
      "recall @ 50 0.45625\n",
      "recall @ 20 0.3958333333333333\n"
     ]
    },
    {
     "name": "stderr",
     "output_type": "stream",
     "text": [
      "100%|███████████████████████████████████████████████████████████████████████████████| 531/531 [00:02<00:00, 182.96it/s]\n"
     ]
    },
    {
     "name": "stdout",
     "output_type": "stream",
     "text": [
      "Mean position of artwork:  422.2\n",
      "Mean of Minimum position of artwork:  444.4\n",
      "Mean of median position of artwork:  422.2\n",
      "Mean Average Precision:  0.23507131751684016\n",
      "recall @ 400 0.7\n",
      "recall @ 200 0.6333333333333333\n",
      "recall @ 100 0.6\n",
      "recall @ 50 0.5333333333333333\n",
      "recall @ 20 0.4\n"
     ]
    },
    {
     "name": "stderr",
     "output_type": "stream",
     "text": [
      "100%|███████████████████████████████████████████████████████████████████████████████| 531/531 [00:02<00:00, 262.79it/s]\n"
     ]
    },
    {
     "name": "stdout",
     "output_type": "stream",
     "text": [
      "Mean position of artwork:  637.3571428571429\n",
      "Mean of Minimum position of artwork:  874.7142857142857\n",
      "Mean of median position of artwork:  637.3571428571429\n",
      "Mean Average Precision:  0.2618362892575146\n",
      "recall @ 400 0.7142857142857143\n",
      "recall @ 200 0.6666666666666666\n",
      "recall @ 100 0.6190476190476191\n",
      "recall @ 50 0.5714285714285714\n",
      "recall @ 20 0.47619047619047616\n"
     ]
    },
    {
     "name": "stderr",
     "output_type": "stream",
     "text": [
      "100%|███████████████████████████████████████████████████████████████████████████████| 531/531 [00:05<00:00, 105.87it/s]\n"
     ]
    },
    {
     "name": "stdout",
     "output_type": "stream",
     "text": [
      "Mean position of artwork:  510.79411764705884\n",
      "Mean of Minimum position of artwork:  621.5882352941177\n",
      "Mean of median position of artwork:  510.79411764705884\n",
      "Mean Average Precision:  0.24609218823358844\n",
      "recall @ 400 0.7058823529411765\n",
      "recall @ 200 0.6470588235294118\n",
      "recall @ 100 0.6078431372549019\n",
      "recall @ 50 0.5490196078431373\n",
      "recall @ 20 0.43137254901960786\n"
     ]
    },
    {
     "name": "stderr",
     "output_type": "stream",
     "text": [
      "100%|████████████████████████████████████████████████████████████████████████████████| 541/541 [00:48<00:00, 11.17it/s]\n"
     ]
    },
    {
     "name": "stdout",
     "output_type": "stream",
     "text": [
      "Mean position of artwork:  639.2794117647059\n",
      "Mean of Minimum position of artwork:  750.900406504065\n",
      "Mean of median position of artwork:  585.4278455284552\n",
      "Mean Average Precision:  0.24035856444872095\n",
      "recall @ 400 0.7052845528455285\n",
      "recall @ 200 0.6056910569105691\n",
      "recall @ 100 0.5467479674796748\n",
      "recall @ 50 0.483739837398374\n",
      "recall @ 20 0.4146341463414634\n"
     ]
    },
    {
     "name": "stderr",
     "output_type": "stream",
     "text": [
      "100%|███████████████████████████████████████████████████████████████████████████████| 541/541 [00:02<00:00, 236.57it/s]\n"
     ]
    },
    {
     "name": "stdout",
     "output_type": "stream",
     "text": [
      "Mean position of artwork:  651.5909090909091\n",
      "Mean of Minimum position of artwork:  903.1818181818181\n",
      "Mean of median position of artwork:  651.5909090909091\n",
      "Mean Average Precision:  0.24498616143636445\n",
      "recall @ 400 0.6818181818181818\n",
      "recall @ 200 0.5909090909090909\n",
      "recall @ 100 0.5\n",
      "recall @ 50 0.45454545454545453\n",
      "recall @ 20 0.3181818181818182\n"
     ]
    },
    {
     "name": "stderr",
     "output_type": "stream",
     "text": [
      "100%|███████████████████████████████████████████████████████████████████████████████| 541/541 [00:02<00:00, 187.44it/s]\n"
     ]
    },
    {
     "name": "stdout",
     "output_type": "stream",
     "text": [
      "Mean position of artwork:  457.26785714285717\n",
      "Mean of Minimum position of artwork:  403.0\n",
      "Mean of median position of artwork:  415.5\n",
      "Mean Average Precision:  0.20922113664760827\n",
      "recall @ 400 0.6666666666666666\n",
      "recall @ 200 0.6296296296296297\n",
      "recall @ 100 0.5555555555555556\n",
      "recall @ 50 0.48148148148148145\n",
      "recall @ 20 0.37037037037037035\n"
     ]
    },
    {
     "name": "stderr",
     "output_type": "stream",
     "text": [
      "100%|███████████████████████████████████████████████████████████████████████████████| 541/541 [00:05<00:00, 105.99it/s]\n"
     ]
    },
    {
     "name": "stdout",
     "output_type": "stream",
     "text": [
      "Mean position of artwork:  542.77\n",
      "Mean of Minimum position of artwork:  627.5714285714286\n",
      "Mean of median position of artwork:  521.5\n",
      "Mean Average Precision:  0.22527890287929467\n",
      "recall @ 400 0.673469387755102\n",
      "recall @ 200 0.6122448979591837\n",
      "recall @ 100 0.5306122448979592\n",
      "recall @ 50 0.46938775510204084\n",
      "recall @ 20 0.3469387755102041\n"
     ]
    },
    {
     "name": "stderr",
     "output_type": "stream",
     "text": [
      "100%|████████████████████████████████████████████████████████████████████████████████| 516/516 [00:47<00:00, 10.96it/s]\n"
     ]
    },
    {
     "name": "stdout",
     "output_type": "stream",
     "text": [
      "Mean position of artwork:  576.5181623931624\n",
      "Mean of Minimum position of artwork:  759.2056277056278\n",
      "Mean of median position of artwork:  580.1850649350649\n",
      "Mean Average Precision:  0.2659822094184572\n",
      "recall @ 400 0.7229437229437229\n",
      "recall @ 200 0.6341991341991342\n",
      "recall @ 100 0.5735930735930735\n",
      "recall @ 50 0.5151515151515151\n",
      "recall @ 20 0.4523809523809524\n"
     ]
    },
    {
     "name": "stderr",
     "output_type": "stream",
     "text": [
      "100%|███████████████████████████████████████████████████████████████████████████████| 516/516 [00:02<00:00, 184.58it/s]\n"
     ]
    },
    {
     "name": "stdout",
     "output_type": "stream",
     "text": [
      "Mean position of artwork:  493.28333333333336\n",
      "Mean of Minimum position of artwork:  548.1034482758621\n",
      "Mean of median position of artwork:  486.98275862068965\n",
      "Mean Average Precision:  0.16542203909933512\n",
      "recall @ 400 0.6206896551724138\n",
      "recall @ 200 0.5862068965517241\n",
      "recall @ 100 0.4827586206896552\n",
      "recall @ 50 0.41379310344827586\n",
      "recall @ 20 0.27586206896551724\n"
     ]
    },
    {
     "name": "stderr",
     "output_type": "stream",
     "text": [
      "100%|███████████████████████████████████████████████████████████████████████████████| 516/516 [00:02<00:00, 200.14it/s]\n"
     ]
    },
    {
     "name": "stdout",
     "output_type": "stream",
     "text": [
      "Mean position of artwork:  724.8888888888889\n",
      "Mean of Minimum position of artwork:  615.44\n",
      "Mean of median position of artwork:  526.6\n",
      "Mean Average Precision:  0.280178711879001\n",
      "recall @ 400 0.72\n",
      "recall @ 200 0.6\n",
      "recall @ 100 0.56\n",
      "recall @ 50 0.48\n",
      "recall @ 20 0.36\n"
     ]
    },
    {
     "name": "stderr",
     "output_type": "stream",
     "text": [
      "100%|████████████████████████████████████████████████████████████████████████████████| 516/516 [00:05<00:00, 91.52it/s]\n"
     ]
    },
    {
     "name": "stdout",
     "output_type": "stream",
     "text": [
      "Mean position of artwork:  602.9912280701755\n",
      "Mean of Minimum position of artwork:  579.2777777777778\n",
      "Mean of median position of artwork:  505.3240740740741\n",
      "Mean Average Precision:  0.21855012834918047\n",
      "recall @ 400 0.6666666666666666\n",
      "recall @ 200 0.5925925925925926\n",
      "recall @ 100 0.5185185185185185\n",
      "recall @ 50 0.4444444444444444\n",
      "recall @ 20 0.3148148148148148\n"
     ]
    },
    {
     "name": "stderr",
     "output_type": "stream",
     "text": [
      "100%|████████████████████████████████████████████████████████████████████████████████| 536/536 [00:50<00:00, 10.53it/s]\n"
     ]
    },
    {
     "name": "stdout",
     "output_type": "stream",
     "text": [
      "Mean position of artwork:  661.1004016064257\n",
      "Mean of Minimum position of artwork:  824.59670781893\n",
      "Mean of median position of artwork:  619.8971193415638\n",
      "Mean Average Precision:  0.23951899229105153\n",
      "recall @ 400 0.6995884773662552\n",
      "recall @ 200 0.6008230452674898\n",
      "recall @ 100 0.5329218106995884\n",
      "recall @ 50 0.46502057613168724\n",
      "recall @ 20 0.4053497942386831\n"
     ]
    },
    {
     "name": "stderr",
     "output_type": "stream",
     "text": [
      "100%|███████████████████████████████████████████████████████████████████████████████| 536/536 [00:03<00:00, 156.05it/s]\n"
     ]
    },
    {
     "name": "stdout",
     "output_type": "stream",
     "text": [
      "Mean position of artwork:  542.0\n",
      "Mean of Minimum position of artwork:  589.2666666666667\n",
      "Mean of median position of artwork:  507.23333333333335\n",
      "Mean Average Precision:  0.17710522701251807\n",
      "recall @ 400 0.7\n",
      "recall @ 200 0.6333333333333333\n",
      "recall @ 100 0.6\n",
      "recall @ 50 0.5\n",
      "recall @ 20 0.3333333333333333\n"
     ]
    },
    {
     "name": "stderr",
     "output_type": "stream",
     "text": [
      "100%|███████████████████████████████████████████████████████████████████████████████| 536/536 [00:01<00:00, 284.41it/s]\n"
     ]
    },
    {
     "name": "stdout",
     "output_type": "stream",
     "text": [
      "Mean position of artwork:  466.3809523809524\n",
      "Mean of Minimum position of artwork:  474.3\n",
      "Mean of median position of artwork:  455.9\n",
      "Mean Average Precision:  0.2839932942306569\n",
      "recall @ 400 0.65\n",
      "recall @ 200 0.65\n",
      "recall @ 100 0.6\n",
      "recall @ 50 0.55\n",
      "recall @ 20 0.45\n"
     ]
    },
    {
     "name": "stderr",
     "output_type": "stream",
     "text": [
      "100%|████████████████████████████████████████████████████████████████████████████████| 536/536 [00:05<00:00, 96.45it/s]\n"
     ]
    },
    {
     "name": "stdout",
     "output_type": "stream",
     "text": [
      "Mean position of artwork:  511.46153846153845\n",
      "Mean of Minimum position of artwork:  543.28\n",
      "Mean of median position of artwork:  486.7\n",
      "Mean Average Precision:  0.2198604538997736\n",
      "recall @ 400 0.68\n",
      "recall @ 200 0.64\n",
      "recall @ 100 0.6\n",
      "recall @ 50 0.52\n",
      "recall @ 20 0.38\n"
     ]
    },
    {
     "name": "stderr",
     "output_type": "stream",
     "text": [
      "100%|████████████████████████████████████████████████████████████████████████████████| 546/546 [00:51<00:00, 10.53it/s]\n"
     ]
    },
    {
     "name": "stdout",
     "output_type": "stream",
     "text": [
      "Mean position of artwork:  708.8788759689922\n",
      "Mean of Minimum position of artwork:  896.6686746987951\n",
      "Mean of median position of artwork:  658.1917670682731\n",
      "Mean Average Precision:  0.22183582609013588\n",
      "recall @ 400 0.6666666666666666\n",
      "recall @ 200 0.570281124497992\n",
      "recall @ 100 0.5060240963855421\n",
      "recall @ 50 0.4457831325301205\n",
      "recall @ 20 0.37349397590361444\n"
     ]
    },
    {
     "name": "stderr",
     "output_type": "stream",
     "text": [
      "100%|███████████████████████████████████████████████████████████████████████████████| 546/546 [00:02<00:00, 190.55it/s]\n"
     ]
    },
    {
     "name": "stdout",
     "output_type": "stream",
     "text": [
      "Mean position of artwork:  384.9310344827586\n",
      "Mean of Minimum position of artwork:  369.86206896551727\n",
      "Mean of median position of artwork:  384.9310344827586\n",
      "Mean Average Precision:  0.23655336215987327\n",
      "recall @ 400 0.7241379310344828\n",
      "recall @ 200 0.6551724137931034\n",
      "recall @ 100 0.5862068965517241\n",
      "recall @ 50 0.4827586206896552\n",
      "recall @ 20 0.41379310344827586\n"
     ]
    },
    {
     "name": "stderr",
     "output_type": "stream",
     "text": [
      "100%|███████████████████████████████████████████████████████████████████████████████| 546/546 [00:01<00:00, 280.32it/s]\n"
     ]
    },
    {
     "name": "stdout",
     "output_type": "stream",
     "text": [
      "Mean position of artwork:  489.375\n",
      "Mean of Minimum position of artwork:  423.63157894736844\n",
      "Mean of median position of artwork:  431.7105263157895\n",
      "Mean Average Precision:  0.38186380734185255\n",
      "recall @ 400 0.7894736842105263\n",
      "recall @ 200 0.631578947368421\n",
      "recall @ 100 0.631578947368421\n",
      "recall @ 50 0.631578947368421\n",
      "recall @ 20 0.5263157894736842\n"
     ]
    },
    {
     "name": "stderr",
     "output_type": "stream",
     "text": [
      "100%|███████████████████████████████████████████████████████████████████████████████| 546/546 [00:04<00:00, 118.57it/s]\n"
     ]
    },
    {
     "name": "stdout",
     "output_type": "stream",
     "text": [
      "Mean position of artwork:  427.5612244897959\n",
      "Mean of Minimum position of artwork:  391.1458333333333\n",
      "Mean of median position of artwork:  403.4479166666667\n",
      "Mean Average Precision:  0.29407208004440677\n",
      "recall @ 400 0.75\n",
      "recall @ 200 0.6458333333333334\n",
      "recall @ 100 0.6041666666666666\n",
      "recall @ 50 0.5416666666666666\n",
      "recall @ 20 0.4583333333333333\n"
     ]
    },
    {
     "name": "stderr",
     "output_type": "stream",
     "text": [
      "100%|████████████████████████████████████████████████████████████████████████████████| 531/531 [00:48<00:00, 11.04it/s]\n"
     ]
    },
    {
     "name": "stdout",
     "output_type": "stream",
     "text": [
      "Mean position of artwork:  631.0833333333334\n",
      "Mean of Minimum position of artwork:  775.45\n",
      "Mean of median position of artwork:  598.25\n",
      "Mean Average Precision:  0.27393129042695513\n",
      "recall @ 400 0.70625\n",
      "recall @ 200 0.63125\n",
      "recall @ 100 0.575\n",
      "recall @ 50 0.5291666666666667\n",
      "recall @ 20 0.4395833333333333\n"
     ]
    },
    {
     "name": "stderr",
     "output_type": "stream",
     "text": [
      "100%|███████████████████████████████████████████████████████████████████████████████| 531/531 [00:01<00:00, 296.28it/s]\n"
     ]
    },
    {
     "name": "stdout",
     "output_type": "stream",
     "text": [
      "Mean position of artwork:  662.075\n",
      "Mean of Minimum position of artwork:  524.6111111111111\n",
      "Mean of median position of artwork:  445.75\n",
      "Mean Average Precision:  0.26089203469826855\n",
      "recall @ 400 0.7222222222222222\n",
      "recall @ 200 0.5555555555555556\n",
      "recall @ 100 0.5555555555555556\n",
      "recall @ 50 0.5555555555555556\n",
      "recall @ 20 0.5\n"
     ]
    },
    {
     "name": "stderr",
     "output_type": "stream",
     "text": [
      "100%|███████████████████████████████████████████████████████████████████████████████| 531/531 [00:03<00:00, 163.69it/s]\n"
     ]
    },
    {
     "name": "stdout",
     "output_type": "stream",
     "text": [
      "Mean position of artwork:  489.8484848484849\n",
      "Mean of Minimum position of artwork:  579.6969696969697\n",
      "Mean of median position of artwork:  489.8484848484849\n",
      "Mean Average Precision:  0.24367072539103288\n",
      "recall @ 400 0.7575757575757576\n",
      "recall @ 200 0.6666666666666666\n",
      "recall @ 100 0.5454545454545454\n",
      "recall @ 50 0.42424242424242425\n",
      "recall @ 20 0.3333333333333333\n"
     ]
    },
    {
     "name": "stderr",
     "output_type": "stream",
     "text": [
      "100%|███████████████████████████████████████████████████████████████████████████████| 531/531 [00:04<00:00, 107.93it/s]\n"
     ]
    },
    {
     "name": "stdout",
     "output_type": "stream",
     "text": [
      "Mean position of artwork:  554.8396226415094\n",
      "Mean of Minimum position of artwork:  560.2549019607843\n",
      "Mean of median position of artwork:  474.2843137254902\n",
      "Mean Average Precision:  0.24974883455829258\n",
      "recall @ 400 0.7450980392156863\n",
      "recall @ 200 0.6274509803921569\n",
      "recall @ 100 0.5490196078431373\n",
      "recall @ 50 0.47058823529411764\n",
      "recall @ 20 0.39215686274509803\n"
     ]
    },
    {
     "name": "stderr",
     "output_type": "stream",
     "text": [
      "100%|████████████████████████████████████████████████████████████████████████████████| 596/596 [00:54<00:00, 10.97it/s]\n"
     ]
    },
    {
     "name": "stdout",
     "output_type": "stream",
     "text": [
      "Mean position of artwork:  558.4912280701755\n",
      "Mean of Minimum position of artwork:  639.2652329749104\n",
      "Mean of median position of artwork:  528.6863799283154\n",
      "Mean Average Precision:  0.21612235240614316\n",
      "recall @ 400 0.7007168458781362\n",
      "recall @ 200 0.6075268817204301\n",
      "recall @ 100 0.543010752688172\n",
      "recall @ 50 0.45878136200716846\n",
      "recall @ 20 0.3727598566308244\n"
     ]
    },
    {
     "name": "stderr",
     "output_type": "stream",
     "text": [
      "100%|███████████████████████████████████████████████████████████████████████████████| 596/596 [00:01<00:00, 328.51it/s]\n"
     ]
    },
    {
     "name": "stdout",
     "output_type": "stream",
     "text": [
      "Mean position of artwork:  817.4736842105264\n",
      "Mean of Minimum position of artwork:  1234.9473684210527\n",
      "Mean of median position of artwork:  817.4736842105264\n",
      "Mean Average Precision:  0.28510697417772746\n",
      "recall @ 400 0.5789473684210527\n",
      "recall @ 200 0.5263157894736842\n",
      "recall @ 100 0.5263157894736842\n",
      "recall @ 50 0.47368421052631576\n",
      "recall @ 20 0.42105263157894735\n"
     ]
    },
    {
     "name": "stderr",
     "output_type": "stream",
     "text": [
      "100%|███████████████████████████████████████████████████████████████████████████████| 596/596 [00:01<00:00, 319.05it/s]\n"
     ]
    },
    {
     "name": "stdout",
     "output_type": "stream",
     "text": [
      "Mean position of artwork:  777.6428571428571\n",
      "Mean of Minimum position of artwork:  801.1052631578947\n",
      "Mean of median position of artwork:  584.8684210526316\n",
      "Mean Average Precision:  0.4067761532280516\n",
      "recall @ 400 0.7368421052631579\n",
      "recall @ 200 0.631578947368421\n",
      "recall @ 100 0.631578947368421\n",
      "recall @ 50 0.631578947368421\n",
      "recall @ 20 0.5789473684210527\n"
     ]
    },
    {
     "name": "stderr",
     "output_type": "stream",
     "text": [
      "100%|███████████████████████████████████████████████████████████████████████████████| 596/596 [00:03<00:00, 158.60it/s]\n"
     ]
    },
    {
     "name": "stdout",
     "output_type": "stream",
     "text": [
      "Mean position of artwork:  796.5625\n",
      "Mean of Minimum position of artwork:  1018.0263157894736\n",
      "Mean of median position of artwork:  701.171052631579\n",
      "Mean Average Precision:  0.34594156370288953\n",
      "recall @ 400 0.6578947368421053\n",
      "recall @ 200 0.5789473684210527\n",
      "recall @ 100 0.5789473684210527\n",
      "recall @ 50 0.5526315789473685\n",
      "recall @ 20 0.5\n"
     ]
    },
    {
     "name": "stderr",
     "output_type": "stream",
     "text": [
      "100%|████████████████████████████████████████████████████████████████████████████████| 546/546 [00:49<00:00, 11.01it/s]\n"
     ]
    },
    {
     "name": "stdout",
     "output_type": "stream",
     "text": [
      "Mean position of artwork:  594.7490310077519\n",
      "Mean of Minimum position of artwork:  710.3273092369478\n",
      "Mean of median position of artwork:  565.8483935742972\n",
      "Mean Average Precision:  0.24450357916881937\n",
      "recall @ 400 0.7028112449799196\n",
      "recall @ 200 0.608433734939759\n",
      "recall @ 100 0.5401606425702812\n",
      "recall @ 50 0.4779116465863454\n",
      "recall @ 20 0.40160642570281124\n"
     ]
    },
    {
     "name": "stderr",
     "output_type": "stream",
     "text": [
      "100%|███████████████████████████████████████████████████████████████████████████████| 546/546 [00:02<00:00, 186.08it/s]\n"
     ]
    },
    {
     "name": "stdout",
     "output_type": "stream",
     "text": [
      "Mean position of artwork:  695.6935483870968\n",
      "Mean of Minimum position of artwork:  710.0333333333333\n",
      "Mean of median position of artwork:  558.15\n",
      "Mean Average Precision:  0.19991863363364262\n",
      "recall @ 400 0.6\n",
      "recall @ 200 0.5\n",
      "recall @ 100 0.43333333333333335\n",
      "recall @ 50 0.36666666666666664\n",
      "recall @ 20 0.3\n"
     ]
    },
    {
     "name": "stderr",
     "output_type": "stream",
     "text": [
      "100%|███████████████████████████████████████████████████████████████████████████████| 546/546 [00:01<00:00, 297.70it/s]\n"
     ]
    },
    {
     "name": "stdout",
     "output_type": "stream",
     "text": [
      "Mean position of artwork:  538.6666666666666\n",
      "Mean of Minimum position of artwork:  677.3333333333334\n",
      "Mean of median position of artwork:  538.6666666666666\n",
      "Mean Average Precision:  0.34730540394844867\n",
      "recall @ 400 0.8888888888888888\n",
      "recall @ 200 0.7222222222222222\n",
      "recall @ 100 0.7222222222222222\n",
      "recall @ 50 0.6666666666666666\n",
      "recall @ 20 0.5555555555555556\n"
     ]
    },
    {
     "name": "stderr",
     "output_type": "stream",
     "text": [
      "100%|███████████████████████████████████████████████████████████████████████████████| 546/546 [00:04<00:00, 112.46it/s]\n"
     ]
    },
    {
     "name": "stdout",
     "output_type": "stream",
     "text": [
      "Mean position of artwork:  638.0102040816327\n",
      "Mean of Minimum position of artwork:  697.7708333333334\n",
      "Mean of median position of artwork:  550.84375\n",
      "Mean Average Precision:  0.2551886725016949\n",
      "recall @ 400 0.7083333333333334\n",
      "recall @ 200 0.5833333333333334\n",
      "recall @ 100 0.5416666666666666\n",
      "recall @ 50 0.4791666666666667\n",
      "recall @ 20 0.3958333333333333\n"
     ]
    },
    {
     "name": "stderr",
     "output_type": "stream",
     "text": [
      "100%|████████████████████████████████████████████████████████████████████████████████| 611/611 [00:55<00:00, 11.05it/s]\n"
     ]
    },
    {
     "name": "stdout",
     "output_type": "stream",
     "text": [
      "Mean position of artwork:  703.68\n",
      "Mean of Minimum position of artwork:  857.5416666666666\n",
      "Mean of median position of artwork:  643.953125\n",
      "Mean Average Precision:  0.20667332802122693\n",
      "recall @ 400 0.6614583333333334\n",
      "recall @ 200 0.5677083333333334\n",
      "recall @ 100 0.5138888888888888\n",
      "recall @ 50 0.4427083333333333\n",
      "recall @ 20 0.3645833333333333\n"
     ]
    },
    {
     "name": "stderr",
     "output_type": "stream",
     "text": [
      "100%|███████████████████████████████████████████████████████████████████████████████| 611/611 [00:01<00:00, 335.14it/s]\n"
     ]
    },
    {
     "name": "stdout",
     "output_type": "stream",
     "text": [
      "Mean position of artwork:  522.578947368421\n",
      "Mean of Minimum position of artwork:  645.1578947368421\n",
      "Mean of median position of artwork:  522.578947368421\n",
      "Mean Average Precision:  0.34213729255622577\n",
      "recall @ 400 0.7368421052631579\n",
      "recall @ 200 0.631578947368421\n",
      "recall @ 100 0.5789473684210527\n",
      "recall @ 50 0.5789473684210527\n",
      "recall @ 20 0.42105263157894735\n"
     ]
    },
    {
     "name": "stderr",
     "output_type": "stream",
     "text": [
      "100%|███████████████████████████████████████████████████████████████████████████████| 611/611 [00:01<00:00, 391.96it/s]\n"
     ]
    },
    {
     "name": "stdout",
     "output_type": "stream",
     "text": [
      "Mean position of artwork:  291.15625\n",
      "Mean of Minimum position of artwork:  182.3125\n",
      "Mean of median position of artwork:  291.15625\n",
      "Mean Average Precision:  0.3932217608978311\n",
      "recall @ 400 0.9375\n",
      "recall @ 200 0.8125\n",
      "recall @ 100 0.75\n",
      "recall @ 50 0.6875\n",
      "recall @ 20 0.625\n"
     ]
    },
    {
     "name": "stderr",
     "output_type": "stream",
     "text": [
      "100%|███████████████████████████████████████████████████████████████████████████████| 611/611 [00:03<00:00, 183.23it/s]\n"
     ]
    },
    {
     "name": "stdout",
     "output_type": "stream",
     "text": [
      "Mean position of artwork:  416.7857142857143\n",
      "Mean of Minimum position of artwork:  433.57142857142856\n",
      "Mean of median position of artwork:  416.7857142857143\n",
      "Mean Average Precision:  0.36549019236953106\n",
      "recall @ 400 0.8285714285714286\n",
      "recall @ 200 0.7142857142857143\n",
      "recall @ 100 0.6571428571428571\n",
      "recall @ 50 0.6285714285714286\n",
      "recall @ 20 0.5142857142857142\n"
     ]
    },
    {
     "name": "stderr",
     "output_type": "stream",
     "text": [
      "100%|████████████████████████████████████████████████████████████████████████████████| 596/596 [00:54<00:00, 11.01it/s]\n"
     ]
    },
    {
     "name": "stdout",
     "output_type": "stream",
     "text": [
      "Mean position of artwork:  609.4342105263158\n",
      "Mean of Minimum position of artwork:  698.568100358423\n",
      "Mean of median position of artwork:  557.5994623655914\n",
      "Mean Average Precision:  0.20314695006311065\n",
      "recall @ 400 0.6810035842293907\n",
      "recall @ 200 0.578853046594982\n",
      "recall @ 100 0.521505376344086\n",
      "recall @ 50 0.44623655913978494\n",
      "recall @ 20 0.3548387096774194\n"
     ]
    },
    {
     "name": "stderr",
     "output_type": "stream",
     "text": [
      "100%|███████████████████████████████████████████████████████████████████████████████| 596/596 [00:02<00:00, 227.20it/s]\n"
     ]
    },
    {
     "name": "stdout",
     "output_type": "stream",
     "text": [
      "Mean position of artwork:  606.9791666666666\n",
      "Mean of Minimum position of artwork:  745.5\n",
      "Mean of median position of artwork:  572.1136363636364\n",
      "Mean Average Precision:  0.36911820847112886\n",
      "recall @ 400 0.7727272727272727\n",
      "recall @ 200 0.7272727272727273\n",
      "recall @ 100 0.6363636363636364\n",
      "recall @ 50 0.5454545454545454\n",
      "recall @ 20 0.45454545454545453\n"
     ]
    },
    {
     "name": "stderr",
     "output_type": "stream",
     "text": [
      "100%|███████████████████████████████████████████████████████████████████████████████| 596/596 [00:01<00:00, 384.79it/s]\n"
     ]
    },
    {
     "name": "stdout",
     "output_type": "stream",
     "text": [
      "Mean position of artwork:  511.0\n",
      "Mean of Minimum position of artwork:  622.0\n",
      "Mean of median position of artwork:  511.0\n",
      "Mean Average Precision:  0.4961191297235048\n",
      "recall @ 400 0.75\n",
      "recall @ 200 0.6875\n",
      "recall @ 100 0.6875\n",
      "recall @ 50 0.6875\n",
      "recall @ 20 0.625\n"
     ]
    },
    {
     "name": "stderr",
     "output_type": "stream",
     "text": [
      "100%|███████████████████████████████████████████████████████████████████████████████| 596/596 [00:04<00:00, 142.38it/s]\n"
     ]
    },
    {
     "name": "stdout",
     "output_type": "stream",
     "text": [
      "Mean position of artwork:  568.5875\n",
      "Mean of Minimum position of artwork:  693.5\n",
      "Mean of median position of artwork:  546.3815789473684\n",
      "Mean Average Precision:  0.4225922805773924\n",
      "recall @ 400 0.7631578947368421\n",
      "recall @ 200 0.7105263157894737\n",
      "recall @ 100 0.6578947368421053\n",
      "recall @ 50 0.6052631578947368\n",
      "recall @ 20 0.5263157894736842\n"
     ]
    }
   ],
   "source": [
    "for i in range(1, 11):\n",
    "    \n",
    "    lbl = \"v\"+str(i)\n",
    "    \n",
    "    draw_art_pairs_df_full = pd.read_csv(\"./../../../data/model_learning/drawing_artwork_pair_train_test_split_\"+lbl+\".csv\")\n",
    "    \n",
    "    draw_art_pairs_df = draw_art_pairs_df_full[\n",
    "        (\n",
    "            (draw_art_pairs_df_full[\"set\"].isin([\"train\"]))\n",
    "            | (\n",
    "                (draw_art_pairs_df_full[\"set\"].isin([\"test\", \"val\"]))\n",
    "                & (\n",
    "                    draw_art_pairs_df_full[\"drawing_id\"]\n",
    "                    == draw_art_pairs_df_full[\"parent\"]\n",
    "                )\n",
    "            )\n",
    "        )\n",
    "    ].reset_index(drop=True)\n",
    "\n",
    "    train_mets.append((lbl, \"Clus-Replica\") + get_scores(drawings_embeddings_clus, artworks_embeddings_clus, draw_art_pairs_df, [\"train\"], number_of_artworks))\n",
    "\n",
    "    val_mets.append((lbl, \"Clus-Replica\") + get_scores(drawings_embeddings_clus, artworks_embeddings_clus, draw_art_pairs_df, [\"val\"], number_of_artworks))\n",
    "\n",
    "    test_mets.append((lbl, \"Clus-Replica\") + get_scores(drawings_embeddings_clus, artworks_embeddings_clus, draw_art_pairs_df, [\"test\"], number_of_artworks))\n",
    "\n",
    "    non_train_mets.append((lbl, \"Clus-Replica\") + get_scores(drawings_embeddings_clus, artworks_embeddings_clus, draw_art_pairs_df, [\"val\", \"test\"], number_of_artworks))"
   ]
  },
  {
   "cell_type": "code",
   "execution_count": 10,
   "id": "5e315c8f-ed1b-42b4-860e-6a1f5ad23093",
   "metadata": {},
   "outputs": [],
   "source": [
    "train_metrics_df = pd.DataFrame(train_mets, columns=[\"version\", \"model\", \"MP\",\"MMP\", \"mean_median_position\", 'MAP','R@400', 'R@200', 'R@100', 'R@50', 'R@20'])\n",
    "val_metrics_df = pd.DataFrame(val_mets, columns=[\"version\", \"model\", \"MP\",\"MMP\", \"mean_median_position\", 'MAP','R@400', 'R@200', 'R@100', 'R@50', 'R@20'])\n",
    "test_metrics_df = pd.DataFrame(test_mets, columns=[\"version\", \"model\", \"MP\",\"MMP\", \"mean_median_position\", 'MAP','R@400', 'R@200', 'R@100', 'R@50', 'R@20'])\n",
    "non_train_metrics_df = pd.DataFrame(non_train_mets, columns=[\"version\", \"model\", \"MP\",\"MMP\", \"mean_median_position\", 'MAP','R@400', 'R@200', 'R@100', 'R@50', 'R@20'])"
   ]
  },
  {
   "cell_type": "code",
   "execution_count": 11,
   "id": "09af94dd-3a49-4ed6-9129-df2d6694a6ff",
   "metadata": {},
   "outputs": [],
   "source": [
    "train_metrics_df[\"MAP\"] = 100 * train_metrics_df[\"MAP\"]\n",
    "train_metrics_df[\"R@400\"] = 100 * train_metrics_df[\"R@400\"]\n",
    "train_metrics_df[\"R@200\"] = 100 * train_metrics_df[\"R@200\"]\n",
    "train_metrics_df[\"R@100\"] = 100 * train_metrics_df[\"R@100\"]\n",
    "train_metrics_df[\"R@50\"] = 100 * train_metrics_df[\"R@50\"]\n",
    "train_metrics_df[\"R@20\"] = 100 * train_metrics_df[\"R@20\"]\n",
    "\n",
    "val_metrics_df[\"MAP\"] = 100 * val_metrics_df[\"MAP\"]\n",
    "val_metrics_df[\"R@400\"] = 100 * val_metrics_df[\"R@400\"]\n",
    "val_metrics_df[\"R@200\"] = 100 * val_metrics_df[\"R@200\"]\n",
    "val_metrics_df[\"R@100\"] = 100 * val_metrics_df[\"R@100\"]\n",
    "val_metrics_df[\"R@50\"] = 100 * val_metrics_df[\"R@50\"]\n",
    "val_metrics_df[\"R@20\"] = 100 * val_metrics_df[\"R@20\"]\n",
    "\n",
    "test_metrics_df[\"MAP\"] = 100 * test_metrics_df[\"MAP\"]\n",
    "test_metrics_df[\"R@400\"] = 100 * test_metrics_df[\"R@400\"]\n",
    "test_metrics_df[\"R@200\"] = 100 * test_metrics_df[\"R@200\"]\n",
    "test_metrics_df[\"R@100\"] = 100 * test_metrics_df[\"R@100\"]\n",
    "test_metrics_df[\"R@50\"] = 100 * test_metrics_df[\"R@50\"]\n",
    "test_metrics_df[\"R@20\"] = 100 * test_metrics_df[\"R@20\"]\n",
    "\n",
    "non_train_metrics_df[\"MAP\"] = 100 * non_train_metrics_df[\"MAP\"]\n",
    "non_train_metrics_df[\"R@400\"] = 100 * non_train_metrics_df[\"R@400\"]\n",
    "non_train_metrics_df[\"R@200\"] = 100 * non_train_metrics_df[\"R@200\"]\n",
    "non_train_metrics_df[\"R@100\"] = 100 * non_train_metrics_df[\"R@100\"]\n",
    "non_train_metrics_df[\"R@50\"] = 100 * non_train_metrics_df[\"R@50\"]\n",
    "non_train_metrics_df[\"R@20\"] = 100 * non_train_metrics_df[\"R@20\"]"
   ]
  },
  {
   "cell_type": "code",
   "execution_count": 23,
   "id": "9dfbca1e-8c44-4089-b51c-f8295569a6fa",
   "metadata": {},
   "outputs": [],
   "source": [
    "train_metrics_df.to_csv(\"./../../../data/model_learning/comparison/scores/baselines_replica/train_scores_kfold.csv\", index=False)\n",
    "val_metrics_df.to_csv(\"./../../../data/model_learning/comparison/scores/baselines_replica/val_scores_kfold.csv\", index=False)\n",
    "test_metrics_df.to_csv(\"./../../../data/model_learning/comparison/scores/baselines_replica/test_scores_kfold.csv\", index=False)\n",
    "non_train_metrics_df.to_csv(\"./../../../data/model_learning/comparison/scores/baselines_replica/non_train_scores_kfold.csv\", index=False)"
   ]
  },
  {
   "cell_type": "code",
   "execution_count": 12,
   "id": "39728f5d-a53c-4830-8b68-df3cc6008072",
   "metadata": {},
   "outputs": [
    {
     "data": {
      "text/html": [
       "<div>\n",
       "<style scoped>\n",
       "    .dataframe tbody tr th:only-of-type {\n",
       "        vertical-align: middle;\n",
       "    }\n",
       "\n",
       "    .dataframe tbody tr th {\n",
       "        vertical-align: top;\n",
       "    }\n",
       "\n",
       "    .dataframe thead th {\n",
       "        text-align: right;\n",
       "    }\n",
       "</style>\n",
       "<table border=\"1\" class=\"dataframe\">\n",
       "  <thead>\n",
       "    <tr style=\"text-align: right;\">\n",
       "      <th></th>\n",
       "      <th>version</th>\n",
       "      <th>model</th>\n",
       "      <th>MP</th>\n",
       "      <th>MMP</th>\n",
       "      <th>mean_median_position</th>\n",
       "      <th>MAP</th>\n",
       "      <th>R@400</th>\n",
       "      <th>R@200</th>\n",
       "      <th>R@100</th>\n",
       "      <th>R@50</th>\n",
       "      <th>R@20</th>\n",
       "    </tr>\n",
       "  </thead>\n",
       "  <tbody>\n",
       "    <tr>\n",
       "      <th>0</th>\n",
       "      <td>v0</td>\n",
       "      <td>Mini-Replica</td>\n",
       "      <td>614.098246</td>\n",
       "      <td>736.387097</td>\n",
       "      <td>590.111111</td>\n",
       "      <td>20.110348</td>\n",
       "      <td>67.204301</td>\n",
       "      <td>59.318996</td>\n",
       "      <td>50.537634</td>\n",
       "      <td>44.444444</td>\n",
       "      <td>35.304659</td>\n",
       "    </tr>\n",
       "    <tr>\n",
       "      <th>1</th>\n",
       "      <td>v1</td>\n",
       "      <td>Mini-Replica</td>\n",
       "      <td>579.851190</td>\n",
       "      <td>660.637500</td>\n",
       "      <td>552.120833</td>\n",
       "      <td>24.160569</td>\n",
       "      <td>69.375000</td>\n",
       "      <td>62.291667</td>\n",
       "      <td>54.375000</td>\n",
       "      <td>48.333333</td>\n",
       "      <td>39.583333</td>\n",
       "    </tr>\n",
       "    <tr>\n",
       "      <th>2</th>\n",
       "      <td>v2</td>\n",
       "      <td>Mini-Replica</td>\n",
       "      <td>568.450000</td>\n",
       "      <td>641.810976</td>\n",
       "      <td>543.108740</td>\n",
       "      <td>26.836561</td>\n",
       "      <td>71.747967</td>\n",
       "      <td>65.650407</td>\n",
       "      <td>59.146341</td>\n",
       "      <td>52.845528</td>\n",
       "      <td>43.089431</td>\n",
       "    </tr>\n",
       "    <tr>\n",
       "      <th>3</th>\n",
       "      <td>v3</td>\n",
       "      <td>Mini-Replica</td>\n",
       "      <td>504.789530</td>\n",
       "      <td>619.919913</td>\n",
       "      <td>507.133117</td>\n",
       "      <td>27.356674</td>\n",
       "      <td>74.242424</td>\n",
       "      <td>67.532468</td>\n",
       "      <td>61.688312</td>\n",
       "      <td>54.112554</td>\n",
       "      <td>46.320346</td>\n",
       "    </tr>\n",
       "    <tr>\n",
       "      <th>4</th>\n",
       "      <td>v4</td>\n",
       "      <td>Mini-Replica</td>\n",
       "      <td>531.323293</td>\n",
       "      <td>598.349794</td>\n",
       "      <td>519.090535</td>\n",
       "      <td>26.267754</td>\n",
       "      <td>73.251029</td>\n",
       "      <td>66.255144</td>\n",
       "      <td>58.641975</td>\n",
       "      <td>52.263374</td>\n",
       "      <td>44.032922</td>\n",
       "    </tr>\n",
       "    <tr>\n",
       "      <th>5</th>\n",
       "      <td>v5</td>\n",
       "      <td>Mini-Replica</td>\n",
       "      <td>656.153101</td>\n",
       "      <td>824.702811</td>\n",
       "      <td>634.287149</td>\n",
       "      <td>22.723035</td>\n",
       "      <td>65.461847</td>\n",
       "      <td>57.831325</td>\n",
       "      <td>49.598394</td>\n",
       "      <td>43.172691</td>\n",
       "      <td>35.943775</td>\n",
       "    </tr>\n",
       "    <tr>\n",
       "      <th>6</th>\n",
       "      <td>v6</td>\n",
       "      <td>Mini-Replica</td>\n",
       "      <td>558.261179</td>\n",
       "      <td>679.052083</td>\n",
       "      <td>541.163542</td>\n",
       "      <td>25.163586</td>\n",
       "      <td>70.208333</td>\n",
       "      <td>63.750000</td>\n",
       "      <td>56.458333</td>\n",
       "      <td>50.833333</td>\n",
       "      <td>42.500000</td>\n",
       "    </tr>\n",
       "    <tr>\n",
       "      <th>7</th>\n",
       "      <td>v7</td>\n",
       "      <td>Mini-Replica</td>\n",
       "      <td>494.591228</td>\n",
       "      <td>554.211470</td>\n",
       "      <td>478.514337</td>\n",
       "      <td>22.731284</td>\n",
       "      <td>71.326165</td>\n",
       "      <td>64.157706</td>\n",
       "      <td>55.197133</td>\n",
       "      <td>48.745520</td>\n",
       "      <td>39.247312</td>\n",
       "    </tr>\n",
       "    <tr>\n",
       "      <th>8</th>\n",
       "      <td>v8</td>\n",
       "      <td>Mini-Replica</td>\n",
       "      <td>575.304264</td>\n",
       "      <td>726.606426</td>\n",
       "      <td>562.259036</td>\n",
       "      <td>26.290444</td>\n",
       "      <td>69.678715</td>\n",
       "      <td>63.052209</td>\n",
       "      <td>55.421687</td>\n",
       "      <td>49.598394</td>\n",
       "      <td>41.767068</td>\n",
       "    </tr>\n",
       "    <tr>\n",
       "      <th>9</th>\n",
       "      <td>v9</td>\n",
       "      <td>Mini-Replica</td>\n",
       "      <td>638.572500</td>\n",
       "      <td>799.484375</td>\n",
       "      <td>617.910590</td>\n",
       "      <td>19.031073</td>\n",
       "      <td>65.625000</td>\n",
       "      <td>58.159722</td>\n",
       "      <td>49.305556</td>\n",
       "      <td>42.534722</td>\n",
       "      <td>35.069444</td>\n",
       "    </tr>\n",
       "    <tr>\n",
       "      <th>10</th>\n",
       "      <td>v10</td>\n",
       "      <td>Mini-Replica</td>\n",
       "      <td>613.244737</td>\n",
       "      <td>734.643369</td>\n",
       "      <td>589.239247</td>\n",
       "      <td>21.077185</td>\n",
       "      <td>67.025090</td>\n",
       "      <td>58.781362</td>\n",
       "      <td>51.254480</td>\n",
       "      <td>44.802867</td>\n",
       "      <td>36.021505</td>\n",
       "    </tr>\n",
       "    <tr>\n",
       "      <th>11</th>\n",
       "      <td>v0</td>\n",
       "      <td>Clus-Replica</td>\n",
       "      <td>643.615789</td>\n",
       "      <td>768.401434</td>\n",
       "      <td>592.516129</td>\n",
       "      <td>19.924036</td>\n",
       "      <td>66.666667</td>\n",
       "      <td>57.168459</td>\n",
       "      <td>50.000000</td>\n",
       "      <td>42.293907</td>\n",
       "      <td>33.333333</td>\n",
       "    </tr>\n",
       "    <tr>\n",
       "      <th>12</th>\n",
       "      <td>v1</td>\n",
       "      <td>Clus-Replica</td>\n",
       "      <td>681.994048</td>\n",
       "      <td>782.037500</td>\n",
       "      <td>609.237500</td>\n",
       "      <td>23.522109</td>\n",
       "      <td>68.333333</td>\n",
       "      <td>59.375000</td>\n",
       "      <td>51.875000</td>\n",
       "      <td>45.625000</td>\n",
       "      <td>39.583333</td>\n",
       "    </tr>\n",
       "    <tr>\n",
       "      <th>13</th>\n",
       "      <td>v2</td>\n",
       "      <td>Clus-Replica</td>\n",
       "      <td>639.279412</td>\n",
       "      <td>750.900407</td>\n",
       "      <td>585.427846</td>\n",
       "      <td>24.035856</td>\n",
       "      <td>70.528455</td>\n",
       "      <td>60.569106</td>\n",
       "      <td>54.674797</td>\n",
       "      <td>48.373984</td>\n",
       "      <td>41.463415</td>\n",
       "    </tr>\n",
       "    <tr>\n",
       "      <th>14</th>\n",
       "      <td>v3</td>\n",
       "      <td>Clus-Replica</td>\n",
       "      <td>576.518162</td>\n",
       "      <td>759.205628</td>\n",
       "      <td>580.185065</td>\n",
       "      <td>26.598221</td>\n",
       "      <td>72.294372</td>\n",
       "      <td>63.419913</td>\n",
       "      <td>57.359307</td>\n",
       "      <td>51.515152</td>\n",
       "      <td>45.238095</td>\n",
       "    </tr>\n",
       "    <tr>\n",
       "      <th>15</th>\n",
       "      <td>v4</td>\n",
       "      <td>Clus-Replica</td>\n",
       "      <td>661.100402</td>\n",
       "      <td>824.596708</td>\n",
       "      <td>619.897119</td>\n",
       "      <td>23.951899</td>\n",
       "      <td>69.958848</td>\n",
       "      <td>60.082305</td>\n",
       "      <td>53.292181</td>\n",
       "      <td>46.502058</td>\n",
       "      <td>40.534979</td>\n",
       "    </tr>\n",
       "    <tr>\n",
       "      <th>16</th>\n",
       "      <td>v5</td>\n",
       "      <td>Clus-Replica</td>\n",
       "      <td>708.878876</td>\n",
       "      <td>896.668675</td>\n",
       "      <td>658.191767</td>\n",
       "      <td>22.183583</td>\n",
       "      <td>66.666667</td>\n",
       "      <td>57.028112</td>\n",
       "      <td>50.602410</td>\n",
       "      <td>44.578313</td>\n",
       "      <td>37.349398</td>\n",
       "    </tr>\n",
       "    <tr>\n",
       "      <th>17</th>\n",
       "      <td>v6</td>\n",
       "      <td>Clus-Replica</td>\n",
       "      <td>631.083333</td>\n",
       "      <td>775.450000</td>\n",
       "      <td>598.250000</td>\n",
       "      <td>27.393129</td>\n",
       "      <td>70.625000</td>\n",
       "      <td>63.125000</td>\n",
       "      <td>57.500000</td>\n",
       "      <td>52.916667</td>\n",
       "      <td>43.958333</td>\n",
       "    </tr>\n",
       "    <tr>\n",
       "      <th>18</th>\n",
       "      <td>v7</td>\n",
       "      <td>Clus-Replica</td>\n",
       "      <td>558.491228</td>\n",
       "      <td>639.265233</td>\n",
       "      <td>528.686380</td>\n",
       "      <td>21.612235</td>\n",
       "      <td>70.071685</td>\n",
       "      <td>60.752688</td>\n",
       "      <td>54.301075</td>\n",
       "      <td>45.878136</td>\n",
       "      <td>37.275986</td>\n",
       "    </tr>\n",
       "    <tr>\n",
       "      <th>19</th>\n",
       "      <td>v8</td>\n",
       "      <td>Clus-Replica</td>\n",
       "      <td>594.749031</td>\n",
       "      <td>710.327309</td>\n",
       "      <td>565.848394</td>\n",
       "      <td>24.450358</td>\n",
       "      <td>70.281124</td>\n",
       "      <td>60.843373</td>\n",
       "      <td>54.016064</td>\n",
       "      <td>47.791165</td>\n",
       "      <td>40.160643</td>\n",
       "    </tr>\n",
       "    <tr>\n",
       "      <th>20</th>\n",
       "      <td>v9</td>\n",
       "      <td>Clus-Replica</td>\n",
       "      <td>703.680000</td>\n",
       "      <td>857.541667</td>\n",
       "      <td>643.953125</td>\n",
       "      <td>20.667333</td>\n",
       "      <td>66.145833</td>\n",
       "      <td>56.770833</td>\n",
       "      <td>51.388889</td>\n",
       "      <td>44.270833</td>\n",
       "      <td>36.458333</td>\n",
       "    </tr>\n",
       "    <tr>\n",
       "      <th>21</th>\n",
       "      <td>v10</td>\n",
       "      <td>Clus-Replica</td>\n",
       "      <td>609.434211</td>\n",
       "      <td>698.568100</td>\n",
       "      <td>557.599462</td>\n",
       "      <td>20.314695</td>\n",
       "      <td>68.100358</td>\n",
       "      <td>57.885305</td>\n",
       "      <td>52.150538</td>\n",
       "      <td>44.623656</td>\n",
       "      <td>35.483871</td>\n",
       "    </tr>\n",
       "  </tbody>\n",
       "</table>\n",
       "</div>"
      ],
      "text/plain": [
       "   version         model          MP         MMP  mean_median_position  \\\n",
       "0       v0  Mini-Replica  614.098246  736.387097            590.111111   \n",
       "1       v1  Mini-Replica  579.851190  660.637500            552.120833   \n",
       "2       v2  Mini-Replica  568.450000  641.810976            543.108740   \n",
       "3       v3  Mini-Replica  504.789530  619.919913            507.133117   \n",
       "4       v4  Mini-Replica  531.323293  598.349794            519.090535   \n",
       "5       v5  Mini-Replica  656.153101  824.702811            634.287149   \n",
       "6       v6  Mini-Replica  558.261179  679.052083            541.163542   \n",
       "7       v7  Mini-Replica  494.591228  554.211470            478.514337   \n",
       "8       v8  Mini-Replica  575.304264  726.606426            562.259036   \n",
       "9       v9  Mini-Replica  638.572500  799.484375            617.910590   \n",
       "10     v10  Mini-Replica  613.244737  734.643369            589.239247   \n",
       "11      v0  Clus-Replica  643.615789  768.401434            592.516129   \n",
       "12      v1  Clus-Replica  681.994048  782.037500            609.237500   \n",
       "13      v2  Clus-Replica  639.279412  750.900407            585.427846   \n",
       "14      v3  Clus-Replica  576.518162  759.205628            580.185065   \n",
       "15      v4  Clus-Replica  661.100402  824.596708            619.897119   \n",
       "16      v5  Clus-Replica  708.878876  896.668675            658.191767   \n",
       "17      v6  Clus-Replica  631.083333  775.450000            598.250000   \n",
       "18      v7  Clus-Replica  558.491228  639.265233            528.686380   \n",
       "19      v8  Clus-Replica  594.749031  710.327309            565.848394   \n",
       "20      v9  Clus-Replica  703.680000  857.541667            643.953125   \n",
       "21     v10  Clus-Replica  609.434211  698.568100            557.599462   \n",
       "\n",
       "          MAP      R@400      R@200      R@100       R@50       R@20  \n",
       "0   20.110348  67.204301  59.318996  50.537634  44.444444  35.304659  \n",
       "1   24.160569  69.375000  62.291667  54.375000  48.333333  39.583333  \n",
       "2   26.836561  71.747967  65.650407  59.146341  52.845528  43.089431  \n",
       "3   27.356674  74.242424  67.532468  61.688312  54.112554  46.320346  \n",
       "4   26.267754  73.251029  66.255144  58.641975  52.263374  44.032922  \n",
       "5   22.723035  65.461847  57.831325  49.598394  43.172691  35.943775  \n",
       "6   25.163586  70.208333  63.750000  56.458333  50.833333  42.500000  \n",
       "7   22.731284  71.326165  64.157706  55.197133  48.745520  39.247312  \n",
       "8   26.290444  69.678715  63.052209  55.421687  49.598394  41.767068  \n",
       "9   19.031073  65.625000  58.159722  49.305556  42.534722  35.069444  \n",
       "10  21.077185  67.025090  58.781362  51.254480  44.802867  36.021505  \n",
       "11  19.924036  66.666667  57.168459  50.000000  42.293907  33.333333  \n",
       "12  23.522109  68.333333  59.375000  51.875000  45.625000  39.583333  \n",
       "13  24.035856  70.528455  60.569106  54.674797  48.373984  41.463415  \n",
       "14  26.598221  72.294372  63.419913  57.359307  51.515152  45.238095  \n",
       "15  23.951899  69.958848  60.082305  53.292181  46.502058  40.534979  \n",
       "16  22.183583  66.666667  57.028112  50.602410  44.578313  37.349398  \n",
       "17  27.393129  70.625000  63.125000  57.500000  52.916667  43.958333  \n",
       "18  21.612235  70.071685  60.752688  54.301075  45.878136  37.275986  \n",
       "19  24.450358  70.281124  60.843373  54.016064  47.791165  40.160643  \n",
       "20  20.667333  66.145833  56.770833  51.388889  44.270833  36.458333  \n",
       "21  20.314695  68.100358  57.885305  52.150538  44.623656  35.483871  "
      ]
     },
     "execution_count": 12,
     "metadata": {},
     "output_type": "execute_result"
    }
   ],
   "source": [
    "train_metrics_df"
   ]
  },
  {
   "cell_type": "code",
   "execution_count": 13,
   "id": "dde872fe-511b-4279-a8dd-1275e69366b9",
   "metadata": {},
   "outputs": [
    {
     "data": {
      "text/html": [
       "<div>\n",
       "<style scoped>\n",
       "    .dataframe tbody tr th:only-of-type {\n",
       "        vertical-align: middle;\n",
       "    }\n",
       "\n",
       "    .dataframe tbody tr th {\n",
       "        vertical-align: top;\n",
       "    }\n",
       "\n",
       "    .dataframe thead th {\n",
       "        text-align: right;\n",
       "    }\n",
       "</style>\n",
       "<table border=\"1\" class=\"dataframe\">\n",
       "  <thead>\n",
       "    <tr style=\"text-align: right;\">\n",
       "      <th></th>\n",
       "      <th>version</th>\n",
       "      <th>model</th>\n",
       "      <th>MP</th>\n",
       "      <th>MMP</th>\n",
       "      <th>mean_median_position</th>\n",
       "      <th>MAP</th>\n",
       "      <th>R@400</th>\n",
       "      <th>R@200</th>\n",
       "      <th>R@100</th>\n",
       "      <th>R@50</th>\n",
       "      <th>R@20</th>\n",
       "    </tr>\n",
       "  </thead>\n",
       "  <tbody>\n",
       "    <tr>\n",
       "      <th>0</th>\n",
       "      <td>v0</td>\n",
       "      <td>Mini-Replica</td>\n",
       "      <td>782.625000</td>\n",
       "      <td>1247.526316</td>\n",
       "      <td>802.815789</td>\n",
       "      <td>42.796169</td>\n",
       "      <td>63.157895</td>\n",
       "      <td>63.157895</td>\n",
       "      <td>57.894737</td>\n",
       "      <td>52.631579</td>\n",
       "      <td>47.368421</td>\n",
       "    </tr>\n",
       "    <tr>\n",
       "      <th>1</th>\n",
       "      <td>v1</td>\n",
       "      <td>Mini-Replica</td>\n",
       "      <td>566.000000</td>\n",
       "      <td>732.000000</td>\n",
       "      <td>566.000000</td>\n",
       "      <td>24.534887</td>\n",
       "      <td>76.666667</td>\n",
       "      <td>56.666667</td>\n",
       "      <td>46.666667</td>\n",
       "      <td>33.333333</td>\n",
       "      <td>26.666667</td>\n",
       "    </tr>\n",
       "    <tr>\n",
       "      <th>2</th>\n",
       "      <td>v2</td>\n",
       "      <td>Mini-Replica</td>\n",
       "      <td>564.954545</td>\n",
       "      <td>729.909091</td>\n",
       "      <td>564.954545</td>\n",
       "      <td>28.313360</td>\n",
       "      <td>63.636364</td>\n",
       "      <td>59.090909</td>\n",
       "      <td>50.000000</td>\n",
       "      <td>50.000000</td>\n",
       "      <td>50.000000</td>\n",
       "    </tr>\n",
       "    <tr>\n",
       "      <th>3</th>\n",
       "      <td>v3</td>\n",
       "      <td>Mini-Replica</td>\n",
       "      <td>445.050000</td>\n",
       "      <td>425.689655</td>\n",
       "      <td>421.741379</td>\n",
       "      <td>13.911420</td>\n",
       "      <td>72.413793</td>\n",
       "      <td>51.724138</td>\n",
       "      <td>41.379310</td>\n",
       "      <td>31.034483</td>\n",
       "      <td>24.137931</td>\n",
       "    </tr>\n",
       "    <tr>\n",
       "      <th>4</th>\n",
       "      <td>v4</td>\n",
       "      <td>Mini-Replica</td>\n",
       "      <td>533.145161</td>\n",
       "      <td>674.166667</td>\n",
       "      <td>546.983333</td>\n",
       "      <td>10.060917</td>\n",
       "      <td>70.000000</td>\n",
       "      <td>50.000000</td>\n",
       "      <td>36.666667</td>\n",
       "      <td>26.666667</td>\n",
       "      <td>20.000000</td>\n",
       "    </tr>\n",
       "    <tr>\n",
       "      <th>5</th>\n",
       "      <td>v5</td>\n",
       "      <td>Mini-Replica</td>\n",
       "      <td>343.431034</td>\n",
       "      <td>286.862069</td>\n",
       "      <td>343.431034</td>\n",
       "      <td>31.862723</td>\n",
       "      <td>79.310345</td>\n",
       "      <td>58.620690</td>\n",
       "      <td>51.724138</td>\n",
       "      <td>41.379310</td>\n",
       "      <td>37.931034</td>\n",
       "    </tr>\n",
       "    <tr>\n",
       "      <th>6</th>\n",
       "      <td>v6</td>\n",
       "      <td>Mini-Replica</td>\n",
       "      <td>459.275000</td>\n",
       "      <td>408.277778</td>\n",
       "      <td>441.250000</td>\n",
       "      <td>34.946418</td>\n",
       "      <td>72.222222</td>\n",
       "      <td>72.222222</td>\n",
       "      <td>72.222222</td>\n",
       "      <td>66.666667</td>\n",
       "      <td>50.000000</td>\n",
       "    </tr>\n",
       "    <tr>\n",
       "      <th>7</th>\n",
       "      <td>v7</td>\n",
       "      <td>Mini-Replica</td>\n",
       "      <td>835.500000</td>\n",
       "      <td>1271.000000</td>\n",
       "      <td>835.500000</td>\n",
       "      <td>28.069821</td>\n",
       "      <td>68.421053</td>\n",
       "      <td>63.157895</td>\n",
       "      <td>52.631579</td>\n",
       "      <td>52.631579</td>\n",
       "      <td>47.368421</td>\n",
       "    </tr>\n",
       "    <tr>\n",
       "      <th>8</th>\n",
       "      <td>v8</td>\n",
       "      <td>Mini-Replica</td>\n",
       "      <td>538.451613</td>\n",
       "      <td>585.466667</td>\n",
       "      <td>528.266667</td>\n",
       "      <td>16.062069</td>\n",
       "      <td>63.333333</td>\n",
       "      <td>43.333333</td>\n",
       "      <td>40.000000</td>\n",
       "      <td>30.000000</td>\n",
       "      <td>26.666667</td>\n",
       "    </tr>\n",
       "    <tr>\n",
       "      <th>9</th>\n",
       "      <td>v9</td>\n",
       "      <td>Mini-Replica</td>\n",
       "      <td>433.500000</td>\n",
       "      <td>467.000000</td>\n",
       "      <td>433.500000</td>\n",
       "      <td>42.331568</td>\n",
       "      <td>78.947368</td>\n",
       "      <td>73.684211</td>\n",
       "      <td>57.894737</td>\n",
       "      <td>52.631579</td>\n",
       "      <td>52.631579</td>\n",
       "    </tr>\n",
       "    <tr>\n",
       "      <th>10</th>\n",
       "      <td>v10</td>\n",
       "      <td>Mini-Replica</td>\n",
       "      <td>558.520833</td>\n",
       "      <td>780.772727</td>\n",
       "      <td>585.795455</td>\n",
       "      <td>43.111744</td>\n",
       "      <td>72.727273</td>\n",
       "      <td>72.727273</td>\n",
       "      <td>59.090909</td>\n",
       "      <td>59.090909</td>\n",
       "      <td>50.000000</td>\n",
       "    </tr>\n",
       "    <tr>\n",
       "      <th>11</th>\n",
       "      <td>v0</td>\n",
       "      <td>Clus-Replica</td>\n",
       "      <td>664.000000</td>\n",
       "      <td>997.473684</td>\n",
       "      <td>678.105263</td>\n",
       "      <td>49.256222</td>\n",
       "      <td>73.684211</td>\n",
       "      <td>73.684211</td>\n",
       "      <td>68.421053</td>\n",
       "      <td>68.421053</td>\n",
       "      <td>68.421053</td>\n",
       "    </tr>\n",
       "    <tr>\n",
       "      <th>12</th>\n",
       "      <td>v1</td>\n",
       "      <td>Clus-Replica</td>\n",
       "      <td>422.200000</td>\n",
       "      <td>444.400000</td>\n",
       "      <td>422.200000</td>\n",
       "      <td>23.507132</td>\n",
       "      <td>70.000000</td>\n",
       "      <td>63.333333</td>\n",
       "      <td>60.000000</td>\n",
       "      <td>53.333333</td>\n",
       "      <td>40.000000</td>\n",
       "    </tr>\n",
       "    <tr>\n",
       "      <th>13</th>\n",
       "      <td>v2</td>\n",
       "      <td>Clus-Replica</td>\n",
       "      <td>651.590909</td>\n",
       "      <td>903.181818</td>\n",
       "      <td>651.590909</td>\n",
       "      <td>24.498616</td>\n",
       "      <td>68.181818</td>\n",
       "      <td>59.090909</td>\n",
       "      <td>50.000000</td>\n",
       "      <td>45.454545</td>\n",
       "      <td>31.818182</td>\n",
       "    </tr>\n",
       "    <tr>\n",
       "      <th>14</th>\n",
       "      <td>v3</td>\n",
       "      <td>Clus-Replica</td>\n",
       "      <td>493.283333</td>\n",
       "      <td>548.103448</td>\n",
       "      <td>486.982759</td>\n",
       "      <td>16.542204</td>\n",
       "      <td>62.068966</td>\n",
       "      <td>58.620690</td>\n",
       "      <td>48.275862</td>\n",
       "      <td>41.379310</td>\n",
       "      <td>27.586207</td>\n",
       "    </tr>\n",
       "    <tr>\n",
       "      <th>15</th>\n",
       "      <td>v4</td>\n",
       "      <td>Clus-Replica</td>\n",
       "      <td>542.000000</td>\n",
       "      <td>589.266667</td>\n",
       "      <td>507.233333</td>\n",
       "      <td>17.710523</td>\n",
       "      <td>70.000000</td>\n",
       "      <td>63.333333</td>\n",
       "      <td>60.000000</td>\n",
       "      <td>50.000000</td>\n",
       "      <td>33.333333</td>\n",
       "    </tr>\n",
       "    <tr>\n",
       "      <th>16</th>\n",
       "      <td>v5</td>\n",
       "      <td>Clus-Replica</td>\n",
       "      <td>384.931034</td>\n",
       "      <td>369.862069</td>\n",
       "      <td>384.931034</td>\n",
       "      <td>23.655336</td>\n",
       "      <td>72.413793</td>\n",
       "      <td>65.517241</td>\n",
       "      <td>58.620690</td>\n",
       "      <td>48.275862</td>\n",
       "      <td>41.379310</td>\n",
       "    </tr>\n",
       "    <tr>\n",
       "      <th>17</th>\n",
       "      <td>v6</td>\n",
       "      <td>Clus-Replica</td>\n",
       "      <td>662.075000</td>\n",
       "      <td>524.611111</td>\n",
       "      <td>445.750000</td>\n",
       "      <td>26.089203</td>\n",
       "      <td>72.222222</td>\n",
       "      <td>55.555556</td>\n",
       "      <td>55.555556</td>\n",
       "      <td>55.555556</td>\n",
       "      <td>50.000000</td>\n",
       "    </tr>\n",
       "    <tr>\n",
       "      <th>18</th>\n",
       "      <td>v7</td>\n",
       "      <td>Clus-Replica</td>\n",
       "      <td>817.473684</td>\n",
       "      <td>1234.947368</td>\n",
       "      <td>817.473684</td>\n",
       "      <td>28.510697</td>\n",
       "      <td>57.894737</td>\n",
       "      <td>52.631579</td>\n",
       "      <td>52.631579</td>\n",
       "      <td>47.368421</td>\n",
       "      <td>42.105263</td>\n",
       "    </tr>\n",
       "    <tr>\n",
       "      <th>19</th>\n",
       "      <td>v8</td>\n",
       "      <td>Clus-Replica</td>\n",
       "      <td>695.693548</td>\n",
       "      <td>710.033333</td>\n",
       "      <td>558.150000</td>\n",
       "      <td>19.991863</td>\n",
       "      <td>60.000000</td>\n",
       "      <td>50.000000</td>\n",
       "      <td>43.333333</td>\n",
       "      <td>36.666667</td>\n",
       "      <td>30.000000</td>\n",
       "    </tr>\n",
       "    <tr>\n",
       "      <th>20</th>\n",
       "      <td>v9</td>\n",
       "      <td>Clus-Replica</td>\n",
       "      <td>522.578947</td>\n",
       "      <td>645.157895</td>\n",
       "      <td>522.578947</td>\n",
       "      <td>34.213729</td>\n",
       "      <td>73.684211</td>\n",
       "      <td>63.157895</td>\n",
       "      <td>57.894737</td>\n",
       "      <td>57.894737</td>\n",
       "      <td>42.105263</td>\n",
       "    </tr>\n",
       "    <tr>\n",
       "      <th>21</th>\n",
       "      <td>v10</td>\n",
       "      <td>Clus-Replica</td>\n",
       "      <td>606.979167</td>\n",
       "      <td>745.500000</td>\n",
       "      <td>572.113636</td>\n",
       "      <td>36.911821</td>\n",
       "      <td>77.272727</td>\n",
       "      <td>72.727273</td>\n",
       "      <td>63.636364</td>\n",
       "      <td>54.545455</td>\n",
       "      <td>45.454545</td>\n",
       "    </tr>\n",
       "  </tbody>\n",
       "</table>\n",
       "</div>"
      ],
      "text/plain": [
       "   version         model          MP          MMP  mean_median_position  \\\n",
       "0       v0  Mini-Replica  782.625000  1247.526316            802.815789   \n",
       "1       v1  Mini-Replica  566.000000   732.000000            566.000000   \n",
       "2       v2  Mini-Replica  564.954545   729.909091            564.954545   \n",
       "3       v3  Mini-Replica  445.050000   425.689655            421.741379   \n",
       "4       v4  Mini-Replica  533.145161   674.166667            546.983333   \n",
       "5       v5  Mini-Replica  343.431034   286.862069            343.431034   \n",
       "6       v6  Mini-Replica  459.275000   408.277778            441.250000   \n",
       "7       v7  Mini-Replica  835.500000  1271.000000            835.500000   \n",
       "8       v8  Mini-Replica  538.451613   585.466667            528.266667   \n",
       "9       v9  Mini-Replica  433.500000   467.000000            433.500000   \n",
       "10     v10  Mini-Replica  558.520833   780.772727            585.795455   \n",
       "11      v0  Clus-Replica  664.000000   997.473684            678.105263   \n",
       "12      v1  Clus-Replica  422.200000   444.400000            422.200000   \n",
       "13      v2  Clus-Replica  651.590909   903.181818            651.590909   \n",
       "14      v3  Clus-Replica  493.283333   548.103448            486.982759   \n",
       "15      v4  Clus-Replica  542.000000   589.266667            507.233333   \n",
       "16      v5  Clus-Replica  384.931034   369.862069            384.931034   \n",
       "17      v6  Clus-Replica  662.075000   524.611111            445.750000   \n",
       "18      v7  Clus-Replica  817.473684  1234.947368            817.473684   \n",
       "19      v8  Clus-Replica  695.693548   710.033333            558.150000   \n",
       "20      v9  Clus-Replica  522.578947   645.157895            522.578947   \n",
       "21     v10  Clus-Replica  606.979167   745.500000            572.113636   \n",
       "\n",
       "          MAP      R@400      R@200      R@100       R@50       R@20  \n",
       "0   42.796169  63.157895  63.157895  57.894737  52.631579  47.368421  \n",
       "1   24.534887  76.666667  56.666667  46.666667  33.333333  26.666667  \n",
       "2   28.313360  63.636364  59.090909  50.000000  50.000000  50.000000  \n",
       "3   13.911420  72.413793  51.724138  41.379310  31.034483  24.137931  \n",
       "4   10.060917  70.000000  50.000000  36.666667  26.666667  20.000000  \n",
       "5   31.862723  79.310345  58.620690  51.724138  41.379310  37.931034  \n",
       "6   34.946418  72.222222  72.222222  72.222222  66.666667  50.000000  \n",
       "7   28.069821  68.421053  63.157895  52.631579  52.631579  47.368421  \n",
       "8   16.062069  63.333333  43.333333  40.000000  30.000000  26.666667  \n",
       "9   42.331568  78.947368  73.684211  57.894737  52.631579  52.631579  \n",
       "10  43.111744  72.727273  72.727273  59.090909  59.090909  50.000000  \n",
       "11  49.256222  73.684211  73.684211  68.421053  68.421053  68.421053  \n",
       "12  23.507132  70.000000  63.333333  60.000000  53.333333  40.000000  \n",
       "13  24.498616  68.181818  59.090909  50.000000  45.454545  31.818182  \n",
       "14  16.542204  62.068966  58.620690  48.275862  41.379310  27.586207  \n",
       "15  17.710523  70.000000  63.333333  60.000000  50.000000  33.333333  \n",
       "16  23.655336  72.413793  65.517241  58.620690  48.275862  41.379310  \n",
       "17  26.089203  72.222222  55.555556  55.555556  55.555556  50.000000  \n",
       "18  28.510697  57.894737  52.631579  52.631579  47.368421  42.105263  \n",
       "19  19.991863  60.000000  50.000000  43.333333  36.666667  30.000000  \n",
       "20  34.213729  73.684211  63.157895  57.894737  57.894737  42.105263  \n",
       "21  36.911821  77.272727  72.727273  63.636364  54.545455  45.454545  "
      ]
     },
     "execution_count": 13,
     "metadata": {},
     "output_type": "execute_result"
    }
   ],
   "source": [
    "val_metrics_df"
   ]
  },
  {
   "cell_type": "code",
   "execution_count": 14,
   "id": "f57c5dea-ef5f-40b5-9ad8-1518a746ad05",
   "metadata": {},
   "outputs": [
    {
     "data": {
      "text/html": [
       "<div>\n",
       "<style scoped>\n",
       "    .dataframe tbody tr th:only-of-type {\n",
       "        vertical-align: middle;\n",
       "    }\n",
       "\n",
       "    .dataframe tbody tr th {\n",
       "        vertical-align: top;\n",
       "    }\n",
       "\n",
       "    .dataframe thead th {\n",
       "        text-align: right;\n",
       "    }\n",
       "</style>\n",
       "<table border=\"1\" class=\"dataframe\">\n",
       "  <thead>\n",
       "    <tr style=\"text-align: right;\">\n",
       "      <th></th>\n",
       "      <th>version</th>\n",
       "      <th>model</th>\n",
       "      <th>MP</th>\n",
       "      <th>MMP</th>\n",
       "      <th>mean_median_position</th>\n",
       "      <th>MAP</th>\n",
       "      <th>R@400</th>\n",
       "      <th>R@200</th>\n",
       "      <th>R@100</th>\n",
       "      <th>R@50</th>\n",
       "      <th>R@20</th>\n",
       "    </tr>\n",
       "  </thead>\n",
       "  <tbody>\n",
       "    <tr>\n",
       "      <th>0</th>\n",
       "      <td>v0</td>\n",
       "      <td>Mini-Replica</td>\n",
       "      <td>267.150000</td>\n",
       "      <td>118.736842</td>\n",
       "      <td>275.000000</td>\n",
       "      <td>44.440088</td>\n",
       "      <td>78.947368</td>\n",
       "      <td>78.947368</td>\n",
       "      <td>63.157895</td>\n",
       "      <td>63.157895</td>\n",
       "      <td>63.157895</td>\n",
       "    </tr>\n",
       "    <tr>\n",
       "      <th>1</th>\n",
       "      <td>v1</td>\n",
       "      <td>Mini-Replica</td>\n",
       "      <td>419.071429</td>\n",
       "      <td>438.142857</td>\n",
       "      <td>419.071429</td>\n",
       "      <td>30.037969</td>\n",
       "      <td>80.952381</td>\n",
       "      <td>80.952381</td>\n",
       "      <td>76.190476</td>\n",
       "      <td>76.190476</td>\n",
       "      <td>66.666667</td>\n",
       "    </tr>\n",
       "    <tr>\n",
       "      <th>2</th>\n",
       "      <td>v2</td>\n",
       "      <td>Mini-Replica</td>\n",
       "      <td>473.553571</td>\n",
       "      <td>551.444444</td>\n",
       "      <td>486.722222</td>\n",
       "      <td>12.085234</td>\n",
       "      <td>74.074074</td>\n",
       "      <td>51.851852</td>\n",
       "      <td>40.740741</td>\n",
       "      <td>25.925926</td>\n",
       "      <td>18.518519</td>\n",
       "    </tr>\n",
       "    <tr>\n",
       "      <th>3</th>\n",
       "      <td>v3</td>\n",
       "      <td>Mini-Replica</td>\n",
       "      <td>579.222222</td>\n",
       "      <td>665.120000</td>\n",
       "      <td>587.080000</td>\n",
       "      <td>23.532902</td>\n",
       "      <td>60.000000</td>\n",
       "      <td>56.000000</td>\n",
       "      <td>44.000000</td>\n",
       "      <td>44.000000</td>\n",
       "      <td>36.000000</td>\n",
       "    </tr>\n",
       "    <tr>\n",
       "      <th>4</th>\n",
       "      <td>v4</td>\n",
       "      <td>Mini-Replica</td>\n",
       "      <td>459.261905</td>\n",
       "      <td>426.550000</td>\n",
       "      <td>426.175000</td>\n",
       "      <td>36.351535</td>\n",
       "      <td>65.000000</td>\n",
       "      <td>65.000000</td>\n",
       "      <td>55.000000</td>\n",
       "      <td>55.000000</td>\n",
       "      <td>40.000000</td>\n",
       "    </tr>\n",
       "    <tr>\n",
       "      <th>5</th>\n",
       "      <td>v5</td>\n",
       "      <td>Mini-Replica</td>\n",
       "      <td>269.925000</td>\n",
       "      <td>124.578947</td>\n",
       "      <td>277.921053</td>\n",
       "      <td>23.759488</td>\n",
       "      <td>84.210526</td>\n",
       "      <td>84.210526</td>\n",
       "      <td>73.684211</td>\n",
       "      <td>73.684211</td>\n",
       "      <td>63.157895</td>\n",
       "    </tr>\n",
       "    <tr>\n",
       "      <th>6</th>\n",
       "      <td>v6</td>\n",
       "      <td>Mini-Replica</td>\n",
       "      <td>430.727273</td>\n",
       "      <td>461.454545</td>\n",
       "      <td>430.727273</td>\n",
       "      <td>27.557347</td>\n",
       "      <td>75.757576</td>\n",
       "      <td>54.545455</td>\n",
       "      <td>48.484848</td>\n",
       "      <td>39.393939</td>\n",
       "      <td>36.363636</td>\n",
       "    </tr>\n",
       "    <tr>\n",
       "      <th>7</th>\n",
       "      <td>v7</td>\n",
       "      <td>Mini-Replica</td>\n",
       "      <td>720.547619</td>\n",
       "      <td>991.631579</td>\n",
       "      <td>730.973684</td>\n",
       "      <td>42.813843</td>\n",
       "      <td>63.157895</td>\n",
       "      <td>52.631579</td>\n",
       "      <td>52.631579</td>\n",
       "      <td>52.631579</td>\n",
       "      <td>47.368421</td>\n",
       "    </tr>\n",
       "    <tr>\n",
       "      <th>8</th>\n",
       "      <td>v8</td>\n",
       "      <td>Mini-Replica</td>\n",
       "      <td>337.555556</td>\n",
       "      <td>275.111111</td>\n",
       "      <td>337.555556</td>\n",
       "      <td>35.985550</td>\n",
       "      <td>83.333333</td>\n",
       "      <td>83.333333</td>\n",
       "      <td>77.777778</td>\n",
       "      <td>72.222222</td>\n",
       "      <td>66.666667</td>\n",
       "    </tr>\n",
       "    <tr>\n",
       "      <th>9</th>\n",
       "      <td>v9</td>\n",
       "      <td>Mini-Replica</td>\n",
       "      <td>259.656250</td>\n",
       "      <td>119.312500</td>\n",
       "      <td>259.656250</td>\n",
       "      <td>49.288463</td>\n",
       "      <td>87.500000</td>\n",
       "      <td>75.000000</td>\n",
       "      <td>75.000000</td>\n",
       "      <td>75.000000</td>\n",
       "      <td>62.500000</td>\n",
       "    </tr>\n",
       "    <tr>\n",
       "      <th>10</th>\n",
       "      <td>v10</td>\n",
       "      <td>Mini-Replica</td>\n",
       "      <td>406.906250</td>\n",
       "      <td>413.812500</td>\n",
       "      <td>406.906250</td>\n",
       "      <td>33.506180</td>\n",
       "      <td>81.250000</td>\n",
       "      <td>81.250000</td>\n",
       "      <td>68.750000</td>\n",
       "      <td>62.500000</td>\n",
       "      <td>50.000000</td>\n",
       "    </tr>\n",
       "    <tr>\n",
       "      <th>11</th>\n",
       "      <td>v0</td>\n",
       "      <td>Clus-Replica</td>\n",
       "      <td>407.500000</td>\n",
       "      <td>251.263158</td>\n",
       "      <td>345.526316</td>\n",
       "      <td>33.579642</td>\n",
       "      <td>78.947368</td>\n",
       "      <td>68.421053</td>\n",
       "      <td>63.157895</td>\n",
       "      <td>57.894737</td>\n",
       "      <td>52.631579</td>\n",
       "    </tr>\n",
       "    <tr>\n",
       "      <th>12</th>\n",
       "      <td>v1</td>\n",
       "      <td>Clus-Replica</td>\n",
       "      <td>637.357143</td>\n",
       "      <td>874.714286</td>\n",
       "      <td>637.357143</td>\n",
       "      <td>26.183629</td>\n",
       "      <td>71.428571</td>\n",
       "      <td>66.666667</td>\n",
       "      <td>61.904762</td>\n",
       "      <td>57.142857</td>\n",
       "      <td>47.619048</td>\n",
       "    </tr>\n",
       "    <tr>\n",
       "      <th>13</th>\n",
       "      <td>v2</td>\n",
       "      <td>Clus-Replica</td>\n",
       "      <td>457.267857</td>\n",
       "      <td>403.000000</td>\n",
       "      <td>415.500000</td>\n",
       "      <td>20.922114</td>\n",
       "      <td>66.666667</td>\n",
       "      <td>62.962963</td>\n",
       "      <td>55.555556</td>\n",
       "      <td>48.148148</td>\n",
       "      <td>37.037037</td>\n",
       "    </tr>\n",
       "    <tr>\n",
       "      <th>14</th>\n",
       "      <td>v3</td>\n",
       "      <td>Clus-Replica</td>\n",
       "      <td>724.888889</td>\n",
       "      <td>615.440000</td>\n",
       "      <td>526.600000</td>\n",
       "      <td>28.017871</td>\n",
       "      <td>72.000000</td>\n",
       "      <td>60.000000</td>\n",
       "      <td>56.000000</td>\n",
       "      <td>48.000000</td>\n",
       "      <td>36.000000</td>\n",
       "    </tr>\n",
       "    <tr>\n",
       "      <th>15</th>\n",
       "      <td>v4</td>\n",
       "      <td>Clus-Replica</td>\n",
       "      <td>466.380952</td>\n",
       "      <td>474.300000</td>\n",
       "      <td>455.900000</td>\n",
       "      <td>28.399329</td>\n",
       "      <td>65.000000</td>\n",
       "      <td>65.000000</td>\n",
       "      <td>60.000000</td>\n",
       "      <td>55.000000</td>\n",
       "      <td>45.000000</td>\n",
       "    </tr>\n",
       "    <tr>\n",
       "      <th>16</th>\n",
       "      <td>v5</td>\n",
       "      <td>Clus-Replica</td>\n",
       "      <td>489.375000</td>\n",
       "      <td>423.631579</td>\n",
       "      <td>431.710526</td>\n",
       "      <td>38.186381</td>\n",
       "      <td>78.947368</td>\n",
       "      <td>63.157895</td>\n",
       "      <td>63.157895</td>\n",
       "      <td>63.157895</td>\n",
       "      <td>52.631579</td>\n",
       "    </tr>\n",
       "    <tr>\n",
       "      <th>17</th>\n",
       "      <td>v6</td>\n",
       "      <td>Clus-Replica</td>\n",
       "      <td>489.848485</td>\n",
       "      <td>579.696970</td>\n",
       "      <td>489.848485</td>\n",
       "      <td>24.367073</td>\n",
       "      <td>75.757576</td>\n",
       "      <td>66.666667</td>\n",
       "      <td>54.545455</td>\n",
       "      <td>42.424242</td>\n",
       "      <td>33.333333</td>\n",
       "    </tr>\n",
       "    <tr>\n",
       "      <th>18</th>\n",
       "      <td>v7</td>\n",
       "      <td>Clus-Replica</td>\n",
       "      <td>777.642857</td>\n",
       "      <td>801.105263</td>\n",
       "      <td>584.868421</td>\n",
       "      <td>40.677615</td>\n",
       "      <td>73.684211</td>\n",
       "      <td>63.157895</td>\n",
       "      <td>63.157895</td>\n",
       "      <td>63.157895</td>\n",
       "      <td>57.894737</td>\n",
       "    </tr>\n",
       "    <tr>\n",
       "      <th>19</th>\n",
       "      <td>v8</td>\n",
       "      <td>Clus-Replica</td>\n",
       "      <td>538.666667</td>\n",
       "      <td>677.333333</td>\n",
       "      <td>538.666667</td>\n",
       "      <td>34.730540</td>\n",
       "      <td>88.888889</td>\n",
       "      <td>72.222222</td>\n",
       "      <td>72.222222</td>\n",
       "      <td>66.666667</td>\n",
       "      <td>55.555556</td>\n",
       "    </tr>\n",
       "    <tr>\n",
       "      <th>20</th>\n",
       "      <td>v9</td>\n",
       "      <td>Clus-Replica</td>\n",
       "      <td>291.156250</td>\n",
       "      <td>182.312500</td>\n",
       "      <td>291.156250</td>\n",
       "      <td>39.322176</td>\n",
       "      <td>93.750000</td>\n",
       "      <td>81.250000</td>\n",
       "      <td>75.000000</td>\n",
       "      <td>68.750000</td>\n",
       "      <td>62.500000</td>\n",
       "    </tr>\n",
       "    <tr>\n",
       "      <th>21</th>\n",
       "      <td>v10</td>\n",
       "      <td>Clus-Replica</td>\n",
       "      <td>511.000000</td>\n",
       "      <td>622.000000</td>\n",
       "      <td>511.000000</td>\n",
       "      <td>49.611913</td>\n",
       "      <td>75.000000</td>\n",
       "      <td>68.750000</td>\n",
       "      <td>68.750000</td>\n",
       "      <td>68.750000</td>\n",
       "      <td>62.500000</td>\n",
       "    </tr>\n",
       "  </tbody>\n",
       "</table>\n",
       "</div>"
      ],
      "text/plain": [
       "   version         model          MP         MMP  mean_median_position  \\\n",
       "0       v0  Mini-Replica  267.150000  118.736842            275.000000   \n",
       "1       v1  Mini-Replica  419.071429  438.142857            419.071429   \n",
       "2       v2  Mini-Replica  473.553571  551.444444            486.722222   \n",
       "3       v3  Mini-Replica  579.222222  665.120000            587.080000   \n",
       "4       v4  Mini-Replica  459.261905  426.550000            426.175000   \n",
       "5       v5  Mini-Replica  269.925000  124.578947            277.921053   \n",
       "6       v6  Mini-Replica  430.727273  461.454545            430.727273   \n",
       "7       v7  Mini-Replica  720.547619  991.631579            730.973684   \n",
       "8       v8  Mini-Replica  337.555556  275.111111            337.555556   \n",
       "9       v9  Mini-Replica  259.656250  119.312500            259.656250   \n",
       "10     v10  Mini-Replica  406.906250  413.812500            406.906250   \n",
       "11      v0  Clus-Replica  407.500000  251.263158            345.526316   \n",
       "12      v1  Clus-Replica  637.357143  874.714286            637.357143   \n",
       "13      v2  Clus-Replica  457.267857  403.000000            415.500000   \n",
       "14      v3  Clus-Replica  724.888889  615.440000            526.600000   \n",
       "15      v4  Clus-Replica  466.380952  474.300000            455.900000   \n",
       "16      v5  Clus-Replica  489.375000  423.631579            431.710526   \n",
       "17      v6  Clus-Replica  489.848485  579.696970            489.848485   \n",
       "18      v7  Clus-Replica  777.642857  801.105263            584.868421   \n",
       "19      v8  Clus-Replica  538.666667  677.333333            538.666667   \n",
       "20      v9  Clus-Replica  291.156250  182.312500            291.156250   \n",
       "21     v10  Clus-Replica  511.000000  622.000000            511.000000   \n",
       "\n",
       "          MAP      R@400      R@200      R@100       R@50       R@20  \n",
       "0   44.440088  78.947368  78.947368  63.157895  63.157895  63.157895  \n",
       "1   30.037969  80.952381  80.952381  76.190476  76.190476  66.666667  \n",
       "2   12.085234  74.074074  51.851852  40.740741  25.925926  18.518519  \n",
       "3   23.532902  60.000000  56.000000  44.000000  44.000000  36.000000  \n",
       "4   36.351535  65.000000  65.000000  55.000000  55.000000  40.000000  \n",
       "5   23.759488  84.210526  84.210526  73.684211  73.684211  63.157895  \n",
       "6   27.557347  75.757576  54.545455  48.484848  39.393939  36.363636  \n",
       "7   42.813843  63.157895  52.631579  52.631579  52.631579  47.368421  \n",
       "8   35.985550  83.333333  83.333333  77.777778  72.222222  66.666667  \n",
       "9   49.288463  87.500000  75.000000  75.000000  75.000000  62.500000  \n",
       "10  33.506180  81.250000  81.250000  68.750000  62.500000  50.000000  \n",
       "11  33.579642  78.947368  68.421053  63.157895  57.894737  52.631579  \n",
       "12  26.183629  71.428571  66.666667  61.904762  57.142857  47.619048  \n",
       "13  20.922114  66.666667  62.962963  55.555556  48.148148  37.037037  \n",
       "14  28.017871  72.000000  60.000000  56.000000  48.000000  36.000000  \n",
       "15  28.399329  65.000000  65.000000  60.000000  55.000000  45.000000  \n",
       "16  38.186381  78.947368  63.157895  63.157895  63.157895  52.631579  \n",
       "17  24.367073  75.757576  66.666667  54.545455  42.424242  33.333333  \n",
       "18  40.677615  73.684211  63.157895  63.157895  63.157895  57.894737  \n",
       "19  34.730540  88.888889  72.222222  72.222222  66.666667  55.555556  \n",
       "20  39.322176  93.750000  81.250000  75.000000  68.750000  62.500000  \n",
       "21  49.611913  75.000000  68.750000  68.750000  68.750000  62.500000  "
      ]
     },
     "execution_count": 14,
     "metadata": {},
     "output_type": "execute_result"
    }
   ],
   "source": [
    "test_metrics_df"
   ]
  },
  {
   "cell_type": "code",
   "execution_count": 15,
   "id": "a9999eeb-4d08-485b-8ec6-cd8b087dbf5d",
   "metadata": {},
   "outputs": [
    {
     "data": {
      "text/html": [
       "<div>\n",
       "<style scoped>\n",
       "    .dataframe tbody tr th:only-of-type {\n",
       "        vertical-align: middle;\n",
       "    }\n",
       "\n",
       "    .dataframe tbody tr th {\n",
       "        vertical-align: top;\n",
       "    }\n",
       "\n",
       "    .dataframe thead th {\n",
       "        text-align: right;\n",
       "    }\n",
       "</style>\n",
       "<table border=\"1\" class=\"dataframe\">\n",
       "  <thead>\n",
       "    <tr style=\"text-align: right;\">\n",
       "      <th></th>\n",
       "      <th>version</th>\n",
       "      <th>model</th>\n",
       "      <th>MP</th>\n",
       "      <th>MMP</th>\n",
       "      <th>mean_median_position</th>\n",
       "      <th>MAP</th>\n",
       "      <th>R@400</th>\n",
       "      <th>R@200</th>\n",
       "      <th>R@100</th>\n",
       "      <th>R@50</th>\n",
       "      <th>R@20</th>\n",
       "    </tr>\n",
       "  </thead>\n",
       "  <tbody>\n",
       "    <tr>\n",
       "      <th>0</th>\n",
       "      <td>v0</td>\n",
       "      <td>Mini-Replica</td>\n",
       "      <td>524.887500</td>\n",
       "      <td>683.131579</td>\n",
       "      <td>538.907895</td>\n",
       "      <td>43.618128</td>\n",
       "      <td>71.052632</td>\n",
       "      <td>71.052632</td>\n",
       "      <td>60.526316</td>\n",
       "      <td>57.894737</td>\n",
       "      <td>55.263158</td>\n",
       "    </tr>\n",
       "    <tr>\n",
       "      <th>1</th>\n",
       "      <td>v1</td>\n",
       "      <td>Mini-Replica</td>\n",
       "      <td>505.500000</td>\n",
       "      <td>611.000000</td>\n",
       "      <td>505.500000</td>\n",
       "      <td>26.800862</td>\n",
       "      <td>78.431373</td>\n",
       "      <td>66.666667</td>\n",
       "      <td>58.823529</td>\n",
       "      <td>50.980392</td>\n",
       "      <td>43.137255</td>\n",
       "    </tr>\n",
       "    <tr>\n",
       "      <th>2</th>\n",
       "      <td>v2</td>\n",
       "      <td>Mini-Replica</td>\n",
       "      <td>513.770000</td>\n",
       "      <td>631.571429</td>\n",
       "      <td>521.846939</td>\n",
       "      <td>19.371331</td>\n",
       "      <td>69.387755</td>\n",
       "      <td>55.102041</td>\n",
       "      <td>44.897959</td>\n",
       "      <td>36.734694</td>\n",
       "      <td>32.653061</td>\n",
       "    </tr>\n",
       "    <tr>\n",
       "      <th>3</th>\n",
       "      <td>v3</td>\n",
       "      <td>Mini-Replica</td>\n",
       "      <td>508.605263</td>\n",
       "      <td>536.537037</td>\n",
       "      <td>498.287037</td>\n",
       "      <td>18.365810</td>\n",
       "      <td>66.666667</td>\n",
       "      <td>53.703704</td>\n",
       "      <td>42.592593</td>\n",
       "      <td>37.037037</td>\n",
       "      <td>29.629630</td>\n",
       "    </tr>\n",
       "    <tr>\n",
       "      <th>4</th>\n",
       "      <td>v4</td>\n",
       "      <td>Mini-Replica</td>\n",
       "      <td>503.307692</td>\n",
       "      <td>575.120000</td>\n",
       "      <td>498.660000</td>\n",
       "      <td>20.577164</td>\n",
       "      <td>68.000000</td>\n",
       "      <td>56.000000</td>\n",
       "      <td>44.000000</td>\n",
       "      <td>38.000000</td>\n",
       "      <td>28.000000</td>\n",
       "    </tr>\n",
       "    <tr>\n",
       "      <th>5</th>\n",
       "      <td>v5</td>\n",
       "      <td>Mini-Replica</td>\n",
       "      <td>313.428571</td>\n",
       "      <td>222.625000</td>\n",
       "      <td>317.500000</td>\n",
       "      <td>28.655193</td>\n",
       "      <td>81.250000</td>\n",
       "      <td>68.750000</td>\n",
       "      <td>60.416667</td>\n",
       "      <td>54.166667</td>\n",
       "      <td>47.916667</td>\n",
       "    </tr>\n",
       "    <tr>\n",
       "      <th>6</th>\n",
       "      <td>v6</td>\n",
       "      <td>Mini-Replica</td>\n",
       "      <td>441.500000</td>\n",
       "      <td>442.686275</td>\n",
       "      <td>434.441176</td>\n",
       "      <td>30.165254</td>\n",
       "      <td>74.509804</td>\n",
       "      <td>60.784314</td>\n",
       "      <td>56.862745</td>\n",
       "      <td>49.019608</td>\n",
       "      <td>41.176471</td>\n",
       "    </tr>\n",
       "    <tr>\n",
       "      <th>7</th>\n",
       "      <td>v7</td>\n",
       "      <td>Mini-Replica</td>\n",
       "      <td>775.150000</td>\n",
       "      <td>1131.315789</td>\n",
       "      <td>783.236842</td>\n",
       "      <td>35.441832</td>\n",
       "      <td>65.789474</td>\n",
       "      <td>57.894737</td>\n",
       "      <td>52.631579</td>\n",
       "      <td>52.631579</td>\n",
       "      <td>47.368421</td>\n",
       "    </tr>\n",
       "    <tr>\n",
       "      <th>8</th>\n",
       "      <td>v8</td>\n",
       "      <td>Mini-Replica</td>\n",
       "      <td>464.653061</td>\n",
       "      <td>469.083333</td>\n",
       "      <td>456.750000</td>\n",
       "      <td>23.533374</td>\n",
       "      <td>70.833333</td>\n",
       "      <td>58.333333</td>\n",
       "      <td>54.166667</td>\n",
       "      <td>45.833333</td>\n",
       "      <td>41.666667</td>\n",
       "    </tr>\n",
       "    <tr>\n",
       "      <th>9</th>\n",
       "      <td>v9</td>\n",
       "      <td>Mini-Replica</td>\n",
       "      <td>354.028571</td>\n",
       "      <td>308.057143</td>\n",
       "      <td>354.028571</td>\n",
       "      <td>45.511863</td>\n",
       "      <td>82.857143</td>\n",
       "      <td>74.285714</td>\n",
       "      <td>65.714286</td>\n",
       "      <td>62.857143</td>\n",
       "      <td>57.142857</td>\n",
       "    </tr>\n",
       "    <tr>\n",
       "      <th>10</th>\n",
       "      <td>v10</td>\n",
       "      <td>Mini-Replica</td>\n",
       "      <td>497.875000</td>\n",
       "      <td>626.263158</td>\n",
       "      <td>510.473684</td>\n",
       "      <td>39.067296</td>\n",
       "      <td>76.315789</td>\n",
       "      <td>76.315789</td>\n",
       "      <td>63.157895</td>\n",
       "      <td>60.526316</td>\n",
       "      <td>50.000000</td>\n",
       "    </tr>\n",
       "    <tr>\n",
       "      <th>11</th>\n",
       "      <td>v0</td>\n",
       "      <td>Clus-Replica</td>\n",
       "      <td>535.750000</td>\n",
       "      <td>624.368421</td>\n",
       "      <td>511.815789</td>\n",
       "      <td>41.417932</td>\n",
       "      <td>76.315789</td>\n",
       "      <td>71.052632</td>\n",
       "      <td>65.789474</td>\n",
       "      <td>63.157895</td>\n",
       "      <td>60.526316</td>\n",
       "    </tr>\n",
       "    <tr>\n",
       "      <th>12</th>\n",
       "      <td>v1</td>\n",
       "      <td>Clus-Replica</td>\n",
       "      <td>510.794118</td>\n",
       "      <td>621.588235</td>\n",
       "      <td>510.794118</td>\n",
       "      <td>24.609219</td>\n",
       "      <td>70.588235</td>\n",
       "      <td>64.705882</td>\n",
       "      <td>60.784314</td>\n",
       "      <td>54.901961</td>\n",
       "      <td>43.137255</td>\n",
       "    </tr>\n",
       "    <tr>\n",
       "      <th>13</th>\n",
       "      <td>v2</td>\n",
       "      <td>Clus-Replica</td>\n",
       "      <td>542.770000</td>\n",
       "      <td>627.571429</td>\n",
       "      <td>521.500000</td>\n",
       "      <td>22.527890</td>\n",
       "      <td>67.346939</td>\n",
       "      <td>61.224490</td>\n",
       "      <td>53.061224</td>\n",
       "      <td>46.938776</td>\n",
       "      <td>34.693878</td>\n",
       "    </tr>\n",
       "    <tr>\n",
       "      <th>14</th>\n",
       "      <td>v3</td>\n",
       "      <td>Clus-Replica</td>\n",
       "      <td>602.991228</td>\n",
       "      <td>579.277778</td>\n",
       "      <td>505.324074</td>\n",
       "      <td>21.855013</td>\n",
       "      <td>66.666667</td>\n",
       "      <td>59.259259</td>\n",
       "      <td>51.851852</td>\n",
       "      <td>44.444444</td>\n",
       "      <td>31.481481</td>\n",
       "    </tr>\n",
       "    <tr>\n",
       "      <th>15</th>\n",
       "      <td>v4</td>\n",
       "      <td>Clus-Replica</td>\n",
       "      <td>511.461538</td>\n",
       "      <td>543.280000</td>\n",
       "      <td>486.700000</td>\n",
       "      <td>21.986045</td>\n",
       "      <td>68.000000</td>\n",
       "      <td>64.000000</td>\n",
       "      <td>60.000000</td>\n",
       "      <td>52.000000</td>\n",
       "      <td>38.000000</td>\n",
       "    </tr>\n",
       "    <tr>\n",
       "      <th>16</th>\n",
       "      <td>v5</td>\n",
       "      <td>Clus-Replica</td>\n",
       "      <td>427.561224</td>\n",
       "      <td>391.145833</td>\n",
       "      <td>403.447917</td>\n",
       "      <td>29.407208</td>\n",
       "      <td>75.000000</td>\n",
       "      <td>64.583333</td>\n",
       "      <td>60.416667</td>\n",
       "      <td>54.166667</td>\n",
       "      <td>45.833333</td>\n",
       "    </tr>\n",
       "    <tr>\n",
       "      <th>17</th>\n",
       "      <td>v6</td>\n",
       "      <td>Clus-Replica</td>\n",
       "      <td>554.839623</td>\n",
       "      <td>560.254902</td>\n",
       "      <td>474.284314</td>\n",
       "      <td>24.974883</td>\n",
       "      <td>74.509804</td>\n",
       "      <td>62.745098</td>\n",
       "      <td>54.901961</td>\n",
       "      <td>47.058824</td>\n",
       "      <td>39.215686</td>\n",
       "    </tr>\n",
       "    <tr>\n",
       "      <th>18</th>\n",
       "      <td>v7</td>\n",
       "      <td>Clus-Replica</td>\n",
       "      <td>796.562500</td>\n",
       "      <td>1018.026316</td>\n",
       "      <td>701.171053</td>\n",
       "      <td>34.594156</td>\n",
       "      <td>65.789474</td>\n",
       "      <td>57.894737</td>\n",
       "      <td>57.894737</td>\n",
       "      <td>55.263158</td>\n",
       "      <td>50.000000</td>\n",
       "    </tr>\n",
       "    <tr>\n",
       "      <th>19</th>\n",
       "      <td>v8</td>\n",
       "      <td>Clus-Replica</td>\n",
       "      <td>638.010204</td>\n",
       "      <td>697.770833</td>\n",
       "      <td>550.843750</td>\n",
       "      <td>25.518867</td>\n",
       "      <td>70.833333</td>\n",
       "      <td>58.333333</td>\n",
       "      <td>54.166667</td>\n",
       "      <td>47.916667</td>\n",
       "      <td>39.583333</td>\n",
       "    </tr>\n",
       "    <tr>\n",
       "      <th>20</th>\n",
       "      <td>v9</td>\n",
       "      <td>Clus-Replica</td>\n",
       "      <td>416.785714</td>\n",
       "      <td>433.571429</td>\n",
       "      <td>416.785714</td>\n",
       "      <td>36.549019</td>\n",
       "      <td>82.857143</td>\n",
       "      <td>71.428571</td>\n",
       "      <td>65.714286</td>\n",
       "      <td>62.857143</td>\n",
       "      <td>51.428571</td>\n",
       "    </tr>\n",
       "    <tr>\n",
       "      <th>21</th>\n",
       "      <td>v10</td>\n",
       "      <td>Clus-Replica</td>\n",
       "      <td>568.587500</td>\n",
       "      <td>693.500000</td>\n",
       "      <td>546.381579</td>\n",
       "      <td>42.259228</td>\n",
       "      <td>76.315789</td>\n",
       "      <td>71.052632</td>\n",
       "      <td>65.789474</td>\n",
       "      <td>60.526316</td>\n",
       "      <td>52.631579</td>\n",
       "    </tr>\n",
       "  </tbody>\n",
       "</table>\n",
       "</div>"
      ],
      "text/plain": [
       "   version         model          MP          MMP  mean_median_position  \\\n",
       "0       v0  Mini-Replica  524.887500   683.131579            538.907895   \n",
       "1       v1  Mini-Replica  505.500000   611.000000            505.500000   \n",
       "2       v2  Mini-Replica  513.770000   631.571429            521.846939   \n",
       "3       v3  Mini-Replica  508.605263   536.537037            498.287037   \n",
       "4       v4  Mini-Replica  503.307692   575.120000            498.660000   \n",
       "5       v5  Mini-Replica  313.428571   222.625000            317.500000   \n",
       "6       v6  Mini-Replica  441.500000   442.686275            434.441176   \n",
       "7       v7  Mini-Replica  775.150000  1131.315789            783.236842   \n",
       "8       v8  Mini-Replica  464.653061   469.083333            456.750000   \n",
       "9       v9  Mini-Replica  354.028571   308.057143            354.028571   \n",
       "10     v10  Mini-Replica  497.875000   626.263158            510.473684   \n",
       "11      v0  Clus-Replica  535.750000   624.368421            511.815789   \n",
       "12      v1  Clus-Replica  510.794118   621.588235            510.794118   \n",
       "13      v2  Clus-Replica  542.770000   627.571429            521.500000   \n",
       "14      v3  Clus-Replica  602.991228   579.277778            505.324074   \n",
       "15      v4  Clus-Replica  511.461538   543.280000            486.700000   \n",
       "16      v5  Clus-Replica  427.561224   391.145833            403.447917   \n",
       "17      v6  Clus-Replica  554.839623   560.254902            474.284314   \n",
       "18      v7  Clus-Replica  796.562500  1018.026316            701.171053   \n",
       "19      v8  Clus-Replica  638.010204   697.770833            550.843750   \n",
       "20      v9  Clus-Replica  416.785714   433.571429            416.785714   \n",
       "21     v10  Clus-Replica  568.587500   693.500000            546.381579   \n",
       "\n",
       "          MAP      R@400      R@200      R@100       R@50       R@20  \n",
       "0   43.618128  71.052632  71.052632  60.526316  57.894737  55.263158  \n",
       "1   26.800862  78.431373  66.666667  58.823529  50.980392  43.137255  \n",
       "2   19.371331  69.387755  55.102041  44.897959  36.734694  32.653061  \n",
       "3   18.365810  66.666667  53.703704  42.592593  37.037037  29.629630  \n",
       "4   20.577164  68.000000  56.000000  44.000000  38.000000  28.000000  \n",
       "5   28.655193  81.250000  68.750000  60.416667  54.166667  47.916667  \n",
       "6   30.165254  74.509804  60.784314  56.862745  49.019608  41.176471  \n",
       "7   35.441832  65.789474  57.894737  52.631579  52.631579  47.368421  \n",
       "8   23.533374  70.833333  58.333333  54.166667  45.833333  41.666667  \n",
       "9   45.511863  82.857143  74.285714  65.714286  62.857143  57.142857  \n",
       "10  39.067296  76.315789  76.315789  63.157895  60.526316  50.000000  \n",
       "11  41.417932  76.315789  71.052632  65.789474  63.157895  60.526316  \n",
       "12  24.609219  70.588235  64.705882  60.784314  54.901961  43.137255  \n",
       "13  22.527890  67.346939  61.224490  53.061224  46.938776  34.693878  \n",
       "14  21.855013  66.666667  59.259259  51.851852  44.444444  31.481481  \n",
       "15  21.986045  68.000000  64.000000  60.000000  52.000000  38.000000  \n",
       "16  29.407208  75.000000  64.583333  60.416667  54.166667  45.833333  \n",
       "17  24.974883  74.509804  62.745098  54.901961  47.058824  39.215686  \n",
       "18  34.594156  65.789474  57.894737  57.894737  55.263158  50.000000  \n",
       "19  25.518867  70.833333  58.333333  54.166667  47.916667  39.583333  \n",
       "20  36.549019  82.857143  71.428571  65.714286  62.857143  51.428571  \n",
       "21  42.259228  76.315789  71.052632  65.789474  60.526316  52.631579  "
      ]
     },
     "execution_count": 15,
     "metadata": {},
     "output_type": "execute_result"
    }
   ],
   "source": [
    "non_train_metrics_df"
   ]
  },
  {
   "cell_type": "code",
   "execution_count": 3,
   "id": "3e72f76a-cc71-49d2-a2c0-8cae48dad774",
   "metadata": {},
   "outputs": [],
   "source": [
    "train_metrics_df= pd.read_csv(\"./../../../data/model_learning/comparison/scores/baselines_replica/train_scores_kfold.csv\")\n",
    "val_metrics_df = pd.read_csv(\"./../../../data/model_learning/comparison/scores/baselines_replica/val_scores_kfold.csv\")\n",
    "test_metrics_df = pd.read_csv(\"./../../../data/model_learning/comparison/scores/baselines_replica/test_scores_kfold.csv\")\n",
    "non_train_metrics_df = pd.read_csv(\"./../../../data/model_learning/comparison/scores/baselines_replica/non_train_scores_kfold.csv\")"
   ]
  },
  {
   "cell_type": "code",
   "execution_count": 4,
   "id": "813c9054-2c6f-41aa-984b-62e7b5ba30ba",
   "metadata": {},
   "outputs": [
    {
     "name": "stderr",
     "output_type": "stream",
     "text": [
      "C:\\Users\\ravin\\AppData\\Local\\Temp\\ipykernel_26512\\3749065824.py:2: FutureWarning: ['version'] did not aggregate successfully. If any error is raised this will raise in a future version of pandas. Drop these columns/ops to avoid this warning.\n",
      "  a = score_dataframe.groupby(\"model\").agg(['mean', 'std'])\n"
     ]
    },
    {
     "data": {
      "text/html": [
       "<div>\n",
       "<style scoped>\n",
       "    .dataframe tbody tr th:only-of-type {\n",
       "        vertical-align: middle;\n",
       "    }\n",
       "\n",
       "    .dataframe tbody tr th {\n",
       "        vertical-align: top;\n",
       "    }\n",
       "\n",
       "    .dataframe thead th {\n",
       "        text-align: right;\n",
       "    }\n",
       "</style>\n",
       "<table border=\"1\" class=\"dataframe\">\n",
       "  <thead>\n",
       "    <tr style=\"text-align: right;\">\n",
       "      <th></th>\n",
       "      <th>model</th>\n",
       "      <th>MP</th>\n",
       "      <th>MMP</th>\n",
       "      <th>MAP</th>\n",
       "      <th>R@400</th>\n",
       "      <th>R@200</th>\n",
       "      <th>R@100</th>\n",
       "      <th>R@50</th>\n",
       "      <th>R@20</th>\n",
       "    </tr>\n",
       "  </thead>\n",
       "  <tbody>\n",
       "    <tr>\n",
       "      <th>0</th>\n",
       "      <td>Clus-Replica</td>\n",
       "      <td>637.17 ± 49.67</td>\n",
       "      <td>769.36 ± 72.87</td>\n",
       "      <td>23.15 ± 2.47</td>\n",
       "      <td>69.06 ± 1.99</td>\n",
       "      <td>59.73 ± 2.33</td>\n",
       "      <td>53.38 ± 2.5</td>\n",
       "      <td>46.76 ± 3.19</td>\n",
       "      <td>39.17 ± 3.6</td>\n",
       "    </tr>\n",
       "    <tr>\n",
       "      <th>1</th>\n",
       "      <td>Mini-Replica</td>\n",
       "      <td>575.88 ± 52.21</td>\n",
       "      <td>688.71 ± 84.05</td>\n",
       "      <td>23.8 ± 2.87</td>\n",
       "      <td>69.56 ± 2.97</td>\n",
       "      <td>62.43 ± 3.44</td>\n",
       "      <td>54.69 ± 4.15</td>\n",
       "      <td>48.34 ± 4.06</td>\n",
       "      <td>39.9 ± 3.93</td>\n",
       "    </tr>\n",
       "  </tbody>\n",
       "</table>\n",
       "</div>"
      ],
      "text/plain": [
       "          model              MP             MMP           MAP         R@400  \\\n",
       "0  Clus-Replica  637.17 ± 49.67  769.36 ± 72.87  23.15 ± 2.47  69.06 ± 1.99   \n",
       "1  Mini-Replica  575.88 ± 52.21  688.71 ± 84.05   23.8 ± 2.87  69.56 ± 2.97   \n",
       "\n",
       "          R@200         R@100          R@50         R@20  \n",
       "0  59.73 ± 2.33   53.38 ± 2.5  46.76 ± 3.19  39.17 ± 3.6  \n",
       "1  62.43 ± 3.44  54.69 ± 4.15  48.34 ± 4.06  39.9 ± 3.93  "
      ]
     },
     "execution_count": 4,
     "metadata": {},
     "output_type": "execute_result"
    }
   ],
   "source": [
    "get_averaged_df(train_metrics_df)"
   ]
  },
  {
   "cell_type": "code",
   "execution_count": 5,
   "id": "37415269-3594-4c52-8b2f-d30286426ce4",
   "metadata": {},
   "outputs": [
    {
     "name": "stderr",
     "output_type": "stream",
     "text": [
      "C:\\Users\\ravin\\AppData\\Local\\Temp\\ipykernel_26512\\3749065824.py:2: FutureWarning: ['version'] did not aggregate successfully. If any error is raised this will raise in a future version of pandas. Drop these columns/ops to avoid this warning.\n",
      "  a = score_dataframe.groupby(\"model\").agg(['mean', 'std'])\n"
     ]
    },
    {
     "data": {
      "text/html": [
       "<div>\n",
       "<style scoped>\n",
       "    .dataframe tbody tr th:only-of-type {\n",
       "        vertical-align: middle;\n",
       "    }\n",
       "\n",
       "    .dataframe tbody tr th {\n",
       "        vertical-align: top;\n",
       "    }\n",
       "\n",
       "    .dataframe thead th {\n",
       "        text-align: right;\n",
       "    }\n",
       "</style>\n",
       "<table border=\"1\" class=\"dataframe\">\n",
       "  <thead>\n",
       "    <tr style=\"text-align: right;\">\n",
       "      <th></th>\n",
       "      <th>model</th>\n",
       "      <th>MP</th>\n",
       "      <th>MMP</th>\n",
       "      <th>MAP</th>\n",
       "      <th>R@400</th>\n",
       "      <th>R@200</th>\n",
       "      <th>R@100</th>\n",
       "      <th>R@50</th>\n",
       "      <th>R@20</th>\n",
       "    </tr>\n",
       "  </thead>\n",
       "  <tbody>\n",
       "    <tr>\n",
       "      <th>0</th>\n",
       "      <td>Clus-Replica</td>\n",
       "      <td>587.53 ± 128.07</td>\n",
       "      <td>701.14 ± 257.2</td>\n",
       "      <td>27.35 ± 9.6</td>\n",
       "      <td>68.86 ± 6.24</td>\n",
       "      <td>61.6 ± 7.49</td>\n",
       "      <td>56.22 ± 7.23</td>\n",
       "      <td>50.81 ± 8.6</td>\n",
       "      <td>41.11 ± 11.4</td>\n",
       "    </tr>\n",
       "    <tr>\n",
       "      <th>1</th>\n",
       "      <td>Mini-Replica</td>\n",
       "      <td>550.95 ± 145.63</td>\n",
       "      <td>691.7 ± 321.34</td>\n",
       "      <td>28.73 ± 11.77</td>\n",
       "      <td>70.99 ± 5.94</td>\n",
       "      <td>60.4 ± 9.88</td>\n",
       "      <td>51.47 ± 10.25</td>\n",
       "      <td>45.1 ± 13.32</td>\n",
       "      <td>39.34 ± 12.55</td>\n",
       "    </tr>\n",
       "  </tbody>\n",
       "</table>\n",
       "</div>"
      ],
      "text/plain": [
       "          model               MP             MMP            MAP         R@400  \\\n",
       "0  Clus-Replica  587.53 ± 128.07  701.14 ± 257.2    27.35 ± 9.6  68.86 ± 6.24   \n",
       "1  Mini-Replica  550.95 ± 145.63  691.7 ± 321.34  28.73 ± 11.77  70.99 ± 5.94   \n",
       "\n",
       "         R@200          R@100          R@50           R@20  \n",
       "0  61.6 ± 7.49   56.22 ± 7.23   50.81 ± 8.6   41.11 ± 11.4  \n",
       "1  60.4 ± 9.88  51.47 ± 10.25  45.1 ± 13.32  39.34 ± 12.55  "
      ]
     },
     "execution_count": 5,
     "metadata": {},
     "output_type": "execute_result"
    }
   ],
   "source": [
    "get_averaged_df(val_metrics_df)"
   ]
  },
  {
   "cell_type": "code",
   "execution_count": 6,
   "id": "04004f19-2b2c-484a-88ff-5ff9c3d4b956",
   "metadata": {},
   "outputs": [
    {
     "name": "stderr",
     "output_type": "stream",
     "text": [
      "C:\\Users\\ravin\\AppData\\Local\\Temp\\ipykernel_26512\\3749065824.py:2: FutureWarning: ['version'] did not aggregate successfully. If any error is raised this will raise in a future version of pandas. Drop these columns/ops to avoid this warning.\n",
      "  a = score_dataframe.groupby(\"model\").agg(['mean', 'std'])\n"
     ]
    },
    {
     "data": {
      "text/html": [
       "<div>\n",
       "<style scoped>\n",
       "    .dataframe tbody tr th:only-of-type {\n",
       "        vertical-align: middle;\n",
       "    }\n",
       "\n",
       "    .dataframe tbody tr th {\n",
       "        vertical-align: top;\n",
       "    }\n",
       "\n",
       "    .dataframe thead th {\n",
       "        text-align: right;\n",
       "    }\n",
       "</style>\n",
       "<table border=\"1\" class=\"dataframe\">\n",
       "  <thead>\n",
       "    <tr style=\"text-align: right;\">\n",
       "      <th></th>\n",
       "      <th>model</th>\n",
       "      <th>MP</th>\n",
       "      <th>MMP</th>\n",
       "      <th>MAP</th>\n",
       "      <th>R@400</th>\n",
       "      <th>R@200</th>\n",
       "      <th>R@100</th>\n",
       "      <th>R@50</th>\n",
       "      <th>R@20</th>\n",
       "    </tr>\n",
       "  </thead>\n",
       "  <tbody>\n",
       "    <tr>\n",
       "      <th>0</th>\n",
       "      <td>Clus-Replica</td>\n",
       "      <td>526.46 ± 139.92</td>\n",
       "      <td>536.8 ± 214.68</td>\n",
       "      <td>33.09 ± 8.47</td>\n",
       "      <td>76.37 ± 8.65</td>\n",
       "      <td>67.11 ± 5.78</td>\n",
       "      <td>63.04 ± 6.7</td>\n",
       "      <td>58.1 ± 8.99</td>\n",
       "      <td>49.34 ± 10.43</td>\n",
       "    </tr>\n",
       "    <tr>\n",
       "      <th>1</th>\n",
       "      <td>Mini-Replica</td>\n",
       "      <td>420.33 ± 140.99</td>\n",
       "      <td>416.9 ± 263.74</td>\n",
       "      <td>32.67 ± 10.78</td>\n",
       "      <td>75.83 ± 9.27</td>\n",
       "      <td>69.43 ± 13.49</td>\n",
       "      <td>61.4 ± 13.76</td>\n",
       "      <td>58.16 ± 16.5</td>\n",
       "      <td>50.04 ± 15.93</td>\n",
       "    </tr>\n",
       "  </tbody>\n",
       "</table>\n",
       "</div>"
      ],
      "text/plain": [
       "          model               MP             MMP            MAP         R@400  \\\n",
       "0  Clus-Replica  526.46 ± 139.92  536.8 ± 214.68   33.09 ± 8.47  76.37 ± 8.65   \n",
       "1  Mini-Replica  420.33 ± 140.99  416.9 ± 263.74  32.67 ± 10.78  75.83 ± 9.27   \n",
       "\n",
       "           R@200         R@100          R@50           R@20  \n",
       "0   67.11 ± 5.78   63.04 ± 6.7   58.1 ± 8.99  49.34 ± 10.43  \n",
       "1  69.43 ± 13.49  61.4 ± 13.76  58.16 ± 16.5  50.04 ± 15.93  "
      ]
     },
     "execution_count": 6,
     "metadata": {},
     "output_type": "execute_result"
    }
   ],
   "source": [
    "get_averaged_df(test_metrics_df)"
   ]
  },
  {
   "cell_type": "code",
   "execution_count": 7,
   "id": "406f43d5-9510-4496-a788-79d793a11bb3",
   "metadata": {},
   "outputs": [
    {
     "name": "stderr",
     "output_type": "stream",
     "text": [
      "C:\\Users\\ravin\\AppData\\Local\\Temp\\ipykernel_26512\\3749065824.py:2: FutureWarning: ['version'] did not aggregate successfully. If any error is raised this will raise in a future version of pandas. Drop these columns/ops to avoid this warning.\n",
      "  a = score_dataframe.groupby(\"model\").agg(['mean', 'std'])\n"
     ]
    },
    {
     "data": {
      "text/html": [
       "<div>\n",
       "<style scoped>\n",
       "    .dataframe tbody tr th:only-of-type {\n",
       "        vertical-align: middle;\n",
       "    }\n",
       "\n",
       "    .dataframe tbody tr th {\n",
       "        vertical-align: top;\n",
       "    }\n",
       "\n",
       "    .dataframe thead th {\n",
       "        text-align: right;\n",
       "    }\n",
       "</style>\n",
       "<table border=\"1\" class=\"dataframe\">\n",
       "  <thead>\n",
       "    <tr style=\"text-align: right;\">\n",
       "      <th></th>\n",
       "      <th>model</th>\n",
       "      <th>MP</th>\n",
       "      <th>MMP</th>\n",
       "      <th>MAP</th>\n",
       "      <th>R@400</th>\n",
       "      <th>R@200</th>\n",
       "      <th>R@100</th>\n",
       "      <th>R@50</th>\n",
       "      <th>R@20</th>\n",
       "    </tr>\n",
       "  </thead>\n",
       "  <tbody>\n",
       "    <tr>\n",
       "      <th>0</th>\n",
       "      <td>Clus-Replica</td>\n",
       "      <td>555.1 ± 103.66</td>\n",
       "      <td>617.31 ± 163.74</td>\n",
       "      <td>29.61 ± 7.77</td>\n",
       "      <td>72.2 ± 5.27</td>\n",
       "      <td>64.21 ± 5.06</td>\n",
       "      <td>59.12 ± 5.21</td>\n",
       "      <td>53.57 ± 6.6</td>\n",
       "      <td>44.23 ± 8.74</td>\n",
       "    </tr>\n",
       "    <tr>\n",
       "      <th>1</th>\n",
       "      <td>Mini-Replica</td>\n",
       "      <td>491.16 ± 116.86</td>\n",
       "      <td>567.04 ± 235.21</td>\n",
       "      <td>30.1 ± 9.64</td>\n",
       "      <td>73.19 ± 5.88</td>\n",
       "      <td>63.54 ± 8.15</td>\n",
       "      <td>54.89 ± 8.02</td>\n",
       "      <td>49.61 ± 9.32</td>\n",
       "      <td>43.09 ± 9.79</td>\n",
       "    </tr>\n",
       "  </tbody>\n",
       "</table>\n",
       "</div>"
      ],
      "text/plain": [
       "          model               MP              MMP           MAP         R@400  \\\n",
       "0  Clus-Replica   555.1 ± 103.66  617.31 ± 163.74  29.61 ± 7.77   72.2 ± 5.27   \n",
       "1  Mini-Replica  491.16 ± 116.86  567.04 ± 235.21   30.1 ± 9.64  73.19 ± 5.88   \n",
       "\n",
       "          R@200         R@100          R@50          R@20  \n",
       "0  64.21 ± 5.06  59.12 ± 5.21   53.57 ± 6.6  44.23 ± 8.74  \n",
       "1  63.54 ± 8.15  54.89 ± 8.02  49.61 ± 9.32  43.09 ± 9.79  "
      ]
     },
     "execution_count": 7,
     "metadata": {},
     "output_type": "execute_result"
    }
   ],
   "source": [
    "get_averaged_df(non_train_metrics_df)"
   ]
  },
  {
   "cell_type": "code",
   "execution_count": null,
   "id": "1f9fb90a-0bbc-4e29-ada9-010402b12a4e",
   "metadata": {},
   "outputs": [],
   "source": []
  }
 ],
 "metadata": {
  "kernelspec": {
   "display_name": "unesco_drawings",
   "language": "python",
   "name": "unesco_drawings"
  },
  "language_info": {
   "codemirror_mode": {
    "name": "ipython",
    "version": 3
   },
   "file_extension": ".py",
   "mimetype": "text/x-python",
   "name": "python",
   "nbconvert_exporter": "python",
   "pygments_lexer": "ipython3",
   "version": "3.9.7"
  }
 },
 "nbformat": 4,
 "nbformat_minor": 5
}
