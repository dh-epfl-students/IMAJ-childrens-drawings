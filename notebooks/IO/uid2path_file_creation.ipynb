{
 "cells": [
  {
   "cell_type": "markdown",
   "id": "965c6941-5b6f-45ba-a506-9335615990e5",
   "metadata": {},
   "source": [
    "# Id to Path Mapping\n",
    "\n",
    "- This notebook combines the metadata of drawings and artworks and create a single pickle with mapping between the ID of the artwork or drawing and the path."
   ]
  },
  {
   "cell_type": "code",
   "execution_count": 1,
   "id": "ad89b825-69bc-4d9a-b3ad-91a78dec1c70",
   "metadata": {},
   "outputs": [],
   "source": [
    "import pandas as pd\n",
    "import pickle"
   ]
  },
  {
   "cell_type": "code",
   "execution_count": 2,
   "id": "1f35bab3-39e1-4582-9576-c3609cceceee",
   "metadata": {},
   "outputs": [],
   "source": [
    "# wikiart_metadata = \"./../../data/generated/metadata/wikiart_metadata.csv\"\n",
    "famous_artworks_metadata = \"./../../data/text_data/metadata/famous_artworks_metadata_complete.csv\"\n",
    "drawings_metadata = \"./../../data/text_data/metadata/drawings_full_metadata.csv\""
   ]
  },
  {
   "cell_type": "code",
   "execution_count": 3,
   "id": "9dc196df-c408-450d-aac0-bedd6378c5d6",
   "metadata": {},
   "outputs": [],
   "source": [
    "# wikiart_df = pd.read_csv(wikiart_metadata)\n",
    "famous_artwork_df = pd.read_csv(famous_artworks_metadata)\n",
    "drawings_df = pd.read_csv(drawings_metadata)"
   ]
  },
  {
   "cell_type": "code",
   "execution_count": 4,
   "id": "5972c7f5-218a-4df8-8045-9defda8ac987",
   "metadata": {},
   "outputs": [],
   "source": [
    "# wikiart_uid_path = wikiart_df[[\"uid\", \"path\"]]\n",
    "famous_artwork_uid_path = famous_artwork_df[[\"uid\", \"path\"]]\n",
    "\n",
    "drawings_uid_path = drawings_df[[\"uid\", \"path\"]]\n",
    "\n",
    "# name_to_path_df = pd.concat([drawings_learning_uid_path, wikiart_uid_path], ignore_index=True)\n",
    "name_to_path_df = pd.concat([drawings_uid_path, famous_artwork_uid_path], ignore_index=True)"
   ]
  },
  {
   "cell_type": "code",
   "execution_count": 5,
   "id": "bff43c38-287f-479a-a34c-2d02061bc97f",
   "metadata": {},
   "outputs": [],
   "source": [
    "with open(\"./../../data/text_data/uid2path.pkl\", 'wb') as file_handle:\n",
    "    pickle.dump(name_to_path_df, file_handle)\n",
    "\n",
    "# name_to_path_df.to_csv(\"./../../data/generated/uid2path.csv\", index=False)"
   ]
  },
  {
   "cell_type": "code",
   "execution_count": null,
   "id": "1fe065a0-bfc3-42f5-92da-45bb6ccaedd8",
   "metadata": {},
   "outputs": [],
   "source": []
  }
 ],
 "metadata": {
  "kernelspec": {
   "display_name": "unesco_drawings",
   "language": "python",
   "name": "unesco_drawings"
  },
  "language_info": {
   "codemirror_mode": {
    "name": "ipython",
    "version": 3
   },
   "file_extension": ".py",
   "mimetype": "text/x-python",
   "name": "python",
   "nbconvert_exporter": "python",
   "pygments_lexer": "ipython3",
   "version": "3.9.7"
  }
 },
 "nbformat": 4,
 "nbformat_minor": 5
}
