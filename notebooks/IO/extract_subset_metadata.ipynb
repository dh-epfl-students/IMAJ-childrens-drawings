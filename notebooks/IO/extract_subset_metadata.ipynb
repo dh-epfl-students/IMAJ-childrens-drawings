{
 "cells": [
  {
   "cell_type": "markdown",
   "id": "7d9e401a-fec6-4ed4-8a96-6b160db933ba",
   "metadata": {},
   "source": [
    "# Extract Metadata of Youth Drawings\n",
    "\n",
    "- This notebook is used to extract metadata of the some parts of the drawings\n",
    "    1. The children drawings between age 14-25 are extracted as project uses drawings in that age group. \n",
    "    2. The children drawings that are paired with the artworks\n",
    "    3. The children drawings that are paired with the artworks and used in the training of the CNN (some pairs are not declared ambiguious and not used in training)"
   ]
  },
  {
   "cell_type": "code",
   "execution_count": 1,
   "id": "d9f1de89-66e6-483c-bb6d-8f047276adf5",
   "metadata": {},
   "outputs": [],
   "source": [
    "import pandas as pd"
   ]
  },
  {
   "cell_type": "code",
   "execution_count": 2,
   "id": "a7686e30-246e-40ae-b743-ee2b6597eb6a",
   "metadata": {},
   "outputs": [],
   "source": [
    "# The relative location to the folder with drawings \n",
    "drawings_unzipped_folder = \"./../../data/drawings/\"\n",
    "annotations_by_hand = \"./../../data/manual_annotation/annotated_drawing_artwork_pairs.csv\"\n",
    "children_drawings = \"./../../data/text_data/metadata/all_children_drawings.csv\""
   ]
  },
  {
   "cell_type": "code",
   "execution_count": 3,
   "id": "03456862-b78b-4833-aa0f-7335d7b3959e",
   "metadata": {},
   "outputs": [],
   "source": [
    "year_wise_df = pd.read_csv(children_drawings)\n",
    "annotated_pairs = pd.read_csv(annotations_by_hand)"
   ]
  },
  {
   "cell_type": "code",
   "execution_count": 4,
   "id": "72c7d6e1-2b25-492c-93ff-5264ce0066aa",
   "metadata": {},
   "outputs": [],
   "source": [
    "year_wise_df[\"uid\"] = year_wise_df[\"path\"].str.split(\"/\").str[-1].str[:-4]\n",
    "\n",
    "year_wise_df_14_25 = year_wise_df[year_wise_df[\"age_group\"].isin([\"14-17\", \"18-25\"])]\n",
    "\n",
    "drawings_paired = annotated_pairs[\"drawing_id\"].values\n",
    "\n",
    "year_wise_df_paired = year_wise_df[year_wise_df[\"uid\"].isin(drawings_paired)]\n",
    "\n",
    "drawings_learning = annotated_pairs[annotated_pairs[\"pair\"]==True][\"drawing_id\"].values\n",
    "\n",
    "year_wise_df_learning = year_wise_df[year_wise_df[\"uid\"].isin(drawings_learning)]"
   ]
  },
  {
   "cell_type": "code",
   "execution_count": 5,
   "id": "23058e1b-6f4e-4f0e-b4d4-713cda2cc626",
   "metadata": {},
   "outputs": [],
   "source": [
    "year_wise_df_learning.to_csv(\"./../../data/text_data/metadata/drawings_learning_metadata.csv\", index=False)\n",
    "year_wise_df_paired.to_csv(\"./../../data/text_data/metadata/drawings_paired_metadata.csv\", index=False)\n",
    "year_wise_df_14_25.to_csv(\"./../../data/text_data/metadata/drawings_14_25_metadata.csv\", index=False)"
   ]
  },
  {
   "cell_type": "code",
   "execution_count": null,
   "id": "e33ce1f0-f8c5-43b5-b8b8-8c8e98282be5",
   "metadata": {},
   "outputs": [],
   "source": []
  }
 ],
 "metadata": {
  "kernelspec": {
   "display_name": "unesco_drawings",
   "language": "python",
   "name": "unesco_drawings"
  },
  "language_info": {
   "codemirror_mode": {
    "name": "ipython",
    "version": 3
   },
   "file_extension": ".py",
   "mimetype": "text/x-python",
   "name": "python",
   "nbconvert_exporter": "python",
   "pygments_lexer": "ipython3",
   "version": "3.9.7"
  }
 },
 "nbformat": 4,
 "nbformat_minor": 5
}
