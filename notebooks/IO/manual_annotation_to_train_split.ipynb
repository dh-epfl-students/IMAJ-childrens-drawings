{
 "cells": [
  {
   "cell_type": "markdown",
   "id": "0a00f406-4ffe-4e76-a5d5-a898763a66f0",
   "metadata": {},
   "source": [
    "# Splitting the drawing-artwork pairs to train the models\n",
    "\n",
    "- This notebook contains the code to split the drawing-artwork paris into train, validation and test sets to train and evaluate the CNN model."
   ]
  },
  {
   "cell_type": "code",
   "execution_count": null,
   "id": "1dfe756e-4193-40ca-8db8-a7f30fa03382",
   "metadata": {},
   "outputs": [],
   "source": [
    "import pandas as pd\n",
    "import sys\n",
    "import pickle\n",
    "\n",
    "sys.path.insert(0, \"./../../src/utils/\")\n",
    "\n",
    "from utils import get_train_test_split\n",
    "\n",
    "import matplotlib.pyplot as plt\n",
    "import matplotlib.image as img\n",
    "import numpy as np\n",
    "from tqdm import tqdm\n",
    "\n",
    "from matplotlib.backends.backend_pdf import PdfPages\n",
    "import matplotlib.gridspec as gridspec\n",
    "\n",
    "from utils import get_scores"
   ]
  },
  {
   "cell_type": "code",
   "execution_count": null,
   "id": "dc1dc547-240f-4722-a5ba-0634659df052",
   "metadata": {},
   "outputs": [],
   "source": [
    "data_folder = \"./../../data/\"\n",
    "annotations_by_hand = \"./../../data/manual_annotation/annotated_drawing_artwork_pairs.csv\""
   ]
  },
  {
   "cell_type": "code",
   "execution_count": null,
   "id": "026f22cb-1077-444a-b362-6da752553e61",
   "metadata": {},
   "outputs": [],
   "source": [
    "manually_annotated_df = pd.read_csv(annotations_by_hand)"
   ]
  },
  {
   "cell_type": "code",
   "execution_count": null,
   "id": "01842046-546f-4da6-823d-032bc6e7a508",
   "metadata": {},
   "outputs": [],
   "source": [
    "# Remove style augmented drawings to create train, test split\n",
    "drawing_artwork_pair_original = manually_annotated_df[(manually_annotated_df[\"pair\"]==True) & (manually_annotated_df[\"drawing_id\"]==manually_annotated_df[\"parent\"])]\n",
    "drawing_artwork_pair_original[\"uid_connection\"] = drawing_artwork_pair_original[\"drawing_id\"] + \"_\" + drawing_artwork_pair_original[\"artwork_id\"]\n",
    "drawing_artwork_pair_original[\"annotated\"] = \"initial\""
   ]
  },
  {
   "cell_type": "code",
   "execution_count": null,
   "id": "156d9151-13dc-41c7-9e7a-1dd02cc29698",
   "metadata": {},
   "outputs": [],
   "source": [
    "drawing_artwork_pair_original = drawing_artwork_pair_original.sample(frac=1).reset_index(drop=True)\n",
    "drawing_artwork_pair_train_test_split_original = get_train_test_split(drawing_artwork_pair_original)\n",
    "drawing_artwork_pair_train_test_split_original.set.value_counts()"
   ]
  },
  {
   "cell_type": "code",
   "execution_count": null,
   "id": "9e386b45-c77c-43cd-b21f-2cf1986cf266",
   "metadata": {},
   "outputs": [],
   "source": [
    "drawing_artwork_pair_train_test_split_original.to_csv(\"./../../data/model_learning/drawing_artwork_pair_train_test_split.csv\", index=False)"
   ]
  },
  {
   "cell_type": "markdown",
   "id": "d309b446-b9be-4e24-9f2a-cc3b76dbd62e",
   "metadata": {
    "tags": []
   },
   "source": []
  },
  {
   "cell_type": "code",
   "execution_count": null,
   "id": "4d959b07-c356-4fd1-9e63-d6031639b100",
   "metadata": {},
   "outputs": [],
   "source": []
  }
 ],
 "metadata": {
  "kernelspec": {
   "display_name": "unesco_drawings",
   "language": "python",
   "name": "unesco_drawings"
  },
  "language_info": {
   "codemirror_mode": {
    "name": "ipython",
    "version": 3
   },
   "file_extension": ".py",
   "mimetype": "text/x-python",
   "name": "python",
   "nbconvert_exporter": "python",
   "pygments_lexer": "ipython3",
   "version": "3.9.7"
  }
 },
 "nbformat": 4,
 "nbformat_minor": 5
}
