{
 "cells": [
  {
   "cell_type": "markdown",
   "id": "330a58d4-b6b4-47c0-bdfd-8e45d69af038",
   "metadata": {},
   "source": [
    "# Metadata file creation for the drawings\n",
    "\n",
    "- This notebook contains the code to create a metadata file for the famous artworks\n",
    "- Data from: https://www.kaggle.com/datasets/ikarus777/best-artworks-of-all-time"
   ]
  },
  {
   "cell_type": "code",
   "execution_count": 1,
   "id": "45a82a67-78be-40c2-bd16-dd285ef1da33",
   "metadata": {},
   "outputs": [],
   "source": [
    "import glob\n",
    "import pandas as pd\n",
    "\n",
    "from tqdm import tqdm"
   ]
  },
  {
   "cell_type": "code",
   "execution_count": 2,
   "id": "4e2cbb7a-59c0-434f-a225-acb271b24258",
   "metadata": {},
   "outputs": [],
   "source": [
    "famous_artworks_drawings = glob.glob(\"./../../data/image_data/famous_artworks/**/*.jpg\")"
   ]
  },
  {
   "cell_type": "code",
   "execution_count": 3,
   "id": "74107cd7-b878-4ccb-8c36-187bb6cf9f25",
   "metadata": {},
   "outputs": [],
   "source": [
    "def get_details(relative_path: str):\n",
    "    relative_path = relative_path.replace(\"\\\\\", \"/\")\n",
    "    abs_path = relative_path.split(\"/\", 6)[-1]\n",
    "    artist_name, artwork_name = abs_path.split(\"/\")\n",
    "    return [artwork_name[:-4], artist_name, \"image_data/famous_artworks/\" + abs_path]"
   ]
  },
  {
   "cell_type": "code",
   "execution_count": 4,
   "id": "ed5782b8-2f7d-4108-a3dc-b987e57fbbf3",
   "metadata": {},
   "outputs": [
    {
     "name": "stderr",
     "output_type": "stream",
     "text": [
      "100%|██████████████████████████████████████████████████████████████████████████| 8577/8577 [00:00<00:00, 781766.42it/s]\n"
     ]
    },
    {
     "data": {
      "text/html": [
       "<div>\n",
       "<style scoped>\n",
       "    .dataframe tbody tr th:only-of-type {\n",
       "        vertical-align: middle;\n",
       "    }\n",
       "\n",
       "    .dataframe tbody tr th {\n",
       "        vertical-align: top;\n",
       "    }\n",
       "\n",
       "    .dataframe thead th {\n",
       "        text-align: right;\n",
       "    }\n",
       "</style>\n",
       "<table border=\"1\" class=\"dataframe\">\n",
       "  <thead>\n",
       "    <tr style=\"text-align: right;\">\n",
       "      <th></th>\n",
       "      <th>uid</th>\n",
       "      <th>artist</th>\n",
       "      <th>path</th>\n",
       "    </tr>\n",
       "  </thead>\n",
       "  <tbody>\n",
       "    <tr>\n",
       "      <th>0</th>\n",
       "      <td>Albrecht_Du╠êrer_1</td>\n",
       "      <td>Albrecht_Du╠êrer</td>\n",
       "      <td>image_data/famous_artworks/Albrecht_Du╠êrer/Al...</td>\n",
       "    </tr>\n",
       "    <tr>\n",
       "      <th>1</th>\n",
       "      <td>Albrecht_Du╠êrer_10</td>\n",
       "      <td>Albrecht_Du╠êrer</td>\n",
       "      <td>image_data/famous_artworks/Albrecht_Du╠êrer/Al...</td>\n",
       "    </tr>\n",
       "    <tr>\n",
       "      <th>2</th>\n",
       "      <td>Albrecht_Du╠êrer_100</td>\n",
       "      <td>Albrecht_Du╠êrer</td>\n",
       "      <td>image_data/famous_artworks/Albrecht_Du╠êrer/Al...</td>\n",
       "    </tr>\n",
       "    <tr>\n",
       "      <th>3</th>\n",
       "      <td>Albrecht_Du╠êrer_101</td>\n",
       "      <td>Albrecht_Du╠êrer</td>\n",
       "      <td>image_data/famous_artworks/Albrecht_Du╠êrer/Al...</td>\n",
       "    </tr>\n",
       "    <tr>\n",
       "      <th>4</th>\n",
       "      <td>Albrecht_Du╠êrer_102</td>\n",
       "      <td>Albrecht_Du╠êrer</td>\n",
       "      <td>image_data/famous_artworks/Albrecht_Du╠êrer/Al...</td>\n",
       "    </tr>\n",
       "    <tr>\n",
       "      <th>...</th>\n",
       "      <td>...</td>\n",
       "      <td>...</td>\n",
       "      <td>...</td>\n",
       "    </tr>\n",
       "    <tr>\n",
       "      <th>8572</th>\n",
       "      <td>William_Turner_65</td>\n",
       "      <td>William_Turner</td>\n",
       "      <td>image_data/famous_artworks/William_Turner/Will...</td>\n",
       "    </tr>\n",
       "    <tr>\n",
       "      <th>8573</th>\n",
       "      <td>William_Turner_66</td>\n",
       "      <td>William_Turner</td>\n",
       "      <td>image_data/famous_artworks/William_Turner/Will...</td>\n",
       "    </tr>\n",
       "    <tr>\n",
       "      <th>8574</th>\n",
       "      <td>William_Turner_7</td>\n",
       "      <td>William_Turner</td>\n",
       "      <td>image_data/famous_artworks/William_Turner/Will...</td>\n",
       "    </tr>\n",
       "    <tr>\n",
       "      <th>8575</th>\n",
       "      <td>William_Turner_8</td>\n",
       "      <td>William_Turner</td>\n",
       "      <td>image_data/famous_artworks/William_Turner/Will...</td>\n",
       "    </tr>\n",
       "    <tr>\n",
       "      <th>8576</th>\n",
       "      <td>William_Turner_9</td>\n",
       "      <td>William_Turner</td>\n",
       "      <td>image_data/famous_artworks/William_Turner/Will...</td>\n",
       "    </tr>\n",
       "  </tbody>\n",
       "</table>\n",
       "<p>8577 rows × 3 columns</p>\n",
       "</div>"
      ],
      "text/plain": [
       "                       uid            artist  \\\n",
       "0       Albrecht_Du╠êrer_1  Albrecht_Du╠êrer   \n",
       "1      Albrecht_Du╠êrer_10  Albrecht_Du╠êrer   \n",
       "2     Albrecht_Du╠êrer_100  Albrecht_Du╠êrer   \n",
       "3     Albrecht_Du╠êrer_101  Albrecht_Du╠êrer   \n",
       "4     Albrecht_Du╠êrer_102  Albrecht_Du╠êrer   \n",
       "...                    ...               ...   \n",
       "8572     William_Turner_65    William_Turner   \n",
       "8573     William_Turner_66    William_Turner   \n",
       "8574      William_Turner_7    William_Turner   \n",
       "8575      William_Turner_8    William_Turner   \n",
       "8576      William_Turner_9    William_Turner   \n",
       "\n",
       "                                                   path  \n",
       "0     image_data/famous_artworks/Albrecht_Du╠êrer/Al...  \n",
       "1     image_data/famous_artworks/Albrecht_Du╠êrer/Al...  \n",
       "2     image_data/famous_artworks/Albrecht_Du╠êrer/Al...  \n",
       "3     image_data/famous_artworks/Albrecht_Du╠êrer/Al...  \n",
       "4     image_data/famous_artworks/Albrecht_Du╠êrer/Al...  \n",
       "...                                                 ...  \n",
       "8572  image_data/famous_artworks/William_Turner/Will...  \n",
       "8573  image_data/famous_artworks/William_Turner/Will...  \n",
       "8574  image_data/famous_artworks/William_Turner/Will...  \n",
       "8575  image_data/famous_artworks/William_Turner/Will...  \n",
       "8576  image_data/famous_artworks/William_Turner/Will...  \n",
       "\n",
       "[8577 rows x 3 columns]"
      ]
     },
     "execution_count": 4,
     "metadata": {},
     "output_type": "execute_result"
    }
   ],
   "source": [
    "famous_artworks_name_path = [get_details(draw_rel_path) for draw_rel_path in tqdm(famous_artworks_drawings)]\n",
    "famous_artworks_df = pd.DataFrame(famous_artworks_name_path, columns=[\"uid\", \"artist\", \"path\"])\n",
    "famous_artworks_df"
   ]
  },
  {
   "cell_type": "code",
   "execution_count": 5,
   "id": "d2cf2ee3-ca5d-43a3-b984-11f9b1f2db25",
   "metadata": {},
   "outputs": [],
   "source": [
    "famous_artworks_df.to_csv(\"./../../data/text_data/metadata/famous_artworks_metadata_complete.csv\", index=False)"
   ]
  },
  {
   "cell_type": "code",
   "execution_count": null,
   "id": "80ebf83b-f224-47df-9614-9288ce489cbd",
   "metadata": {},
   "outputs": [],
   "source": []
  }
 ],
 "metadata": {
  "kernelspec": {
   "display_name": "unesco_drawings",
   "language": "python",
   "name": "unesco_drawings"
  },
  "language_info": {
   "codemirror_mode": {
    "name": "ipython",
    "version": 3
   },
   "file_extension": ".py",
   "mimetype": "text/x-python",
   "name": "python",
   "nbconvert_exporter": "python",
   "pygments_lexer": "ipython3",
   "version": "3.9.7"
  }
 },
 "nbformat": 4,
 "nbformat_minor": 5
}
